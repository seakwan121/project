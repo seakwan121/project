{
  "nbformat": 4,
  "nbformat_minor": 0,
  "metadata": {
    "colab": {
      "name": "Projent6_박세관_07.ipynb",
      "provenance": [],
      "collapsed_sections": []
    },
    "kernelspec": {
      "name": "python3",
      "display_name": "Python 3"
    },
    "language_info": {
      "name": "python"
    }
  },
  "cells": [
    {
      "cell_type": "markdown",
      "source": [
        "# 프로젝트 목표\n",
        "1. 코로나 바이러스 분석\n",
        "2. 코로나 바이러스의 영향이 배달 업계에 미친 영향 분석\n",
        "3. 이륜차 사고 분석\n"
      ],
      "metadata": {
        "id": "ipZTeSyBE4XI"
      }
    },
    {
      "cell_type": "markdown",
      "source": [
        "가설\n",
        "1. 배달 주문 건 수 데이터를 구하지 못했지만 이륜차 신고 형황과 이륜차 교통사고율 증가율을 확인하여 코로나로 인한 배달업계의 호황을 분석할 수 있다"
      ],
      "metadata": {
        "id": "Yrn0zoi2JFaQ"
      }
    },
    {
      "cell_type": "markdown",
      "source": [
        "# **데이터셋, 모듈 준비**"
      ],
      "metadata": {
        "id": "M0_gLCVZg1dr"
      }
    },
    {
      "cell_type": "code",
      "source": [
        "!sudo apt-get install -y fonts-nanum\n",
        "!sudo fc-cache -fv\n",
        "!rm ~/.cache/matplotlib -rf"
      ],
      "metadata": {
        "colab": {
          "base_uri": "https://localhost:8080/"
        },
        "id": "yqTHcFtUEfIC",
        "outputId": "cd9c2dd6-3c81-4a82-8130-5b8ca0aca793"
      },
      "execution_count": 32,
      "outputs": [
        {
          "output_type": "stream",
          "name": "stdout",
          "text": [
            "Reading package lists... Done\n",
            "Building dependency tree       \n",
            "Reading state information... Done\n",
            "The following package was automatically installed and is no longer required:\n",
            "  libnvidia-common-470\n",
            "Use 'sudo apt autoremove' to remove it.\n",
            "The following NEW packages will be installed:\n",
            "  fonts-nanum\n",
            "0 upgraded, 1 newly installed, 0 to remove and 39 not upgraded.\n",
            "Need to get 9,604 kB of archives.\n",
            "After this operation, 29.5 MB of additional disk space will be used.\n",
            "Get:1 http://archive.ubuntu.com/ubuntu bionic/universe amd64 fonts-nanum all 20170925-1 [9,604 kB]\n",
            "Fetched 9,604 kB in 3s (3,366 kB/s)\n",
            "debconf: unable to initialize frontend: Dialog\n",
            "debconf: (No usable dialog-like program is installed, so the dialog based frontend cannot be used. at /usr/share/perl5/Debconf/FrontEnd/Dialog.pm line 76, <> line 1.)\n",
            "debconf: falling back to frontend: Readline\n",
            "debconf: unable to initialize frontend: Readline\n",
            "debconf: (This frontend requires a controlling tty.)\n",
            "debconf: falling back to frontend: Teletype\n",
            "dpkg-preconfigure: unable to re-open stdin: \n",
            "Selecting previously unselected package fonts-nanum.\n",
            "(Reading database ... 155320 files and directories currently installed.)\n",
            "Preparing to unpack .../fonts-nanum_20170925-1_all.deb ...\n",
            "Unpacking fonts-nanum (20170925-1) ...\n",
            "Setting up fonts-nanum (20170925-1) ...\n",
            "Processing triggers for fontconfig (2.12.6-0ubuntu2) ...\n",
            "/usr/share/fonts: caching, new cache contents: 0 fonts, 1 dirs\n",
            "/usr/share/fonts/truetype: caching, new cache contents: 0 fonts, 3 dirs\n",
            "/usr/share/fonts/truetype/humor-sans: caching, new cache contents: 1 fonts, 0 dirs\n",
            "/usr/share/fonts/truetype/liberation: caching, new cache contents: 16 fonts, 0 dirs\n",
            "/usr/share/fonts/truetype/nanum: caching, new cache contents: 10 fonts, 0 dirs\n",
            "/usr/local/share/fonts: caching, new cache contents: 0 fonts, 0 dirs\n",
            "/root/.local/share/fonts: skipping, no such directory\n",
            "/root/.fonts: skipping, no such directory\n",
            "/var/cache/fontconfig: cleaning cache directory\n",
            "/root/.cache/fontconfig: not cleaning non-existent cache directory\n",
            "/root/.fontconfig: not cleaning non-existent cache directory\n",
            "fc-cache: succeeded\n"
          ]
        }
      ]
    },
    {
      "cell_type": "code",
      "source": [
        "import matplotlib.pyplot as plt\n",
        "\n",
        "plt.rc('font', family='NanumBarunGothic')"
      ],
      "metadata": {
        "id": "kTeCe3pREgAq"
      },
      "execution_count": 1,
      "outputs": []
    },
    {
      "cell_type": "code",
      "source": [
        "import pandas as pd\n",
        "import warnings\n",
        "warnings.filterwarnings(\"ignore\")\n",
        "pd.set_option('max_columns', None)\n",
        "import os.path\n",
        "import seaborn as sns\n",
        "%matplotlib inline\n",
        "import numpy as np"
      ],
      "metadata": {
        "id": "X-Uq4xFPdp-b"
      },
      "execution_count": 2,
      "outputs": []
    },
    {
      "cell_type": "code",
      "source": [
        "df_Corona = pd.read_excel('drive/My Drive/Data/코로나바이러스감염증-19_확진환자_발생현황_22023.xlsx')\n",
        "df_Bike_accident_2020 = pd.read_csv('drive/My Drive/Data/도로교통공단_가해운전자 차종별 월별 교통사고 통계_20201231.csv', encoding='CP949')\n",
        "df_Bike_accident_gu = pd.read_excel('drive/My Drive/Data/이륜차_사고발생건수.xlsx')\n",
        "df_Bike_violate = pd.read_csv('drive/My Drive/Data/경찰청_이륜차 위반법규별 단속 현황_20220208.csv', encoding='CP949')\n",
        "df_Bicycle = pd.read_excel('drive/MyDrive/Data/자전거 사고 건 수.xlsx')\n",
        "df_Bike_NOA = pd.read_excel('drive/MyDrive/Data/이륜차 사고 건 수.xlsx')"
      ],
      "metadata": {
        "id": "Ko2akt-5eWaa"
      },
      "execution_count": 3,
      "outputs": []
    },
    {
      "cell_type": "code",
      "source": [
        "df_Bike201901 = pd.read_excel('drive/My Drive/Data/2019년_01월_이륜차_신고현황_통계.xlsx')\n",
        "df_Bike201902 = pd.read_excel('drive/My Drive/Data/2019년_02월_이륜차_신고현황_통계.xlsx')\n",
        "df_Bike201903 = pd.read_excel('drive/My Drive/Data/2019년_03월_이륜차_신고현황_통계.xlsx')\n",
        "df_Bike201904 = pd.read_excel('drive/My Drive/Data/2019년_04월_이륜차_신고현황_통계.xlsx')\n",
        "df_Bike201905 = pd.read_excel('drive/My Drive/Data/2019년_05월_이륜차_신고현황_통계.xlsx')\n",
        "df_Bike201906 = pd.read_excel('drive/My Drive/Data/2019년_06월_이륜차_신고현황_통계.xlsx')\n",
        "df_Bike201907 = pd.read_excel('drive/My Drive/Data/2019년_07월_이륜차_신고현황_통계.xlsx')\n",
        "df_Bike201908 = pd.read_excel('drive/My Drive/Data/2019년_08월_이륜차_신고현황_통계.xlsx')\n",
        "df_Bike201909 = pd.read_excel('drive/My Drive/Data/2019년_09월_이륜차_신고현황_통계.xlsx')\n",
        "df_Bike201910 = pd.read_excel('drive/My Drive/Data/2019년_10월_이륜차_신고현황_통계.xlsx')\n",
        "df_Bike201911 = pd.read_excel('drive/My Drive/Data/2019년_11월_이륜차_신고현황_통계.xlsx')\n",
        "df_Bike201912 = pd.read_excel('drive/My Drive/Data/2019년_12월_이륜차_신고현황_통계.xlsx')\n",
        "df_Bike202001 = pd.read_excel('drive/My Drive/Data/2020년_01월_이륜차_신고현황_통계.xlsx')\n",
        "df_Bike202002 = pd.read_excel('drive/My Drive/Data/2020년_02월_이륜차_신고현황_통계.xlsx')\n",
        "df_Bike202003 = pd.read_excel('drive/My Drive/Data/2020년_03월_이륜차_신고현황_통계.xlsx')\n",
        "df_Bike202004 = pd.read_excel('drive/My Drive/Data/2020년_04월_이륜차_신고현황_통계.xlsx')\n",
        "df_Bike202005 = pd.read_excel('drive/My Drive/Data/2020년_05월_이륜차_신고현황_통계.xlsx')\n",
        "df_Bike202006 = pd.read_excel('drive/My Drive/Data/2020년_06월_이륜차_신고현황_통계.xlsx')\n",
        "df_Bike202007 = pd.read_excel('drive/My Drive/Data/2020년_07월_이륜차_신고현황_통계.xlsx')\n",
        "df_Bike202008 = pd.read_excel('drive/My Drive/Data/2020년_08월_이륜차_신고현황_통계.xlsx')\n",
        "df_Bike202009 = pd.read_excel('drive/My Drive/Data/2020년_09월_이륜차_신고현황_통계.xlsx')\n",
        "df_Bike202010 = pd.read_excel('drive/My Drive/Data/2020년_10월_이륜차_신고현황_통계.xlsx')\n",
        "df_Bike202011 = pd.read_excel('drive/My Drive/Data/2020년_11월_이륜차_신고현황_통계.xlsx')\n",
        "df_Bike202012 = pd.read_excel('drive/My Drive/Data/2020년_12월_이륜차_신고현황_통계.xlsx')\n",
        "df_Bike202101 = pd.read_excel('drive/My Drive/Data/2021년_01월_이륜차_신고현황_통계.xlsx')\n",
        "df_Bike202102 = pd.read_excel('drive/My Drive/Data/2021년_02월_이륜차_신고현황_통계.xlsx')\n",
        "df_Bike202103 = pd.read_excel('drive/My Drive/Data/2021년_03월_이륜차_신고현황_통계.xlsx')\n",
        "df_Bike202104 = pd.read_excel('drive/My Drive/Data/2021년_04월_이륜차_신고현황_통계.xlsx')\n",
        "df_Bike202105 = pd.read_excel('drive/My Drive/Data/2021년_05월_이륜차_신고현황_통계.xlsx')\n",
        "df_Bike202106 = pd.read_excel('drive/My Drive/Data/2021년_06월_이륜차_신고현황_통계.xlsx')\n",
        "df_Bike202107 = pd.read_excel('drive/My Drive/Data/2021년_07월_이륜차_신고현황_통계.xlsx')\n",
        "df_Bike202108 = pd.read_excel('drive/My Drive/Data/2021년_08월_이륜차_신고현황_통계.xlsx')\n",
        "df_Bike202109 = pd.read_excel('drive/My Drive/Data/2021년_09월_이륜차_사용현황_통계.xlsx')\n",
        "df_Bike202110 = pd.read_excel('drive/My Drive/Data/2021년_10월_이륜차_신고현황_통계.xlsx')\n",
        "df_Bike202111 = pd.read_excel('drive/My Drive/Data/2021년_11월_이륜차_신고현황_통계.xlsx')\n",
        "df_Bike202112 = pd.read_excel('drive/My Drive/Data/2021년_12월_이륜차_신고현황_통계.xlsx')\n",
        "df_Bike202201 = pd.read_excel('drive/My Drive/Data/2022년_01월_이륜차_사용신고_현황.xlsx')"
      ],
      "metadata": {
        "id": "rfsPpqIDe3Hp"
      },
      "execution_count": 4,
      "outputs": []
    },
    {
      "cell_type": "markdown",
      "source": [
        "# **코로나 확진자 간단 분석**"
      ],
      "metadata": {
        "id": "wdT7GFrSVNKf"
      }
    },
    {
      "cell_type": "code",
      "source": [
        "df_Corona"
      ],
      "metadata": {
        "colab": {
          "base_uri": "https://localhost:8080/",
          "height": 424
        },
        "id": "HKWZSih-_sYG",
        "outputId": "0f612397-f557-480d-d847-f01fff2ecc71"
      },
      "execution_count": 5,
      "outputs": [
        {
          "output_type": "execute_result",
          "data": {
            "text/html": [
              "\n",
              "  <div id=\"df-2e6d431f-0144-4903-b8cd-570259c14052\">\n",
              "    <div class=\"colab-df-container\">\n",
              "      <div>\n",
              "<style scoped>\n",
              "    .dataframe tbody tr th:only-of-type {\n",
              "        vertical-align: middle;\n",
              "    }\n",
              "\n",
              "    .dataframe tbody tr th {\n",
              "        vertical-align: top;\n",
              "    }\n",
              "\n",
              "    .dataframe thead th {\n",
              "        text-align: right;\n",
              "    }\n",
              "</style>\n",
              "<table border=\"1\" class=\"dataframe\">\n",
              "  <thead>\n",
              "    <tr style=\"text-align: right;\">\n",
              "      <th></th>\n",
              "      <th>일자</th>\n",
              "      <th>계(명)</th>\n",
              "      <th>국내발생(명)</th>\n",
              "      <th>해외유입(명)</th>\n",
              "      <th>사망(명)</th>\n",
              "    </tr>\n",
              "  </thead>\n",
              "  <tbody>\n",
              "    <tr>\n",
              "      <th>0</th>\n",
              "      <td>2020-01-20</td>\n",
              "      <td>1</td>\n",
              "      <td>-</td>\n",
              "      <td>1</td>\n",
              "      <td>-</td>\n",
              "    </tr>\n",
              "    <tr>\n",
              "      <th>1</th>\n",
              "      <td>2020-01-21</td>\n",
              "      <td>0</td>\n",
              "      <td>-</td>\n",
              "      <td>-</td>\n",
              "      <td>-</td>\n",
              "    </tr>\n",
              "    <tr>\n",
              "      <th>2</th>\n",
              "      <td>2020-01-22</td>\n",
              "      <td>0</td>\n",
              "      <td>-</td>\n",
              "      <td>-</td>\n",
              "      <td>-</td>\n",
              "    </tr>\n",
              "    <tr>\n",
              "      <th>3</th>\n",
              "      <td>2020-01-23</td>\n",
              "      <td>0</td>\n",
              "      <td>-</td>\n",
              "      <td>-</td>\n",
              "      <td>-</td>\n",
              "    </tr>\n",
              "    <tr>\n",
              "      <th>4</th>\n",
              "      <td>2020-01-24</td>\n",
              "      <td>1</td>\n",
              "      <td>-</td>\n",
              "      <td>1</td>\n",
              "      <td>-</td>\n",
              "    </tr>\n",
              "    <tr>\n",
              "      <th>...</th>\n",
              "      <td>...</td>\n",
              "      <td>...</td>\n",
              "      <td>...</td>\n",
              "      <td>...</td>\n",
              "      <td>...</td>\n",
              "    </tr>\n",
              "    <tr>\n",
              "      <th>761</th>\n",
              "      <td>2022-02-19</td>\n",
              "      <td>102207</td>\n",
              "      <td>102068</td>\n",
              "      <td>139</td>\n",
              "      <td>71</td>\n",
              "    </tr>\n",
              "    <tr>\n",
              "      <th>762</th>\n",
              "      <td>2022-02-20</td>\n",
              "      <td>104827</td>\n",
              "      <td>104730</td>\n",
              "      <td>97</td>\n",
              "      <td>51</td>\n",
              "    </tr>\n",
              "    <tr>\n",
              "      <th>763</th>\n",
              "      <td>2022-02-21</td>\n",
              "      <td>95360</td>\n",
              "      <td>95216</td>\n",
              "      <td>144</td>\n",
              "      <td>45</td>\n",
              "    </tr>\n",
              "    <tr>\n",
              "      <th>764</th>\n",
              "      <td>2022-02-22</td>\n",
              "      <td>99573</td>\n",
              "      <td>99444</td>\n",
              "      <td>129</td>\n",
              "      <td>58</td>\n",
              "    </tr>\n",
              "    <tr>\n",
              "      <th>765</th>\n",
              "      <td>2022-02-23</td>\n",
              "      <td>171452</td>\n",
              "      <td>171271</td>\n",
              "      <td>181</td>\n",
              "      <td>99</td>\n",
              "    </tr>\n",
              "  </tbody>\n",
              "</table>\n",
              "<p>766 rows × 5 columns</p>\n",
              "</div>\n",
              "      <button class=\"colab-df-convert\" onclick=\"convertToInteractive('df-2e6d431f-0144-4903-b8cd-570259c14052')\"\n",
              "              title=\"Convert this dataframe to an interactive table.\"\n",
              "              style=\"display:none;\">\n",
              "        \n",
              "  <svg xmlns=\"http://www.w3.org/2000/svg\" height=\"24px\"viewBox=\"0 0 24 24\"\n",
              "       width=\"24px\">\n",
              "    <path d=\"M0 0h24v24H0V0z\" fill=\"none\"/>\n",
              "    <path d=\"M18.56 5.44l.94 2.06.94-2.06 2.06-.94-2.06-.94-.94-2.06-.94 2.06-2.06.94zm-11 1L8.5 8.5l.94-2.06 2.06-.94-2.06-.94L8.5 2.5l-.94 2.06-2.06.94zm10 10l.94 2.06.94-2.06 2.06-.94-2.06-.94-.94-2.06-.94 2.06-2.06.94z\"/><path d=\"M17.41 7.96l-1.37-1.37c-.4-.4-.92-.59-1.43-.59-.52 0-1.04.2-1.43.59L10.3 9.45l-7.72 7.72c-.78.78-.78 2.05 0 2.83L4 21.41c.39.39.9.59 1.41.59.51 0 1.02-.2 1.41-.59l7.78-7.78 2.81-2.81c.8-.78.8-2.07 0-2.86zM5.41 20L4 18.59l7.72-7.72 1.47 1.35L5.41 20z\"/>\n",
              "  </svg>\n",
              "      </button>\n",
              "      \n",
              "  <style>\n",
              "    .colab-df-container {\n",
              "      display:flex;\n",
              "      flex-wrap:wrap;\n",
              "      gap: 12px;\n",
              "    }\n",
              "\n",
              "    .colab-df-convert {\n",
              "      background-color: #E8F0FE;\n",
              "      border: none;\n",
              "      border-radius: 50%;\n",
              "      cursor: pointer;\n",
              "      display: none;\n",
              "      fill: #1967D2;\n",
              "      height: 32px;\n",
              "      padding: 0 0 0 0;\n",
              "      width: 32px;\n",
              "    }\n",
              "\n",
              "    .colab-df-convert:hover {\n",
              "      background-color: #E2EBFA;\n",
              "      box-shadow: 0px 1px 2px rgba(60, 64, 67, 0.3), 0px 1px 3px 1px rgba(60, 64, 67, 0.15);\n",
              "      fill: #174EA6;\n",
              "    }\n",
              "\n",
              "    [theme=dark] .colab-df-convert {\n",
              "      background-color: #3B4455;\n",
              "      fill: #D2E3FC;\n",
              "    }\n",
              "\n",
              "    [theme=dark] .colab-df-convert:hover {\n",
              "      background-color: #434B5C;\n",
              "      box-shadow: 0px 1px 3px 1px rgba(0, 0, 0, 0.15);\n",
              "      filter: drop-shadow(0px 1px 2px rgba(0, 0, 0, 0.3));\n",
              "      fill: #FFFFFF;\n",
              "    }\n",
              "  </style>\n",
              "\n",
              "      <script>\n",
              "        const buttonEl =\n",
              "          document.querySelector('#df-2e6d431f-0144-4903-b8cd-570259c14052 button.colab-df-convert');\n",
              "        buttonEl.style.display =\n",
              "          google.colab.kernel.accessAllowed ? 'block' : 'none';\n",
              "\n",
              "        async function convertToInteractive(key) {\n",
              "          const element = document.querySelector('#df-2e6d431f-0144-4903-b8cd-570259c14052');\n",
              "          const dataTable =\n",
              "            await google.colab.kernel.invokeFunction('convertToInteractive',\n",
              "                                                     [key], {});\n",
              "          if (!dataTable) return;\n",
              "\n",
              "          const docLinkHtml = 'Like what you see? Visit the ' +\n",
              "            '<a target=\"_blank\" href=https://colab.research.google.com/notebooks/data_table.ipynb>data table notebook</a>'\n",
              "            + ' to learn more about interactive tables.';\n",
              "          element.innerHTML = '';\n",
              "          dataTable['output_type'] = 'display_data';\n",
              "          await google.colab.output.renderOutput(dataTable, element);\n",
              "          const docLink = document.createElement('div');\n",
              "          docLink.innerHTML = docLinkHtml;\n",
              "          element.appendChild(docLink);\n",
              "        }\n",
              "      </script>\n",
              "    </div>\n",
              "  </div>\n",
              "  "
            ],
            "text/plain": [
              "            일자    계(명) 국내발생(명) 해외유입(명) 사망(명)\n",
              "0   2020-01-20       1       -       1     -\n",
              "1   2020-01-21       0       -       -     -\n",
              "2   2020-01-22       0       -       -     -\n",
              "3   2020-01-23       0       -       -     -\n",
              "4   2020-01-24       1       -       1     -\n",
              "..         ...     ...     ...     ...   ...\n",
              "761 2022-02-19  102207  102068     139    71\n",
              "762 2022-02-20  104827  104730      97    51\n",
              "763 2022-02-21   95360   95216     144    45\n",
              "764 2022-02-22   99573   99444     129    58\n",
              "765 2022-02-23  171452  171271     181    99\n",
              "\n",
              "[766 rows x 5 columns]"
            ]
          },
          "metadata": {},
          "execution_count": 5
        }
      ]
    },
    {
      "cell_type": "code",
      "source": [
        "df_Corona.info() ## - 문자열은 전부 0으로 바꿔줘도 될 것 같음"
      ],
      "metadata": {
        "colab": {
          "base_uri": "https://localhost:8080/"
        },
        "id": "DDSRywEyDk8_",
        "outputId": "f6e298b4-41aa-4a74-a10b-944bb23b4658"
      },
      "execution_count": 6,
      "outputs": [
        {
          "output_type": "stream",
          "name": "stdout",
          "text": [
            "<class 'pandas.core.frame.DataFrame'>\n",
            "RangeIndex: 766 entries, 0 to 765\n",
            "Data columns (total 5 columns):\n",
            " #   Column   Non-Null Count  Dtype         \n",
            "---  ------   --------------  -----         \n",
            " 0   일자       766 non-null    datetime64[ns]\n",
            " 1   계(명)     766 non-null    int64         \n",
            " 2   국내발생(명)  766 non-null    object        \n",
            " 3   해외유입(명)  766 non-null    object        \n",
            " 4   사망(명)    766 non-null    object        \n",
            "dtypes: datetime64[ns](1), int64(1), object(3)\n",
            "memory usage: 30.0+ KB\n"
          ]
        }
      ]
    },
    {
      "cell_type": "code",
      "source": [
        "df_Corona = df_Corona.replace('-', '0')\n",
        "df_Corona"
      ],
      "metadata": {
        "colab": {
          "base_uri": "https://localhost:8080/",
          "height": 424
        },
        "id": "tKiyKbtHEGEu",
        "outputId": "a6ca224e-9192-474c-abdb-be3a32959c03"
      },
      "execution_count": 7,
      "outputs": [
        {
          "output_type": "execute_result",
          "data": {
            "text/html": [
              "\n",
              "  <div id=\"df-35d4f570-5d3b-48de-ba41-709664ebacf7\">\n",
              "    <div class=\"colab-df-container\">\n",
              "      <div>\n",
              "<style scoped>\n",
              "    .dataframe tbody tr th:only-of-type {\n",
              "        vertical-align: middle;\n",
              "    }\n",
              "\n",
              "    .dataframe tbody tr th {\n",
              "        vertical-align: top;\n",
              "    }\n",
              "\n",
              "    .dataframe thead th {\n",
              "        text-align: right;\n",
              "    }\n",
              "</style>\n",
              "<table border=\"1\" class=\"dataframe\">\n",
              "  <thead>\n",
              "    <tr style=\"text-align: right;\">\n",
              "      <th></th>\n",
              "      <th>일자</th>\n",
              "      <th>계(명)</th>\n",
              "      <th>국내발생(명)</th>\n",
              "      <th>해외유입(명)</th>\n",
              "      <th>사망(명)</th>\n",
              "    </tr>\n",
              "  </thead>\n",
              "  <tbody>\n",
              "    <tr>\n",
              "      <th>0</th>\n",
              "      <td>2020-01-20</td>\n",
              "      <td>1</td>\n",
              "      <td>0</td>\n",
              "      <td>1</td>\n",
              "      <td>0</td>\n",
              "    </tr>\n",
              "    <tr>\n",
              "      <th>1</th>\n",
              "      <td>2020-01-21</td>\n",
              "      <td>0</td>\n",
              "      <td>0</td>\n",
              "      <td>0</td>\n",
              "      <td>0</td>\n",
              "    </tr>\n",
              "    <tr>\n",
              "      <th>2</th>\n",
              "      <td>2020-01-22</td>\n",
              "      <td>0</td>\n",
              "      <td>0</td>\n",
              "      <td>0</td>\n",
              "      <td>0</td>\n",
              "    </tr>\n",
              "    <tr>\n",
              "      <th>3</th>\n",
              "      <td>2020-01-23</td>\n",
              "      <td>0</td>\n",
              "      <td>0</td>\n",
              "      <td>0</td>\n",
              "      <td>0</td>\n",
              "    </tr>\n",
              "    <tr>\n",
              "      <th>4</th>\n",
              "      <td>2020-01-24</td>\n",
              "      <td>1</td>\n",
              "      <td>0</td>\n",
              "      <td>1</td>\n",
              "      <td>0</td>\n",
              "    </tr>\n",
              "    <tr>\n",
              "      <th>...</th>\n",
              "      <td>...</td>\n",
              "      <td>...</td>\n",
              "      <td>...</td>\n",
              "      <td>...</td>\n",
              "      <td>...</td>\n",
              "    </tr>\n",
              "    <tr>\n",
              "      <th>761</th>\n",
              "      <td>2022-02-19</td>\n",
              "      <td>102207</td>\n",
              "      <td>102068</td>\n",
              "      <td>139</td>\n",
              "      <td>71</td>\n",
              "    </tr>\n",
              "    <tr>\n",
              "      <th>762</th>\n",
              "      <td>2022-02-20</td>\n",
              "      <td>104827</td>\n",
              "      <td>104730</td>\n",
              "      <td>97</td>\n",
              "      <td>51</td>\n",
              "    </tr>\n",
              "    <tr>\n",
              "      <th>763</th>\n",
              "      <td>2022-02-21</td>\n",
              "      <td>95360</td>\n",
              "      <td>95216</td>\n",
              "      <td>144</td>\n",
              "      <td>45</td>\n",
              "    </tr>\n",
              "    <tr>\n",
              "      <th>764</th>\n",
              "      <td>2022-02-22</td>\n",
              "      <td>99573</td>\n",
              "      <td>99444</td>\n",
              "      <td>129</td>\n",
              "      <td>58</td>\n",
              "    </tr>\n",
              "    <tr>\n",
              "      <th>765</th>\n",
              "      <td>2022-02-23</td>\n",
              "      <td>171452</td>\n",
              "      <td>171271</td>\n",
              "      <td>181</td>\n",
              "      <td>99</td>\n",
              "    </tr>\n",
              "  </tbody>\n",
              "</table>\n",
              "<p>766 rows × 5 columns</p>\n",
              "</div>\n",
              "      <button class=\"colab-df-convert\" onclick=\"convertToInteractive('df-35d4f570-5d3b-48de-ba41-709664ebacf7')\"\n",
              "              title=\"Convert this dataframe to an interactive table.\"\n",
              "              style=\"display:none;\">\n",
              "        \n",
              "  <svg xmlns=\"http://www.w3.org/2000/svg\" height=\"24px\"viewBox=\"0 0 24 24\"\n",
              "       width=\"24px\">\n",
              "    <path d=\"M0 0h24v24H0V0z\" fill=\"none\"/>\n",
              "    <path d=\"M18.56 5.44l.94 2.06.94-2.06 2.06-.94-2.06-.94-.94-2.06-.94 2.06-2.06.94zm-11 1L8.5 8.5l.94-2.06 2.06-.94-2.06-.94L8.5 2.5l-.94 2.06-2.06.94zm10 10l.94 2.06.94-2.06 2.06-.94-2.06-.94-.94-2.06-.94 2.06-2.06.94z\"/><path d=\"M17.41 7.96l-1.37-1.37c-.4-.4-.92-.59-1.43-.59-.52 0-1.04.2-1.43.59L10.3 9.45l-7.72 7.72c-.78.78-.78 2.05 0 2.83L4 21.41c.39.39.9.59 1.41.59.51 0 1.02-.2 1.41-.59l7.78-7.78 2.81-2.81c.8-.78.8-2.07 0-2.86zM5.41 20L4 18.59l7.72-7.72 1.47 1.35L5.41 20z\"/>\n",
              "  </svg>\n",
              "      </button>\n",
              "      \n",
              "  <style>\n",
              "    .colab-df-container {\n",
              "      display:flex;\n",
              "      flex-wrap:wrap;\n",
              "      gap: 12px;\n",
              "    }\n",
              "\n",
              "    .colab-df-convert {\n",
              "      background-color: #E8F0FE;\n",
              "      border: none;\n",
              "      border-radius: 50%;\n",
              "      cursor: pointer;\n",
              "      display: none;\n",
              "      fill: #1967D2;\n",
              "      height: 32px;\n",
              "      padding: 0 0 0 0;\n",
              "      width: 32px;\n",
              "    }\n",
              "\n",
              "    .colab-df-convert:hover {\n",
              "      background-color: #E2EBFA;\n",
              "      box-shadow: 0px 1px 2px rgba(60, 64, 67, 0.3), 0px 1px 3px 1px rgba(60, 64, 67, 0.15);\n",
              "      fill: #174EA6;\n",
              "    }\n",
              "\n",
              "    [theme=dark] .colab-df-convert {\n",
              "      background-color: #3B4455;\n",
              "      fill: #D2E3FC;\n",
              "    }\n",
              "\n",
              "    [theme=dark] .colab-df-convert:hover {\n",
              "      background-color: #434B5C;\n",
              "      box-shadow: 0px 1px 3px 1px rgba(0, 0, 0, 0.15);\n",
              "      filter: drop-shadow(0px 1px 2px rgba(0, 0, 0, 0.3));\n",
              "      fill: #FFFFFF;\n",
              "    }\n",
              "  </style>\n",
              "\n",
              "      <script>\n",
              "        const buttonEl =\n",
              "          document.querySelector('#df-35d4f570-5d3b-48de-ba41-709664ebacf7 button.colab-df-convert');\n",
              "        buttonEl.style.display =\n",
              "          google.colab.kernel.accessAllowed ? 'block' : 'none';\n",
              "\n",
              "        async function convertToInteractive(key) {\n",
              "          const element = document.querySelector('#df-35d4f570-5d3b-48de-ba41-709664ebacf7');\n",
              "          const dataTable =\n",
              "            await google.colab.kernel.invokeFunction('convertToInteractive',\n",
              "                                                     [key], {});\n",
              "          if (!dataTable) return;\n",
              "\n",
              "          const docLinkHtml = 'Like what you see? Visit the ' +\n",
              "            '<a target=\"_blank\" href=https://colab.research.google.com/notebooks/data_table.ipynb>data table notebook</a>'\n",
              "            + ' to learn more about interactive tables.';\n",
              "          element.innerHTML = '';\n",
              "          dataTable['output_type'] = 'display_data';\n",
              "          await google.colab.output.renderOutput(dataTable, element);\n",
              "          const docLink = document.createElement('div');\n",
              "          docLink.innerHTML = docLinkHtml;\n",
              "          element.appendChild(docLink);\n",
              "        }\n",
              "      </script>\n",
              "    </div>\n",
              "  </div>\n",
              "  "
            ],
            "text/plain": [
              "            일자    계(명) 국내발생(명) 해외유입(명) 사망(명)\n",
              "0   2020-01-20       1       0       1     0\n",
              "1   2020-01-21       0       0       0     0\n",
              "2   2020-01-22       0       0       0     0\n",
              "3   2020-01-23       0       0       0     0\n",
              "4   2020-01-24       1       0       1     0\n",
              "..         ...     ...     ...     ...   ...\n",
              "761 2022-02-19  102207  102068     139    71\n",
              "762 2022-02-20  104827  104730      97    51\n",
              "763 2022-02-21   95360   95216     144    45\n",
              "764 2022-02-22   99573   99444     129    58\n",
              "765 2022-02-23  171452  171271     181    99\n",
              "\n",
              "[766 rows x 5 columns]"
            ]
          },
          "metadata": {},
          "execution_count": 7
        }
      ]
    },
    {
      "cell_type": "code",
      "source": [
        "dt = pd.DatetimeIndex(df_Corona['일자'])\n",
        "df_Corona.set_index(dt, inplace=True)\n",
        "\n",
        "df_Corona['year'] = dt.year\n",
        "df_Corona['month'] = dt.month\n",
        "df_Corona['day'] = dt.day"
      ],
      "metadata": {
        "id": "x1BHFQllEXSn"
      },
      "execution_count": 8,
      "outputs": []
    },
    {
      "cell_type": "code",
      "source": [
        "df_Corona"
      ],
      "metadata": {
        "colab": {
          "base_uri": "https://localhost:8080/",
          "height": 455
        },
        "id": "J5kiiQqrGbC_",
        "outputId": "5b7a7a38-92d0-4729-95f6-ed922ac3428a"
      },
      "execution_count": 9,
      "outputs": [
        {
          "output_type": "execute_result",
          "data": {
            "text/html": [
              "\n",
              "  <div id=\"df-87f33085-71c8-446f-9b6f-ae4b86b32a5a\">\n",
              "    <div class=\"colab-df-container\">\n",
              "      <div>\n",
              "<style scoped>\n",
              "    .dataframe tbody tr th:only-of-type {\n",
              "        vertical-align: middle;\n",
              "    }\n",
              "\n",
              "    .dataframe tbody tr th {\n",
              "        vertical-align: top;\n",
              "    }\n",
              "\n",
              "    .dataframe thead th {\n",
              "        text-align: right;\n",
              "    }\n",
              "</style>\n",
              "<table border=\"1\" class=\"dataframe\">\n",
              "  <thead>\n",
              "    <tr style=\"text-align: right;\">\n",
              "      <th></th>\n",
              "      <th>일자</th>\n",
              "      <th>계(명)</th>\n",
              "      <th>국내발생(명)</th>\n",
              "      <th>해외유입(명)</th>\n",
              "      <th>사망(명)</th>\n",
              "      <th>year</th>\n",
              "      <th>month</th>\n",
              "      <th>day</th>\n",
              "    </tr>\n",
              "    <tr>\n",
              "      <th>일자</th>\n",
              "      <th></th>\n",
              "      <th></th>\n",
              "      <th></th>\n",
              "      <th></th>\n",
              "      <th></th>\n",
              "      <th></th>\n",
              "      <th></th>\n",
              "      <th></th>\n",
              "    </tr>\n",
              "  </thead>\n",
              "  <tbody>\n",
              "    <tr>\n",
              "      <th>2020-01-20</th>\n",
              "      <td>2020-01-20</td>\n",
              "      <td>1</td>\n",
              "      <td>0</td>\n",
              "      <td>1</td>\n",
              "      <td>0</td>\n",
              "      <td>2020</td>\n",
              "      <td>1</td>\n",
              "      <td>20</td>\n",
              "    </tr>\n",
              "    <tr>\n",
              "      <th>2020-01-21</th>\n",
              "      <td>2020-01-21</td>\n",
              "      <td>0</td>\n",
              "      <td>0</td>\n",
              "      <td>0</td>\n",
              "      <td>0</td>\n",
              "      <td>2020</td>\n",
              "      <td>1</td>\n",
              "      <td>21</td>\n",
              "    </tr>\n",
              "    <tr>\n",
              "      <th>2020-01-22</th>\n",
              "      <td>2020-01-22</td>\n",
              "      <td>0</td>\n",
              "      <td>0</td>\n",
              "      <td>0</td>\n",
              "      <td>0</td>\n",
              "      <td>2020</td>\n",
              "      <td>1</td>\n",
              "      <td>22</td>\n",
              "    </tr>\n",
              "    <tr>\n",
              "      <th>2020-01-23</th>\n",
              "      <td>2020-01-23</td>\n",
              "      <td>0</td>\n",
              "      <td>0</td>\n",
              "      <td>0</td>\n",
              "      <td>0</td>\n",
              "      <td>2020</td>\n",
              "      <td>1</td>\n",
              "      <td>23</td>\n",
              "    </tr>\n",
              "    <tr>\n",
              "      <th>2020-01-24</th>\n",
              "      <td>2020-01-24</td>\n",
              "      <td>1</td>\n",
              "      <td>0</td>\n",
              "      <td>1</td>\n",
              "      <td>0</td>\n",
              "      <td>2020</td>\n",
              "      <td>1</td>\n",
              "      <td>24</td>\n",
              "    </tr>\n",
              "    <tr>\n",
              "      <th>...</th>\n",
              "      <td>...</td>\n",
              "      <td>...</td>\n",
              "      <td>...</td>\n",
              "      <td>...</td>\n",
              "      <td>...</td>\n",
              "      <td>...</td>\n",
              "      <td>...</td>\n",
              "      <td>...</td>\n",
              "    </tr>\n",
              "    <tr>\n",
              "      <th>2022-02-19</th>\n",
              "      <td>2022-02-19</td>\n",
              "      <td>102207</td>\n",
              "      <td>102068</td>\n",
              "      <td>139</td>\n",
              "      <td>71</td>\n",
              "      <td>2022</td>\n",
              "      <td>2</td>\n",
              "      <td>19</td>\n",
              "    </tr>\n",
              "    <tr>\n",
              "      <th>2022-02-20</th>\n",
              "      <td>2022-02-20</td>\n",
              "      <td>104827</td>\n",
              "      <td>104730</td>\n",
              "      <td>97</td>\n",
              "      <td>51</td>\n",
              "      <td>2022</td>\n",
              "      <td>2</td>\n",
              "      <td>20</td>\n",
              "    </tr>\n",
              "    <tr>\n",
              "      <th>2022-02-21</th>\n",
              "      <td>2022-02-21</td>\n",
              "      <td>95360</td>\n",
              "      <td>95216</td>\n",
              "      <td>144</td>\n",
              "      <td>45</td>\n",
              "      <td>2022</td>\n",
              "      <td>2</td>\n",
              "      <td>21</td>\n",
              "    </tr>\n",
              "    <tr>\n",
              "      <th>2022-02-22</th>\n",
              "      <td>2022-02-22</td>\n",
              "      <td>99573</td>\n",
              "      <td>99444</td>\n",
              "      <td>129</td>\n",
              "      <td>58</td>\n",
              "      <td>2022</td>\n",
              "      <td>2</td>\n",
              "      <td>22</td>\n",
              "    </tr>\n",
              "    <tr>\n",
              "      <th>2022-02-23</th>\n",
              "      <td>2022-02-23</td>\n",
              "      <td>171452</td>\n",
              "      <td>171271</td>\n",
              "      <td>181</td>\n",
              "      <td>99</td>\n",
              "      <td>2022</td>\n",
              "      <td>2</td>\n",
              "      <td>23</td>\n",
              "    </tr>\n",
              "  </tbody>\n",
              "</table>\n",
              "<p>766 rows × 8 columns</p>\n",
              "</div>\n",
              "      <button class=\"colab-df-convert\" onclick=\"convertToInteractive('df-87f33085-71c8-446f-9b6f-ae4b86b32a5a')\"\n",
              "              title=\"Convert this dataframe to an interactive table.\"\n",
              "              style=\"display:none;\">\n",
              "        \n",
              "  <svg xmlns=\"http://www.w3.org/2000/svg\" height=\"24px\"viewBox=\"0 0 24 24\"\n",
              "       width=\"24px\">\n",
              "    <path d=\"M0 0h24v24H0V0z\" fill=\"none\"/>\n",
              "    <path d=\"M18.56 5.44l.94 2.06.94-2.06 2.06-.94-2.06-.94-.94-2.06-.94 2.06-2.06.94zm-11 1L8.5 8.5l.94-2.06 2.06-.94-2.06-.94L8.5 2.5l-.94 2.06-2.06.94zm10 10l.94 2.06.94-2.06 2.06-.94-2.06-.94-.94-2.06-.94 2.06-2.06.94z\"/><path d=\"M17.41 7.96l-1.37-1.37c-.4-.4-.92-.59-1.43-.59-.52 0-1.04.2-1.43.59L10.3 9.45l-7.72 7.72c-.78.78-.78 2.05 0 2.83L4 21.41c.39.39.9.59 1.41.59.51 0 1.02-.2 1.41-.59l7.78-7.78 2.81-2.81c.8-.78.8-2.07 0-2.86zM5.41 20L4 18.59l7.72-7.72 1.47 1.35L5.41 20z\"/>\n",
              "  </svg>\n",
              "      </button>\n",
              "      \n",
              "  <style>\n",
              "    .colab-df-container {\n",
              "      display:flex;\n",
              "      flex-wrap:wrap;\n",
              "      gap: 12px;\n",
              "    }\n",
              "\n",
              "    .colab-df-convert {\n",
              "      background-color: #E8F0FE;\n",
              "      border: none;\n",
              "      border-radius: 50%;\n",
              "      cursor: pointer;\n",
              "      display: none;\n",
              "      fill: #1967D2;\n",
              "      height: 32px;\n",
              "      padding: 0 0 0 0;\n",
              "      width: 32px;\n",
              "    }\n",
              "\n",
              "    .colab-df-convert:hover {\n",
              "      background-color: #E2EBFA;\n",
              "      box-shadow: 0px 1px 2px rgba(60, 64, 67, 0.3), 0px 1px 3px 1px rgba(60, 64, 67, 0.15);\n",
              "      fill: #174EA6;\n",
              "    }\n",
              "\n",
              "    [theme=dark] .colab-df-convert {\n",
              "      background-color: #3B4455;\n",
              "      fill: #D2E3FC;\n",
              "    }\n",
              "\n",
              "    [theme=dark] .colab-df-convert:hover {\n",
              "      background-color: #434B5C;\n",
              "      box-shadow: 0px 1px 3px 1px rgba(0, 0, 0, 0.15);\n",
              "      filter: drop-shadow(0px 1px 2px rgba(0, 0, 0, 0.3));\n",
              "      fill: #FFFFFF;\n",
              "    }\n",
              "  </style>\n",
              "\n",
              "      <script>\n",
              "        const buttonEl =\n",
              "          document.querySelector('#df-87f33085-71c8-446f-9b6f-ae4b86b32a5a button.colab-df-convert');\n",
              "        buttonEl.style.display =\n",
              "          google.colab.kernel.accessAllowed ? 'block' : 'none';\n",
              "\n",
              "        async function convertToInteractive(key) {\n",
              "          const element = document.querySelector('#df-87f33085-71c8-446f-9b6f-ae4b86b32a5a');\n",
              "          const dataTable =\n",
              "            await google.colab.kernel.invokeFunction('convertToInteractive',\n",
              "                                                     [key], {});\n",
              "          if (!dataTable) return;\n",
              "\n",
              "          const docLinkHtml = 'Like what you see? Visit the ' +\n",
              "            '<a target=\"_blank\" href=https://colab.research.google.com/notebooks/data_table.ipynb>data table notebook</a>'\n",
              "            + ' to learn more about interactive tables.';\n",
              "          element.innerHTML = '';\n",
              "          dataTable['output_type'] = 'display_data';\n",
              "          await google.colab.output.renderOutput(dataTable, element);\n",
              "          const docLink = document.createElement('div');\n",
              "          docLink.innerHTML = docLinkHtml;\n",
              "          element.appendChild(docLink);\n",
              "        }\n",
              "      </script>\n",
              "    </div>\n",
              "  </div>\n",
              "  "
            ],
            "text/plain": [
              "                   일자    계(명) 국내발생(명) 해외유입(명) 사망(명)  year  month  day\n",
              "일자                                                                   \n",
              "2020-01-20 2020-01-20       1       0       1     0  2020      1   20\n",
              "2020-01-21 2020-01-21       0       0       0     0  2020      1   21\n",
              "2020-01-22 2020-01-22       0       0       0     0  2020      1   22\n",
              "2020-01-23 2020-01-23       0       0       0     0  2020      1   23\n",
              "2020-01-24 2020-01-24       1       0       1     0  2020      1   24\n",
              "...               ...     ...     ...     ...   ...   ...    ...  ...\n",
              "2022-02-19 2022-02-19  102207  102068     139    71  2022      2   19\n",
              "2022-02-20 2022-02-20  104827  104730      97    51  2022      2   20\n",
              "2022-02-21 2022-02-21   95360   95216     144    45  2022      2   21\n",
              "2022-02-22 2022-02-22   99573   99444     129    58  2022      2   22\n",
              "2022-02-23 2022-02-23  171452  171271     181    99  2022      2   23\n",
              "\n",
              "[766 rows x 8 columns]"
            ]
          },
          "metadata": {},
          "execution_count": 9
        }
      ]
    },
    {
      "cell_type": "code",
      "source": [
        "df_Corona.drop(['일자'], axis=1, inplace=True)"
      ],
      "metadata": {
        "id": "dKD6VPD5GcXm"
      },
      "execution_count": 10,
      "outputs": []
    },
    {
      "cell_type": "code",
      "source": [
        "df_Corona['계(명)'] = pd.to_numeric(df_Corona['계(명)'])\n",
        "df_Corona['국내발생(명)'] = pd.to_numeric(df_Corona['국내발생(명)'])\n",
        "df_Corona['해외유입(명)'] = pd.to_numeric(df_Corona['해외유입(명)'])\n",
        "df_Corona['사망(명)'] = pd.to_numeric(df_Corona['사망(명)'])"
      ],
      "metadata": {
        "id": "qt_hytW_G-G_"
      },
      "execution_count": 11,
      "outputs": []
    },
    {
      "cell_type": "code",
      "source": [
        "df_Corona.info()"
      ],
      "metadata": {
        "colab": {
          "base_uri": "https://localhost:8080/"
        },
        "id": "L3kR3oLAG_0H",
        "outputId": "080e13ca-7435-4627-bd2d-bd5e7ce63fd8"
      },
      "execution_count": 12,
      "outputs": [
        {
          "output_type": "stream",
          "name": "stdout",
          "text": [
            "<class 'pandas.core.frame.DataFrame'>\n",
            "DatetimeIndex: 766 entries, 2020-01-20 to 2022-02-23\n",
            "Data columns (total 7 columns):\n",
            " #   Column   Non-Null Count  Dtype  \n",
            "---  ------   --------------  -----  \n",
            " 0   계(명)     766 non-null    int64  \n",
            " 1   국내발생(명)  766 non-null    int64  \n",
            " 2   해외유입(명)  766 non-null    int64  \n",
            " 3   사망(명)    766 non-null    float64\n",
            " 4   year     766 non-null    int64  \n",
            " 5   month    766 non-null    int64  \n",
            " 6   day      766 non-null    int64  \n",
            "dtypes: float64(1), int64(6)\n",
            "memory usage: 47.9 KB\n"
          ]
        }
      ]
    },
    {
      "cell_type": "code",
      "source": [
        "df_Corona"
      ],
      "metadata": {
        "colab": {
          "base_uri": "https://localhost:8080/",
          "height": 455
        },
        "id": "R0y-042H9zDt",
        "outputId": "754dacf4-2205-4b84-a95a-8e2a5c002328"
      },
      "execution_count": 13,
      "outputs": [
        {
          "output_type": "execute_result",
          "data": {
            "text/html": [
              "\n",
              "  <div id=\"df-f2392c75-f0cb-4cda-9c0d-99781c60f5fb\">\n",
              "    <div class=\"colab-df-container\">\n",
              "      <div>\n",
              "<style scoped>\n",
              "    .dataframe tbody tr th:only-of-type {\n",
              "        vertical-align: middle;\n",
              "    }\n",
              "\n",
              "    .dataframe tbody tr th {\n",
              "        vertical-align: top;\n",
              "    }\n",
              "\n",
              "    .dataframe thead th {\n",
              "        text-align: right;\n",
              "    }\n",
              "</style>\n",
              "<table border=\"1\" class=\"dataframe\">\n",
              "  <thead>\n",
              "    <tr style=\"text-align: right;\">\n",
              "      <th></th>\n",
              "      <th>계(명)</th>\n",
              "      <th>국내발생(명)</th>\n",
              "      <th>해외유입(명)</th>\n",
              "      <th>사망(명)</th>\n",
              "      <th>year</th>\n",
              "      <th>month</th>\n",
              "      <th>day</th>\n",
              "    </tr>\n",
              "    <tr>\n",
              "      <th>일자</th>\n",
              "      <th></th>\n",
              "      <th></th>\n",
              "      <th></th>\n",
              "      <th></th>\n",
              "      <th></th>\n",
              "      <th></th>\n",
              "      <th></th>\n",
              "    </tr>\n",
              "  </thead>\n",
              "  <tbody>\n",
              "    <tr>\n",
              "      <th>2020-01-20</th>\n",
              "      <td>1</td>\n",
              "      <td>0</td>\n",
              "      <td>1</td>\n",
              "      <td>0.0</td>\n",
              "      <td>2020</td>\n",
              "      <td>1</td>\n",
              "      <td>20</td>\n",
              "    </tr>\n",
              "    <tr>\n",
              "      <th>2020-01-21</th>\n",
              "      <td>0</td>\n",
              "      <td>0</td>\n",
              "      <td>0</td>\n",
              "      <td>0.0</td>\n",
              "      <td>2020</td>\n",
              "      <td>1</td>\n",
              "      <td>21</td>\n",
              "    </tr>\n",
              "    <tr>\n",
              "      <th>2020-01-22</th>\n",
              "      <td>0</td>\n",
              "      <td>0</td>\n",
              "      <td>0</td>\n",
              "      <td>0.0</td>\n",
              "      <td>2020</td>\n",
              "      <td>1</td>\n",
              "      <td>22</td>\n",
              "    </tr>\n",
              "    <tr>\n",
              "      <th>2020-01-23</th>\n",
              "      <td>0</td>\n",
              "      <td>0</td>\n",
              "      <td>0</td>\n",
              "      <td>0.0</td>\n",
              "      <td>2020</td>\n",
              "      <td>1</td>\n",
              "      <td>23</td>\n",
              "    </tr>\n",
              "    <tr>\n",
              "      <th>2020-01-24</th>\n",
              "      <td>1</td>\n",
              "      <td>0</td>\n",
              "      <td>1</td>\n",
              "      <td>0.0</td>\n",
              "      <td>2020</td>\n",
              "      <td>1</td>\n",
              "      <td>24</td>\n",
              "    </tr>\n",
              "    <tr>\n",
              "      <th>...</th>\n",
              "      <td>...</td>\n",
              "      <td>...</td>\n",
              "      <td>...</td>\n",
              "      <td>...</td>\n",
              "      <td>...</td>\n",
              "      <td>...</td>\n",
              "      <td>...</td>\n",
              "    </tr>\n",
              "    <tr>\n",
              "      <th>2022-02-19</th>\n",
              "      <td>102207</td>\n",
              "      <td>102068</td>\n",
              "      <td>139</td>\n",
              "      <td>71.0</td>\n",
              "      <td>2022</td>\n",
              "      <td>2</td>\n",
              "      <td>19</td>\n",
              "    </tr>\n",
              "    <tr>\n",
              "      <th>2022-02-20</th>\n",
              "      <td>104827</td>\n",
              "      <td>104730</td>\n",
              "      <td>97</td>\n",
              "      <td>51.0</td>\n",
              "      <td>2022</td>\n",
              "      <td>2</td>\n",
              "      <td>20</td>\n",
              "    </tr>\n",
              "    <tr>\n",
              "      <th>2022-02-21</th>\n",
              "      <td>95360</td>\n",
              "      <td>95216</td>\n",
              "      <td>144</td>\n",
              "      <td>45.0</td>\n",
              "      <td>2022</td>\n",
              "      <td>2</td>\n",
              "      <td>21</td>\n",
              "    </tr>\n",
              "    <tr>\n",
              "      <th>2022-02-22</th>\n",
              "      <td>99573</td>\n",
              "      <td>99444</td>\n",
              "      <td>129</td>\n",
              "      <td>58.0</td>\n",
              "      <td>2022</td>\n",
              "      <td>2</td>\n",
              "      <td>22</td>\n",
              "    </tr>\n",
              "    <tr>\n",
              "      <th>2022-02-23</th>\n",
              "      <td>171452</td>\n",
              "      <td>171271</td>\n",
              "      <td>181</td>\n",
              "      <td>99.0</td>\n",
              "      <td>2022</td>\n",
              "      <td>2</td>\n",
              "      <td>23</td>\n",
              "    </tr>\n",
              "  </tbody>\n",
              "</table>\n",
              "<p>766 rows × 7 columns</p>\n",
              "</div>\n",
              "      <button class=\"colab-df-convert\" onclick=\"convertToInteractive('df-f2392c75-f0cb-4cda-9c0d-99781c60f5fb')\"\n",
              "              title=\"Convert this dataframe to an interactive table.\"\n",
              "              style=\"display:none;\">\n",
              "        \n",
              "  <svg xmlns=\"http://www.w3.org/2000/svg\" height=\"24px\"viewBox=\"0 0 24 24\"\n",
              "       width=\"24px\">\n",
              "    <path d=\"M0 0h24v24H0V0z\" fill=\"none\"/>\n",
              "    <path d=\"M18.56 5.44l.94 2.06.94-2.06 2.06-.94-2.06-.94-.94-2.06-.94 2.06-2.06.94zm-11 1L8.5 8.5l.94-2.06 2.06-.94-2.06-.94L8.5 2.5l-.94 2.06-2.06.94zm10 10l.94 2.06.94-2.06 2.06-.94-2.06-.94-.94-2.06-.94 2.06-2.06.94z\"/><path d=\"M17.41 7.96l-1.37-1.37c-.4-.4-.92-.59-1.43-.59-.52 0-1.04.2-1.43.59L10.3 9.45l-7.72 7.72c-.78.78-.78 2.05 0 2.83L4 21.41c.39.39.9.59 1.41.59.51 0 1.02-.2 1.41-.59l7.78-7.78 2.81-2.81c.8-.78.8-2.07 0-2.86zM5.41 20L4 18.59l7.72-7.72 1.47 1.35L5.41 20z\"/>\n",
              "  </svg>\n",
              "      </button>\n",
              "      \n",
              "  <style>\n",
              "    .colab-df-container {\n",
              "      display:flex;\n",
              "      flex-wrap:wrap;\n",
              "      gap: 12px;\n",
              "    }\n",
              "\n",
              "    .colab-df-convert {\n",
              "      background-color: #E8F0FE;\n",
              "      border: none;\n",
              "      border-radius: 50%;\n",
              "      cursor: pointer;\n",
              "      display: none;\n",
              "      fill: #1967D2;\n",
              "      height: 32px;\n",
              "      padding: 0 0 0 0;\n",
              "      width: 32px;\n",
              "    }\n",
              "\n",
              "    .colab-df-convert:hover {\n",
              "      background-color: #E2EBFA;\n",
              "      box-shadow: 0px 1px 2px rgba(60, 64, 67, 0.3), 0px 1px 3px 1px rgba(60, 64, 67, 0.15);\n",
              "      fill: #174EA6;\n",
              "    }\n",
              "\n",
              "    [theme=dark] .colab-df-convert {\n",
              "      background-color: #3B4455;\n",
              "      fill: #D2E3FC;\n",
              "    }\n",
              "\n",
              "    [theme=dark] .colab-df-convert:hover {\n",
              "      background-color: #434B5C;\n",
              "      box-shadow: 0px 1px 3px 1px rgba(0, 0, 0, 0.15);\n",
              "      filter: drop-shadow(0px 1px 2px rgba(0, 0, 0, 0.3));\n",
              "      fill: #FFFFFF;\n",
              "    }\n",
              "  </style>\n",
              "\n",
              "      <script>\n",
              "        const buttonEl =\n",
              "          document.querySelector('#df-f2392c75-f0cb-4cda-9c0d-99781c60f5fb button.colab-df-convert');\n",
              "        buttonEl.style.display =\n",
              "          google.colab.kernel.accessAllowed ? 'block' : 'none';\n",
              "\n",
              "        async function convertToInteractive(key) {\n",
              "          const element = document.querySelector('#df-f2392c75-f0cb-4cda-9c0d-99781c60f5fb');\n",
              "          const dataTable =\n",
              "            await google.colab.kernel.invokeFunction('convertToInteractive',\n",
              "                                                     [key], {});\n",
              "          if (!dataTable) return;\n",
              "\n",
              "          const docLinkHtml = 'Like what you see? Visit the ' +\n",
              "            '<a target=\"_blank\" href=https://colab.research.google.com/notebooks/data_table.ipynb>data table notebook</a>'\n",
              "            + ' to learn more about interactive tables.';\n",
              "          element.innerHTML = '';\n",
              "          dataTable['output_type'] = 'display_data';\n",
              "          await google.colab.output.renderOutput(dataTable, element);\n",
              "          const docLink = document.createElement('div');\n",
              "          docLink.innerHTML = docLinkHtml;\n",
              "          element.appendChild(docLink);\n",
              "        }\n",
              "      </script>\n",
              "    </div>\n",
              "  </div>\n",
              "  "
            ],
            "text/plain": [
              "              계(명)  국내발생(명)  해외유입(명)  사망(명)  year  month  day\n",
              "일자                                                           \n",
              "2020-01-20       1        0        1    0.0  2020      1   20\n",
              "2020-01-21       0        0        0    0.0  2020      1   21\n",
              "2020-01-22       0        0        0    0.0  2020      1   22\n",
              "2020-01-23       0        0        0    0.0  2020      1   23\n",
              "2020-01-24       1        0        1    0.0  2020      1   24\n",
              "...            ...      ...      ...    ...   ...    ...  ...\n",
              "2022-02-19  102207   102068      139   71.0  2022      2   19\n",
              "2022-02-20  104827   104730       97   51.0  2022      2   20\n",
              "2022-02-21   95360    95216      144   45.0  2022      2   21\n",
              "2022-02-22   99573    99444      129   58.0  2022      2   22\n",
              "2022-02-23  171452   171271      181   99.0  2022      2   23\n",
              "\n",
              "[766 rows x 7 columns]"
            ]
          },
          "metadata": {},
          "execution_count": 13
        }
      ]
    },
    {
      "cell_type": "code",
      "source": [
        "df_Corona.columns = ['count', 'domestic', 'overseas', 'death', 'year', 'month', 'day']"
      ],
      "metadata": {
        "id": "UxkYFcyRLuOd"
      },
      "execution_count": 14,
      "outputs": []
    },
    {
      "cell_type": "code",
      "source": [
        "df_Corona"
      ],
      "metadata": {
        "colab": {
          "base_uri": "https://localhost:8080/",
          "height": 455
        },
        "id": "9S2MZL0IL9a9",
        "outputId": "67c3530a-2b97-46c5-b16f-2729a162a91c"
      },
      "execution_count": 15,
      "outputs": [
        {
          "output_type": "execute_result",
          "data": {
            "text/html": [
              "\n",
              "  <div id=\"df-9d313b31-5fb1-4c80-b8b5-03477d60f03d\">\n",
              "    <div class=\"colab-df-container\">\n",
              "      <div>\n",
              "<style scoped>\n",
              "    .dataframe tbody tr th:only-of-type {\n",
              "        vertical-align: middle;\n",
              "    }\n",
              "\n",
              "    .dataframe tbody tr th {\n",
              "        vertical-align: top;\n",
              "    }\n",
              "\n",
              "    .dataframe thead th {\n",
              "        text-align: right;\n",
              "    }\n",
              "</style>\n",
              "<table border=\"1\" class=\"dataframe\">\n",
              "  <thead>\n",
              "    <tr style=\"text-align: right;\">\n",
              "      <th></th>\n",
              "      <th>count</th>\n",
              "      <th>domestic</th>\n",
              "      <th>overseas</th>\n",
              "      <th>death</th>\n",
              "      <th>year</th>\n",
              "      <th>month</th>\n",
              "      <th>day</th>\n",
              "    </tr>\n",
              "    <tr>\n",
              "      <th>일자</th>\n",
              "      <th></th>\n",
              "      <th></th>\n",
              "      <th></th>\n",
              "      <th></th>\n",
              "      <th></th>\n",
              "      <th></th>\n",
              "      <th></th>\n",
              "    </tr>\n",
              "  </thead>\n",
              "  <tbody>\n",
              "    <tr>\n",
              "      <th>2020-01-20</th>\n",
              "      <td>1</td>\n",
              "      <td>0</td>\n",
              "      <td>1</td>\n",
              "      <td>0.0</td>\n",
              "      <td>2020</td>\n",
              "      <td>1</td>\n",
              "      <td>20</td>\n",
              "    </tr>\n",
              "    <tr>\n",
              "      <th>2020-01-21</th>\n",
              "      <td>0</td>\n",
              "      <td>0</td>\n",
              "      <td>0</td>\n",
              "      <td>0.0</td>\n",
              "      <td>2020</td>\n",
              "      <td>1</td>\n",
              "      <td>21</td>\n",
              "    </tr>\n",
              "    <tr>\n",
              "      <th>2020-01-22</th>\n",
              "      <td>0</td>\n",
              "      <td>0</td>\n",
              "      <td>0</td>\n",
              "      <td>0.0</td>\n",
              "      <td>2020</td>\n",
              "      <td>1</td>\n",
              "      <td>22</td>\n",
              "    </tr>\n",
              "    <tr>\n",
              "      <th>2020-01-23</th>\n",
              "      <td>0</td>\n",
              "      <td>0</td>\n",
              "      <td>0</td>\n",
              "      <td>0.0</td>\n",
              "      <td>2020</td>\n",
              "      <td>1</td>\n",
              "      <td>23</td>\n",
              "    </tr>\n",
              "    <tr>\n",
              "      <th>2020-01-24</th>\n",
              "      <td>1</td>\n",
              "      <td>0</td>\n",
              "      <td>1</td>\n",
              "      <td>0.0</td>\n",
              "      <td>2020</td>\n",
              "      <td>1</td>\n",
              "      <td>24</td>\n",
              "    </tr>\n",
              "    <tr>\n",
              "      <th>...</th>\n",
              "      <td>...</td>\n",
              "      <td>...</td>\n",
              "      <td>...</td>\n",
              "      <td>...</td>\n",
              "      <td>...</td>\n",
              "      <td>...</td>\n",
              "      <td>...</td>\n",
              "    </tr>\n",
              "    <tr>\n",
              "      <th>2022-02-19</th>\n",
              "      <td>102207</td>\n",
              "      <td>102068</td>\n",
              "      <td>139</td>\n",
              "      <td>71.0</td>\n",
              "      <td>2022</td>\n",
              "      <td>2</td>\n",
              "      <td>19</td>\n",
              "    </tr>\n",
              "    <tr>\n",
              "      <th>2022-02-20</th>\n",
              "      <td>104827</td>\n",
              "      <td>104730</td>\n",
              "      <td>97</td>\n",
              "      <td>51.0</td>\n",
              "      <td>2022</td>\n",
              "      <td>2</td>\n",
              "      <td>20</td>\n",
              "    </tr>\n",
              "    <tr>\n",
              "      <th>2022-02-21</th>\n",
              "      <td>95360</td>\n",
              "      <td>95216</td>\n",
              "      <td>144</td>\n",
              "      <td>45.0</td>\n",
              "      <td>2022</td>\n",
              "      <td>2</td>\n",
              "      <td>21</td>\n",
              "    </tr>\n",
              "    <tr>\n",
              "      <th>2022-02-22</th>\n",
              "      <td>99573</td>\n",
              "      <td>99444</td>\n",
              "      <td>129</td>\n",
              "      <td>58.0</td>\n",
              "      <td>2022</td>\n",
              "      <td>2</td>\n",
              "      <td>22</td>\n",
              "    </tr>\n",
              "    <tr>\n",
              "      <th>2022-02-23</th>\n",
              "      <td>171452</td>\n",
              "      <td>171271</td>\n",
              "      <td>181</td>\n",
              "      <td>99.0</td>\n",
              "      <td>2022</td>\n",
              "      <td>2</td>\n",
              "      <td>23</td>\n",
              "    </tr>\n",
              "  </tbody>\n",
              "</table>\n",
              "<p>766 rows × 7 columns</p>\n",
              "</div>\n",
              "      <button class=\"colab-df-convert\" onclick=\"convertToInteractive('df-9d313b31-5fb1-4c80-b8b5-03477d60f03d')\"\n",
              "              title=\"Convert this dataframe to an interactive table.\"\n",
              "              style=\"display:none;\">\n",
              "        \n",
              "  <svg xmlns=\"http://www.w3.org/2000/svg\" height=\"24px\"viewBox=\"0 0 24 24\"\n",
              "       width=\"24px\">\n",
              "    <path d=\"M0 0h24v24H0V0z\" fill=\"none\"/>\n",
              "    <path d=\"M18.56 5.44l.94 2.06.94-2.06 2.06-.94-2.06-.94-.94-2.06-.94 2.06-2.06.94zm-11 1L8.5 8.5l.94-2.06 2.06-.94-2.06-.94L8.5 2.5l-.94 2.06-2.06.94zm10 10l.94 2.06.94-2.06 2.06-.94-2.06-.94-.94-2.06-.94 2.06-2.06.94z\"/><path d=\"M17.41 7.96l-1.37-1.37c-.4-.4-.92-.59-1.43-.59-.52 0-1.04.2-1.43.59L10.3 9.45l-7.72 7.72c-.78.78-.78 2.05 0 2.83L4 21.41c.39.39.9.59 1.41.59.51 0 1.02-.2 1.41-.59l7.78-7.78 2.81-2.81c.8-.78.8-2.07 0-2.86zM5.41 20L4 18.59l7.72-7.72 1.47 1.35L5.41 20z\"/>\n",
              "  </svg>\n",
              "      </button>\n",
              "      \n",
              "  <style>\n",
              "    .colab-df-container {\n",
              "      display:flex;\n",
              "      flex-wrap:wrap;\n",
              "      gap: 12px;\n",
              "    }\n",
              "\n",
              "    .colab-df-convert {\n",
              "      background-color: #E8F0FE;\n",
              "      border: none;\n",
              "      border-radius: 50%;\n",
              "      cursor: pointer;\n",
              "      display: none;\n",
              "      fill: #1967D2;\n",
              "      height: 32px;\n",
              "      padding: 0 0 0 0;\n",
              "      width: 32px;\n",
              "    }\n",
              "\n",
              "    .colab-df-convert:hover {\n",
              "      background-color: #E2EBFA;\n",
              "      box-shadow: 0px 1px 2px rgba(60, 64, 67, 0.3), 0px 1px 3px 1px rgba(60, 64, 67, 0.15);\n",
              "      fill: #174EA6;\n",
              "    }\n",
              "\n",
              "    [theme=dark] .colab-df-convert {\n",
              "      background-color: #3B4455;\n",
              "      fill: #D2E3FC;\n",
              "    }\n",
              "\n",
              "    [theme=dark] .colab-df-convert:hover {\n",
              "      background-color: #434B5C;\n",
              "      box-shadow: 0px 1px 3px 1px rgba(0, 0, 0, 0.15);\n",
              "      filter: drop-shadow(0px 1px 2px rgba(0, 0, 0, 0.3));\n",
              "      fill: #FFFFFF;\n",
              "    }\n",
              "  </style>\n",
              "\n",
              "      <script>\n",
              "        const buttonEl =\n",
              "          document.querySelector('#df-9d313b31-5fb1-4c80-b8b5-03477d60f03d button.colab-df-convert');\n",
              "        buttonEl.style.display =\n",
              "          google.colab.kernel.accessAllowed ? 'block' : 'none';\n",
              "\n",
              "        async function convertToInteractive(key) {\n",
              "          const element = document.querySelector('#df-9d313b31-5fb1-4c80-b8b5-03477d60f03d');\n",
              "          const dataTable =\n",
              "            await google.colab.kernel.invokeFunction('convertToInteractive',\n",
              "                                                     [key], {});\n",
              "          if (!dataTable) return;\n",
              "\n",
              "          const docLinkHtml = 'Like what you see? Visit the ' +\n",
              "            '<a target=\"_blank\" href=https://colab.research.google.com/notebooks/data_table.ipynb>data table notebook</a>'\n",
              "            + ' to learn more about interactive tables.';\n",
              "          element.innerHTML = '';\n",
              "          dataTable['output_type'] = 'display_data';\n",
              "          await google.colab.output.renderOutput(dataTable, element);\n",
              "          const docLink = document.createElement('div');\n",
              "          docLink.innerHTML = docLinkHtml;\n",
              "          element.appendChild(docLink);\n",
              "        }\n",
              "      </script>\n",
              "    </div>\n",
              "  </div>\n",
              "  "
            ],
            "text/plain": [
              "             count  domestic  overseas  death  year  month  day\n",
              "일자                                                             \n",
              "2020-01-20       1         0         1    0.0  2020      1   20\n",
              "2020-01-21       0         0         0    0.0  2020      1   21\n",
              "2020-01-22       0         0         0    0.0  2020      1   22\n",
              "2020-01-23       0         0         0    0.0  2020      1   23\n",
              "2020-01-24       1         0         1    0.0  2020      1   24\n",
              "...            ...       ...       ...    ...   ...    ...  ...\n",
              "2022-02-19  102207    102068       139   71.0  2022      2   19\n",
              "2022-02-20  104827    104730        97   51.0  2022      2   20\n",
              "2022-02-21   95360     95216       144   45.0  2022      2   21\n",
              "2022-02-22   99573     99444       129   58.0  2022      2   22\n",
              "2022-02-23  171452    171271       181   99.0  2022      2   23\n",
              "\n",
              "[766 rows x 7 columns]"
            ]
          },
          "metadata": {},
          "execution_count": 15
        }
      ]
    },
    {
      "cell_type": "code",
      "source": [
        "df_Corona2020 = df_Corona[df_Corona['year'] == 2020]\n",
        "df_Corona2021 = df_Corona[df_Corona['year'] == 2021]\n",
        "df_Corona2022 = df_Corona[df_Corona['year'] == 2022]"
      ],
      "metadata": {
        "id": "IhiWKd2jDDHM"
      },
      "execution_count": 16,
      "outputs": []
    },
    {
      "cell_type": "code",
      "source": [
        "sns.barplot(x='month', y='count', data=df_Corona2020)\n",
        "plt.title('2020 Maverage by month')"
      ],
      "metadata": {
        "colab": {
          "base_uri": "https://localhost:8080/",
          "height": 311
        },
        "id": "yPSN6VeuE059",
        "outputId": "22cd7d8b-b71b-43b3-9214-560239abeb81"
      },
      "execution_count": 17,
      "outputs": [
        {
          "output_type": "execute_result",
          "data": {
            "text/plain": [
              "Text(0.5, 1.0, '2020 Maverage by month')"
            ]
          },
          "metadata": {},
          "execution_count": 17
        },
        {
          "output_type": "display_data",
          "data": {
            "image/png": "[encoded data removed]",
            "text/plain": [
              "<Figure size 432x288 with 1 Axes>"
            ]
          },
          "metadata": {
            "needs_background": "light"
          }
        }
      ]
    },
    {
      "cell_type": "code",
      "source": [
        "sns.barplot(x='month', y='count', data=df_Corona2021)\n",
        "plt.title('2021 average by month')"
      ],
      "metadata": {
        "colab": {
          "base_uri": "https://localhost:8080/",
          "height": 311
        },
        "id": "nMUm1IbPJhVd",
        "outputId": "b6b339d8-3d38-4845-a7b7-f71c5375d4ce"
      },
      "execution_count": 18,
      "outputs": [
        {
          "output_type": "execute_result",
          "data": {
            "text/plain": [
              "Text(0.5, 1.0, '2021 average by month')"
            ]
          },
          "metadata": {},
          "execution_count": 18
        },
        {
          "output_type": "display_data",
          "data": {
            "image/png": "[encoded data removed]",
            "text/plain": [
              "<Figure size 432x288 with 1 Axes>"
            ]
          },
          "metadata": {
            "needs_background": "light"
          }
        }
      ]
    },
    {
      "cell_type": "code",
      "source": [
        "sns.barplot(x='month', y='count', data=df_Corona2022)\n",
        "plt.title('2022 average by month')"
      ],
      "metadata": {
        "colab": {
          "base_uri": "https://localhost:8080/",
          "height": 311
        },
        "id": "DN_ZLSegMegW",
        "outputId": "b90e3770-86d8-4274-a485-1f97f5751df0"
      },
      "execution_count": 19,
      "outputs": [
        {
          "output_type": "execute_result",
          "data": {
            "text/plain": [
              "Text(0.5, 1.0, '2022 average by month')"
            ]
          },
          "metadata": {},
          "execution_count": 19
        },
        {
          "output_type": "display_data",
          "data": {
            "image/png": "[encoded data removed]",
            "text/plain": [
              "<Figure size 432x288 with 1 Axes>"
            ]
          },
          "metadata": {
            "needs_background": "light"
          }
        }
      ]
    },
    {
      "cell_type": "code",
      "source": [
        "df_Corona202202 = df_Corona2022[df_Corona2022['month'] == 2]"
      ],
      "metadata": {
        "id": "sQTDADxnMsL3"
      },
      "execution_count": 20,
      "outputs": []
    },
    {
      "cell_type": "code",
      "source": [
        "sns.barplot(x='day', y='count', data=df_Corona202202)\n",
        "plt.title('2022 February')"
      ],
      "metadata": {
        "colab": {
          "base_uri": "https://localhost:8080/",
          "height": 311
        },
        "id": "z_tz0D6kTox_",
        "outputId": "e043d3b6-d489-4c4d-9305-0b64f68881a3"
      },
      "execution_count": 21,
      "outputs": [
        {
          "output_type": "execute_result",
          "data": {
            "text/plain": [
              "Text(0.5, 1.0, '2022 February')"
            ]
          },
          "metadata": {},
          "execution_count": 21
        },
        {
          "output_type": "display_data",
          "data": {
            "image/png": "[encoded data removed]",
            "text/plain": [
              "<Figure size 432x288 with 1 Axes>"
            ]
          },
          "metadata": {
            "needs_background": "light"
          }
        }
      ]
    },
    {
      "cell_type": "code",
      "source": [
        ""
      ],
      "metadata": {
        "id": "3d5JmNXBTuwm"
      },
      "execution_count": 21,
      "outputs": []
    },
    {
      "cell_type": "markdown",
      "source": [
        "# **이륜차 신고 현황 분석**"
      ],
      "metadata": {
        "id": "KQAuTbzKuKxj"
      }
    },
    {
      "cell_type": "code",
      "source": [
        "df_Bike201901['date'] = '2019-01'\n",
        "df_Bike201902['date'] = '2019-02'\n",
        "df_Bike201903['date'] = '2019-03'\n",
        "df_Bike201904['date'] = '2019-04'\n",
        "df_Bike201905['date'] = '2019-05'\n",
        "df_Bike201906['date'] = '2019-06'\n",
        "df_Bike201907['date'] = '2019-07'\n",
        "df_Bike201908['date'] = '2019-08'\n",
        "df_Bike201909['date'] = '2019-09'\n",
        "df_Bike201910['date'] = '2019-10'\n",
        "df_Bike201911['date'] = '2019-11'\n",
        "df_Bike201912['date'] = '2019-12'"
      ],
      "metadata": {
        "id": "r84xcRDauJHD"
      },
      "execution_count": 22,
      "outputs": []
    },
    {
      "cell_type": "code",
      "source": [
        "df_Bike202001['date'] = '2020-01'\n",
        "df_Bike202002['date'] = '2020-02'\n",
        "df_Bike202003['date'] = '2020-03'\n",
        "df_Bike202004['date'] = '2020-04'\n",
        "df_Bike202005['date'] = '2020-05'\n",
        "df_Bike202006['date'] = '2020-06'\n",
        "df_Bike202007['date'] = '2020-07'\n",
        "df_Bike202008['date'] = '2020-08'\n",
        "df_Bike202009['date'] = '2020-09'\n",
        "df_Bike202010['date'] = '2020-10'\n",
        "df_Bike202011['date'] = '2020-11'\n",
        "df_Bike202012['date'] = '2020-12'"
      ],
      "metadata": {
        "id": "AJbEa7E6vuCC"
      },
      "execution_count": 23,
      "outputs": []
    },
    {
      "cell_type": "code",
      "source": [
        "df_Bike202101['date'] = '2021-01'\n",
        "df_Bike202102['date'] = '2021-02'\n",
        "df_Bike202103['date'] = '2021-03'\n",
        "df_Bike202104['date'] = '2021-04'\n",
        "df_Bike202105['date'] = '2021-05'\n",
        "df_Bike202106['date'] = '2021-06'\n",
        "df_Bike202107['date'] = '2021-07'\n",
        "df_Bike202108['date'] = '2021-08'\n",
        "df_Bike202109['date'] = '2021-09'\n",
        "df_Bike202110['date'] = '2021-10'\n",
        "df_Bike202111['date'] = '2021-11'\n",
        "df_Bike202112['date'] = '2021-12'"
      ],
      "metadata": {
        "id": "T3EgBuPJv55r"
      },
      "execution_count": 24,
      "outputs": []
    },
    {
      "cell_type": "code",
      "source": [
        "df_Bike202201['date'] = '2022-1'"
      ],
      "metadata": {
        "id": "c7Glu_jovY9b"
      },
      "execution_count": 25,
      "outputs": []
    },
    {
      "cell_type": "code",
      "source": [
        "df_Bike201901['date'] = pd.to_datetime(df_Bike201901['date'])\n",
        "df_Bike201902['date'] = pd.to_datetime(df_Bike201902['date'])\n",
        "df_Bike201903['date'] = pd.to_datetime(df_Bike201903['date'])\n",
        "df_Bike201904['date'] = pd.to_datetime(df_Bike201904['date'])\n",
        "df_Bike201905['date'] = pd.to_datetime(df_Bike201905['date'])\n",
        "df_Bike201906['date'] = pd.to_datetime(df_Bike201906['date'])\n",
        "df_Bike201907['date'] = pd.to_datetime(df_Bike201907['date'])\n",
        "df_Bike201908['date'] = pd.to_datetime(df_Bike201908['date'])\n",
        "df_Bike201909['date'] = pd.to_datetime(df_Bike201909['date'])\n",
        "df_Bike201910['date'] = pd.to_datetime(df_Bike201910['date'])\n",
        "df_Bike201911['date'] = pd.to_datetime(df_Bike201911['date'])\n",
        "df_Bike201912['date'] = pd.to_datetime(df_Bike201912['date'])\n",
        "df_Bike202001['date'] = pd.to_datetime(df_Bike202001['date'])\n",
        "df_Bike202002['date'] = pd.to_datetime(df_Bike202002['date'])\n",
        "df_Bike202003['date'] = pd.to_datetime(df_Bike202003['date'])\n",
        "df_Bike202004['date'] = pd.to_datetime(df_Bike202004['date'])\n",
        "df_Bike202005['date'] = pd.to_datetime(df_Bike202005['date'])\n",
        "df_Bike202006['date'] = pd.to_datetime(df_Bike202006['date'])\n",
        "df_Bike202007['date'] = pd.to_datetime(df_Bike202007['date'])\n",
        "df_Bike202008['date'] = pd.to_datetime(df_Bike202008['date'])\n",
        "df_Bike202009['date'] = pd.to_datetime(df_Bike202009['date'])\n",
        "df_Bike202010['date'] = pd.to_datetime(df_Bike202010['date'])\n",
        "df_Bike202011['date'] = pd.to_datetime(df_Bike202011['date'])\n",
        "df_Bike202012['date'] = pd.to_datetime(df_Bike202012['date'])\n",
        "df_Bike202101['date'] = pd.to_datetime(df_Bike202101['date'])\n",
        "df_Bike202102['date'] = pd.to_datetime(df_Bike202102['date'])\n",
        "df_Bike202103['date'] = pd.to_datetime(df_Bike202103['date'])\n",
        "df_Bike202104['date'] = pd.to_datetime(df_Bike202104['date'])\n",
        "df_Bike202105['date'] = pd.to_datetime(df_Bike202105['date'])\n",
        "df_Bike202106['date'] = pd.to_datetime(df_Bike202106['date'])\n",
        "df_Bike202107['date'] = pd.to_datetime(df_Bike202107['date'])\n",
        "df_Bike202108['date'] = pd.to_datetime(df_Bike202108['date'])\n",
        "df_Bike202109['date'] = pd.to_datetime(df_Bike202109['date'])\n",
        "df_Bike202110['date'] = pd.to_datetime(df_Bike202110['date'])\n",
        "df_Bike202111['date'] = pd.to_datetime(df_Bike202111['date'])\n",
        "df_Bike202112['date'] = pd.to_datetime(df_Bike202112['date'])\n",
        "df_Bike202201['date'] = pd.to_datetime(df_Bike202201['date'])"
      ],
      "metadata": {
        "id": "EPeeTZerLsEK"
      },
      "execution_count": 26,
      "outputs": []
    },
    {
      "cell_type": "code",
      "source": [
        "df_Bike201901.info()"
      ],
      "metadata": {
        "colab": {
          "base_uri": "https://localhost:8080/"
        },
        "id": "4auKtgd0L_jS",
        "outputId": "867cd4ce-d252-40f6-bde9-5874c5768383"
      },
      "execution_count": 27,
      "outputs": [
        {
          "output_type": "stream",
          "name": "stdout",
          "text": [
            "<class 'pandas.core.frame.DataFrame'>\n",
            "RangeIndex: 18 entries, 0 to 17\n",
            "Data columns (total 3 columns):\n",
            " #   Column  Non-Null Count  Dtype         \n",
            "---  ------  --------------  -----         \n",
            " 0   시도명     18 non-null     object        \n",
            " 1   소계      18 non-null     int64         \n",
            " 2   date    18 non-null     datetime64[ns]\n",
            "dtypes: datetime64[ns](1), int64(1), object(1)\n",
            "memory usage: 560.0+ bytes\n"
          ]
        }
      ]
    },
    {
      "cell_type": "code",
      "source": [
        "df_Bike201901"
      ],
      "metadata": {
        "colab": {
          "base_uri": "https://localhost:8080/",
          "height": 614
        },
        "id": "C4r7W5omLGur",
        "outputId": "f94a4698-7d0f-42b0-95d8-98dfe01d4530"
      },
      "execution_count": 28,
      "outputs": [
        {
          "output_type": "execute_result",
          "data": {
            "text/html": [
              "\n",
              "  <div id=\"df-b1f0f6e4-941a-4040-8491-007794bb0283\">\n",
              "    <div class=\"colab-df-container\">\n",
              "      <div>\n",
              "<style scoped>\n",
              "    .dataframe tbody tr th:only-of-type {\n",
              "        vertical-align: middle;\n",
              "    }\n",
              "\n",
              "    .dataframe tbody tr th {\n",
              "        vertical-align: top;\n",
              "    }\n",
              "\n",
              "    .dataframe thead th {\n",
              "        text-align: right;\n",
              "    }\n",
              "</style>\n",
              "<table border=\"1\" class=\"dataframe\">\n",
              "  <thead>\n",
              "    <tr style=\"text-align: right;\">\n",
              "      <th></th>\n",
              "      <th>시도명</th>\n",
              "      <th>소계</th>\n",
              "      <th>date</th>\n",
              "    </tr>\n",
              "  </thead>\n",
              "  <tbody>\n",
              "    <tr>\n",
              "      <th>0</th>\n",
              "      <td>서울</td>\n",
              "      <td>446550</td>\n",
              "      <td>2019-01-01</td>\n",
              "    </tr>\n",
              "    <tr>\n",
              "      <th>1</th>\n",
              "      <td>부산</td>\n",
              "      <td>130230</td>\n",
              "      <td>2019-01-01</td>\n",
              "    </tr>\n",
              "    <tr>\n",
              "      <th>2</th>\n",
              "      <td>대구</td>\n",
              "      <td>130058</td>\n",
              "      <td>2019-01-01</td>\n",
              "    </tr>\n",
              "    <tr>\n",
              "      <th>3</th>\n",
              "      <td>인천</td>\n",
              "      <td>73674</td>\n",
              "      <td>2019-01-01</td>\n",
              "    </tr>\n",
              "    <tr>\n",
              "      <th>4</th>\n",
              "      <td>광주</td>\n",
              "      <td>39614</td>\n",
              "      <td>2019-01-01</td>\n",
              "    </tr>\n",
              "    <tr>\n",
              "      <th>5</th>\n",
              "      <td>대전</td>\n",
              "      <td>37510</td>\n",
              "      <td>2019-01-01</td>\n",
              "    </tr>\n",
              "    <tr>\n",
              "      <th>6</th>\n",
              "      <td>울산</td>\n",
              "      <td>62469</td>\n",
              "      <td>2019-01-01</td>\n",
              "    </tr>\n",
              "    <tr>\n",
              "      <th>7</th>\n",
              "      <td>세종</td>\n",
              "      <td>11070</td>\n",
              "      <td>2019-01-01</td>\n",
              "    </tr>\n",
              "    <tr>\n",
              "      <th>8</th>\n",
              "      <td>경기</td>\n",
              "      <td>382430</td>\n",
              "      <td>2019-01-01</td>\n",
              "    </tr>\n",
              "    <tr>\n",
              "      <th>9</th>\n",
              "      <td>강원</td>\n",
              "      <td>64606</td>\n",
              "      <td>2019-01-01</td>\n",
              "    </tr>\n",
              "    <tr>\n",
              "      <th>10</th>\n",
              "      <td>충북</td>\n",
              "      <td>91208</td>\n",
              "      <td>2019-01-01</td>\n",
              "    </tr>\n",
              "    <tr>\n",
              "      <th>11</th>\n",
              "      <td>충남</td>\n",
              "      <td>134575</td>\n",
              "      <td>2019-01-01</td>\n",
              "    </tr>\n",
              "    <tr>\n",
              "      <th>12</th>\n",
              "      <td>전북</td>\n",
              "      <td>101248</td>\n",
              "      <td>2019-01-01</td>\n",
              "    </tr>\n",
              "    <tr>\n",
              "      <th>13</th>\n",
              "      <td>전남</td>\n",
              "      <td>118353</td>\n",
              "      <td>2019-01-01</td>\n",
              "    </tr>\n",
              "    <tr>\n",
              "      <th>14</th>\n",
              "      <td>경북</td>\n",
              "      <td>188856</td>\n",
              "      <td>2019-01-01</td>\n",
              "    </tr>\n",
              "    <tr>\n",
              "      <th>15</th>\n",
              "      <td>경남</td>\n",
              "      <td>162911</td>\n",
              "      <td>2019-01-01</td>\n",
              "    </tr>\n",
              "    <tr>\n",
              "      <th>16</th>\n",
              "      <td>제주</td>\n",
              "      <td>31470</td>\n",
              "      <td>2019-01-01</td>\n",
              "    </tr>\n",
              "    <tr>\n",
              "      <th>17</th>\n",
              "      <td>합계</td>\n",
              "      <td>2206832</td>\n",
              "      <td>2019-01-01</td>\n",
              "    </tr>\n",
              "  </tbody>\n",
              "</table>\n",
              "</div>\n",
              "      <button class=\"colab-df-convert\" onclick=\"convertToInteractive('df-b1f0f6e4-941a-4040-8491-007794bb0283')\"\n",
              "              title=\"Convert this dataframe to an interactive table.\"\n",
              "              style=\"display:none;\">\n",
              "        \n",
              "  <svg xmlns=\"http://www.w3.org/2000/svg\" height=\"24px\"viewBox=\"0 0 24 24\"\n",
              "       width=\"24px\">\n",
              "    <path d=\"M0 0h24v24H0V0z\" fill=\"none\"/>\n",
              "    <path d=\"M18.56 5.44l.94 2.06.94-2.06 2.06-.94-2.06-.94-.94-2.06-.94 2.06-2.06.94zm-11 1L8.5 8.5l.94-2.06 2.06-.94-2.06-.94L8.5 2.5l-.94 2.06-2.06.94zm10 10l.94 2.06.94-2.06 2.06-.94-2.06-.94-.94-2.06-.94 2.06-2.06.94z\"/><path d=\"M17.41 7.96l-1.37-1.37c-.4-.4-.92-.59-1.43-.59-.52 0-1.04.2-1.43.59L10.3 9.45l-7.72 7.72c-.78.78-.78 2.05 0 2.83L4 21.41c.39.39.9.59 1.41.59.51 0 1.02-.2 1.41-.59l7.78-7.78 2.81-2.81c.8-.78.8-2.07 0-2.86zM5.41 20L4 18.59l7.72-7.72 1.47 1.35L5.41 20z\"/>\n",
              "  </svg>\n",
              "      </button>\n",
              "      \n",
              "  <style>\n",
              "    .colab-df-container {\n",
              "      display:flex;\n",
              "      flex-wrap:wrap;\n",
              "      gap: 12px;\n",
              "    }\n",
              "\n",
              "    .colab-df-convert {\n",
              "      background-color: #E8F0FE;\n",
              "      border: none;\n",
              "      border-radius: 50%;\n",
              "      cursor: pointer;\n",
              "      display: none;\n",
              "      fill: #1967D2;\n",
              "      height: 32px;\n",
              "      padding: 0 0 0 0;\n",
              "      width: 32px;\n",
              "    }\n",
              "\n",
              "    .colab-df-convert:hover {\n",
              "      background-color: #E2EBFA;\n",
              "      box-shadow: 0px 1px 2px rgba(60, 64, 67, 0.3), 0px 1px 3px 1px rgba(60, 64, 67, 0.15);\n",
              "      fill: #174EA6;\n",
              "    }\n",
              "\n",
              "    [theme=dark] .colab-df-convert {\n",
              "      background-color: #3B4455;\n",
              "      fill: #D2E3FC;\n",
              "    }\n",
              "\n",
              "    [theme=dark] .colab-df-convert:hover {\n",
              "      background-color: #434B5C;\n",
              "      box-shadow: 0px 1px 3px 1px rgba(0, 0, 0, 0.15);\n",
              "      filter: drop-shadow(0px 1px 2px rgba(0, 0, 0, 0.3));\n",
              "      fill: #FFFFFF;\n",
              "    }\n",
              "  </style>\n",
              "\n",
              "      <script>\n",
              "        const buttonEl =\n",
              "          document.querySelector('#df-b1f0f6e4-941a-4040-8491-007794bb0283 button.colab-df-convert');\n",
              "        buttonEl.style.display =\n",
              "          google.colab.kernel.accessAllowed ? 'block' : 'none';\n",
              "\n",
              "        async function convertToInteractive(key) {\n",
              "          const element = document.querySelector('#df-b1f0f6e4-941a-4040-8491-007794bb0283');\n",
              "          const dataTable =\n",
              "            await google.colab.kernel.invokeFunction('convertToInteractive',\n",
              "                                                     [key], {});\n",
              "          if (!dataTable) return;\n",
              "\n",
              "          const docLinkHtml = 'Like what you see? Visit the ' +\n",
              "            '<a target=\"_blank\" href=https://colab.research.google.com/notebooks/data_table.ipynb>data table notebook</a>'\n",
              "            + ' to learn more about interactive tables.';\n",
              "          element.innerHTML = '';\n",
              "          dataTable['output_type'] = 'display_data';\n",
              "          await google.colab.output.renderOutput(dataTable, element);\n",
              "          const docLink = document.createElement('div');\n",
              "          docLink.innerHTML = docLinkHtml;\n",
              "          element.appendChild(docLink);\n",
              "        }\n",
              "      </script>\n",
              "    </div>\n",
              "  </div>\n",
              "  "
            ],
            "text/plain": [
              "   시도명       소계       date\n",
              "0   서울   446550 2019-01-01\n",
              "1   부산   130230 2019-01-01\n",
              "2   대구   130058 2019-01-01\n",
              "3   인천    73674 2019-01-01\n",
              "4   광주    39614 2019-01-01\n",
              "5   대전    37510 2019-01-01\n",
              "6   울산    62469 2019-01-01\n",
              "7   세종    11070 2019-01-01\n",
              "8   경기   382430 2019-01-01\n",
              "9   강원    64606 2019-01-01\n",
              "10  충북    91208 2019-01-01\n",
              "11  충남   134575 2019-01-01\n",
              "12  전북   101248 2019-01-01\n",
              "13  전남   118353 2019-01-01\n",
              "14  경북   188856 2019-01-01\n",
              "15  경남   162911 2019-01-01\n",
              "16  제주    31470 2019-01-01\n",
              "17  합계  2206832 2019-01-01"
            ]
          },
          "metadata": {},
          "execution_count": 28
        }
      ]
    },
    {
      "cell_type": "code",
      "source": [
        "df_Bike_plt = df_Bike201901.drop([17])"
      ],
      "metadata": {
        "id": "akNbVsu0FGXQ"
      },
      "execution_count": 29,
      "outputs": []
    },
    {
      "cell_type": "code",
      "source": [
        "plt.pie(df_Bike_plt['소계'], labels=df_Bike_plt['시도명'], autopct='%.1f%%')\n",
        "plt.rcParams['figure.figsize'] = (15, 15)\n",
        "plt.rc('font', family='NanumBarunGothic',)\n",
        "plt.title('2019년 지역별 오토바이 신고 대 수 비율')\n",
        "plt.show"
      ],
      "metadata": {
        "id": "Pf5_1VThuVBa",
        "colab": {
          "base_uri": "https://localhost:8080/",
          "height": 878
        },
        "outputId": "d8d7cffe-de57-459e-8df3-d1bf62c1e0b5"
      },
      "execution_count": 34,
      "outputs": [
        {
          "output_type": "execute_result",
          "data": {
            "text/plain": [
              "<function matplotlib.pyplot.show>"
            ]
          },
          "metadata": {},
          "execution_count": 34
        },
        {
          "output_type": "display_data",
          "data": {
            "image/png": "[encoded data removed]",
            "text/plain": [
              "<Figure size 1080x1080 with 1 Axes>"
            ]
          },
          "metadata": {}
        }
      ]
    },
    {
      "cell_type": "code",
      "source": [
        "df_Bike2019 = pd.concat([df_Bike201901, df_Bike201902, df_Bike201903, df_Bike201904, df_Bike201905, df_Bike201906, df_Bike201907, df_Bike201908, df_Bike201909, df_Bike201910, df_Bike201911, df_Bike201912])\n",
        "df_Bike2020 = pd.concat([df_Bike202001, df_Bike202002, df_Bike202003, df_Bike202004, df_Bike202005, df_Bike202006, df_Bike202007, df_Bike202008, df_Bike202009, df_Bike202010, df_Bike202011, df_Bike202012])\n",
        "df_Bike2021 = pd.concat([df_Bike202101, df_Bike202102, df_Bike202103, df_Bike202104, df_Bike202105, df_Bike202106, df_Bike202107, df_Bike202108, df_Bike202109, df_Bike202110, df_Bike202111, df_Bike202112])"
      ],
      "metadata": {
        "id": "snlsWI5muX6q"
      },
      "execution_count": 31,
      "outputs": []
    },
    {
      "cell_type": "code",
      "source": [
        "df_Bike2019"
      ],
      "metadata": {
        "colab": {
          "base_uri": "https://localhost:8080/",
          "height": 424
        },
        "id": "nW35x50JRGrj",
        "outputId": "b870e992-bec8-496e-849b-d830cdbf661c"
      },
      "execution_count": 32,
      "outputs": [
        {
          "output_type": "execute_result",
          "data": {
            "text/html": [
              "\n",
              "  <div id=\"df-2866b596-331d-4363-a44c-2f65f395008a\">\n",
              "    <div class=\"colab-df-container\">\n",
              "      <div>\n",
              "<style scoped>\n",
              "    .dataframe tbody tr th:only-of-type {\n",
              "        vertical-align: middle;\n",
              "    }\n",
              "\n",
              "    .dataframe tbody tr th {\n",
              "        vertical-align: top;\n",
              "    }\n",
              "\n",
              "    .dataframe thead th {\n",
              "        text-align: right;\n",
              "    }\n",
              "</style>\n",
              "<table border=\"1\" class=\"dataframe\">\n",
              "  <thead>\n",
              "    <tr style=\"text-align: right;\">\n",
              "      <th></th>\n",
              "      <th>시도명</th>\n",
              "      <th>소계</th>\n",
              "      <th>date</th>\n",
              "    </tr>\n",
              "  </thead>\n",
              "  <tbody>\n",
              "    <tr>\n",
              "      <th>0</th>\n",
              "      <td>서울</td>\n",
              "      <td>446550.0</td>\n",
              "      <td>2019-01-01</td>\n",
              "    </tr>\n",
              "    <tr>\n",
              "      <th>1</th>\n",
              "      <td>부산</td>\n",
              "      <td>130230.0</td>\n",
              "      <td>2019-01-01</td>\n",
              "    </tr>\n",
              "    <tr>\n",
              "      <th>2</th>\n",
              "      <td>대구</td>\n",
              "      <td>130058.0</td>\n",
              "      <td>2019-01-01</td>\n",
              "    </tr>\n",
              "    <tr>\n",
              "      <th>3</th>\n",
              "      <td>인천</td>\n",
              "      <td>73674.0</td>\n",
              "      <td>2019-01-01</td>\n",
              "    </tr>\n",
              "    <tr>\n",
              "      <th>4</th>\n",
              "      <td>광주</td>\n",
              "      <td>39614.0</td>\n",
              "      <td>2019-01-01</td>\n",
              "    </tr>\n",
              "    <tr>\n",
              "      <th>...</th>\n",
              "      <td>...</td>\n",
              "      <td>...</td>\n",
              "      <td>...</td>\n",
              "    </tr>\n",
              "    <tr>\n",
              "      <th>13</th>\n",
              "      <td>전남</td>\n",
              "      <td>118666.0</td>\n",
              "      <td>2019-12-01</td>\n",
              "    </tr>\n",
              "    <tr>\n",
              "      <th>14</th>\n",
              "      <td>경북</td>\n",
              "      <td>188706.0</td>\n",
              "      <td>2019-12-01</td>\n",
              "    </tr>\n",
              "    <tr>\n",
              "      <th>15</th>\n",
              "      <td>경남</td>\n",
              "      <td>163968.0</td>\n",
              "      <td>2019-12-01</td>\n",
              "    </tr>\n",
              "    <tr>\n",
              "      <th>16</th>\n",
              "      <td>제주</td>\n",
              "      <td>32646.0</td>\n",
              "      <td>2019-12-01</td>\n",
              "    </tr>\n",
              "    <tr>\n",
              "      <th>17</th>\n",
              "      <td>합계</td>\n",
              "      <td>2236895.0</td>\n",
              "      <td>2019-12-01</td>\n",
              "    </tr>\n",
              "  </tbody>\n",
              "</table>\n",
              "<p>216 rows × 3 columns</p>\n",
              "</div>\n",
              "      <button class=\"colab-df-convert\" onclick=\"convertToInteractive('df-2866b596-331d-4363-a44c-2f65f395008a')\"\n",
              "              title=\"Convert this dataframe to an interactive table.\"\n",
              "              style=\"display:none;\">\n",
              "        \n",
              "  <svg xmlns=\"http://www.w3.org/2000/svg\" height=\"24px\"viewBox=\"0 0 24 24\"\n",
              "       width=\"24px\">\n",
              "    <path d=\"M0 0h24v24H0V0z\" fill=\"none\"/>\n",
              "    <path d=\"M18.56 5.44l.94 2.06.94-2.06 2.06-.94-2.06-.94-.94-2.06-.94 2.06-2.06.94zm-11 1L8.5 8.5l.94-2.06 2.06-.94-2.06-.94L8.5 2.5l-.94 2.06-2.06.94zm10 10l.94 2.06.94-2.06 2.06-.94-2.06-.94-.94-2.06-.94 2.06-2.06.94z\"/><path d=\"M17.41 7.96l-1.37-1.37c-.4-.4-.92-.59-1.43-.59-.52 0-1.04.2-1.43.59L10.3 9.45l-7.72 7.72c-.78.78-.78 2.05 0 2.83L4 21.41c.39.39.9.59 1.41.59.51 0 1.02-.2 1.41-.59l7.78-7.78 2.81-2.81c.8-.78.8-2.07 0-2.86zM5.41 20L4 18.59l7.72-7.72 1.47 1.35L5.41 20z\"/>\n",
              "  </svg>\n",
              "      </button>\n",
              "      \n",
              "  <style>\n",
              "    .colab-df-container {\n",
              "      display:flex;\n",
              "      flex-wrap:wrap;\n",
              "      gap: 12px;\n",
              "    }\n",
              "\n",
              "    .colab-df-convert {\n",
              "      background-color: #E8F0FE;\n",
              "      border: none;\n",
              "      border-radius: 50%;\n",
              "      cursor: pointer;\n",
              "      display: none;\n",
              "      fill: #1967D2;\n",
              "      height: 32px;\n",
              "      padding: 0 0 0 0;\n",
              "      width: 32px;\n",
              "    }\n",
              "\n",
              "    .colab-df-convert:hover {\n",
              "      background-color: #E2EBFA;\n",
              "      box-shadow: 0px 1px 2px rgba(60, 64, 67, 0.3), 0px 1px 3px 1px rgba(60, 64, 67, 0.15);\n",
              "      fill: #174EA6;\n",
              "    }\n",
              "\n",
              "    [theme=dark] .colab-df-convert {\n",
              "      background-color: #3B4455;\n",
              "      fill: #D2E3FC;\n",
              "    }\n",
              "\n",
              "    [theme=dark] .colab-df-convert:hover {\n",
              "      background-color: #434B5C;\n",
              "      box-shadow: 0px 1px 3px 1px rgba(0, 0, 0, 0.15);\n",
              "      filter: drop-shadow(0px 1px 2px rgba(0, 0, 0, 0.3));\n",
              "      fill: #FFFFFF;\n",
              "    }\n",
              "  </style>\n",
              "\n",
              "      <script>\n",
              "        const buttonEl =\n",
              "          document.querySelector('#df-2866b596-331d-4363-a44c-2f65f395008a button.colab-df-convert');\n",
              "        buttonEl.style.display =\n",
              "          google.colab.kernel.accessAllowed ? 'block' : 'none';\n",
              "\n",
              "        async function convertToInteractive(key) {\n",
              "          const element = document.querySelector('#df-2866b596-331d-4363-a44c-2f65f395008a');\n",
              "          const dataTable =\n",
              "            await google.colab.kernel.invokeFunction('convertToInteractive',\n",
              "                                                     [key], {});\n",
              "          if (!dataTable) return;\n",
              "\n",
              "          const docLinkHtml = 'Like what you see? Visit the ' +\n",
              "            '<a target=\"_blank\" href=https://colab.research.google.com/notebooks/data_table.ipynb>data table notebook</a>'\n",
              "            + ' to learn more about interactive tables.';\n",
              "          element.innerHTML = '';\n",
              "          dataTable['output_type'] = 'display_data';\n",
              "          await google.colab.output.renderOutput(dataTable, element);\n",
              "          const docLink = document.createElement('div');\n",
              "          docLink.innerHTML = docLinkHtml;\n",
              "          element.appendChild(docLink);\n",
              "        }\n",
              "      </script>\n",
              "    </div>\n",
              "  </div>\n",
              "  "
            ],
            "text/plain": [
              "   시도명         소계       date\n",
              "0   서울   446550.0 2019-01-01\n",
              "1   부산   130230.0 2019-01-01\n",
              "2   대구   130058.0 2019-01-01\n",
              "3   인천    73674.0 2019-01-01\n",
              "4   광주    39614.0 2019-01-01\n",
              "..  ..        ...        ...\n",
              "13  전남   118666.0 2019-12-01\n",
              "14  경북   188706.0 2019-12-01\n",
              "15  경남   163968.0 2019-12-01\n",
              "16  제주    32646.0 2019-12-01\n",
              "17  합계  2236895.0 2019-12-01\n",
              "\n",
              "[216 rows x 3 columns]"
            ]
          },
          "metadata": {},
          "execution_count": 32
        }
      ]
    },
    {
      "cell_type": "code",
      "source": [
        "df_Bike19 = df_Bike2019.loc[[17]]\n",
        "df_Bike20 = df_Bike2020.loc[[17]]\n",
        "df_Bike21 = df_Bike2021.loc[[17]]"
      ],
      "metadata": {
        "id": "fiJGgf98PLCL"
      },
      "execution_count": 40,
      "outputs": []
    },
    {
      "cell_type": "code",
      "source": [
        "df_Bike19"
      ],
      "metadata": {
        "colab": {
          "base_uri": "https://localhost:8080/",
          "height": 425
        },
        "id": "ljSeuKYOcD_D",
        "outputId": "9a527087-e4a2-4ca5-f43a-0917c7cc8605"
      },
      "execution_count": 41,
      "outputs": [
        {
          "output_type": "execute_result",
          "data": {
            "text/html": [
              "\n",
              "  <div id=\"df-12bad0fc-d122-45a4-9b09-0445f7183dad\">\n",
              "    <div class=\"colab-df-container\">\n",
              "      <div>\n",
              "<style scoped>\n",
              "    .dataframe tbody tr th:only-of-type {\n",
              "        vertical-align: middle;\n",
              "    }\n",
              "\n",
              "    .dataframe tbody tr th {\n",
              "        vertical-align: top;\n",
              "    }\n",
              "\n",
              "    .dataframe thead th {\n",
              "        text-align: right;\n",
              "    }\n",
              "</style>\n",
              "<table border=\"1\" class=\"dataframe\">\n",
              "  <thead>\n",
              "    <tr style=\"text-align: right;\">\n",
              "      <th></th>\n",
              "      <th>시도명</th>\n",
              "      <th>소계</th>\n",
              "      <th>date</th>\n",
              "    </tr>\n",
              "  </thead>\n",
              "  <tbody>\n",
              "    <tr>\n",
              "      <th>17</th>\n",
              "      <td>합계</td>\n",
              "      <td>2206832.0</td>\n",
              "      <td>2019-01-01</td>\n",
              "    </tr>\n",
              "    <tr>\n",
              "      <th>17</th>\n",
              "      <td>합계</td>\n",
              "      <td>2206972.0</td>\n",
              "      <td>2019-02-01</td>\n",
              "    </tr>\n",
              "    <tr>\n",
              "      <th>17</th>\n",
              "      <td>합계</td>\n",
              "      <td>2209661.0</td>\n",
              "      <td>2019-03-01</td>\n",
              "    </tr>\n",
              "    <tr>\n",
              "      <th>17</th>\n",
              "      <td>합계</td>\n",
              "      <td>2213892.0</td>\n",
              "      <td>2019-04-01</td>\n",
              "    </tr>\n",
              "    <tr>\n",
              "      <th>17</th>\n",
              "      <td>합계</td>\n",
              "      <td>2218896.0</td>\n",
              "      <td>2019-05-01</td>\n",
              "    </tr>\n",
              "    <tr>\n",
              "      <th>17</th>\n",
              "      <td>합계</td>\n",
              "      <td>2221772.0</td>\n",
              "      <td>2019-06-01</td>\n",
              "    </tr>\n",
              "    <tr>\n",
              "      <th>17</th>\n",
              "      <td>합계</td>\n",
              "      <td>2226501.0</td>\n",
              "      <td>2019-07-01</td>\n",
              "    </tr>\n",
              "    <tr>\n",
              "      <th>17</th>\n",
              "      <td>합계</td>\n",
              "      <td>2231687.0</td>\n",
              "      <td>2019-08-01</td>\n",
              "    </tr>\n",
              "    <tr>\n",
              "      <th>17</th>\n",
              "      <td>합계</td>\n",
              "      <td>2236941.0</td>\n",
              "      <td>2019-09-01</td>\n",
              "    </tr>\n",
              "    <tr>\n",
              "      <th>17</th>\n",
              "      <td>합계</td>\n",
              "      <td>2239315.0</td>\n",
              "      <td>2019-10-01</td>\n",
              "    </tr>\n",
              "    <tr>\n",
              "      <th>17</th>\n",
              "      <td>합계</td>\n",
              "      <td>2238594.0</td>\n",
              "      <td>2019-11-01</td>\n",
              "    </tr>\n",
              "    <tr>\n",
              "      <th>17</th>\n",
              "      <td>합계</td>\n",
              "      <td>2236895.0</td>\n",
              "      <td>2019-12-01</td>\n",
              "    </tr>\n",
              "  </tbody>\n",
              "</table>\n",
              "</div>\n",
              "      <button class=\"colab-df-convert\" onclick=\"convertToInteractive('df-12bad0fc-d122-45a4-9b09-0445f7183dad')\"\n",
              "              title=\"Convert this dataframe to an interactive table.\"\n",
              "              style=\"display:none;\">\n",
              "        \n",
              "  <svg xmlns=\"http://www.w3.org/2000/svg\" height=\"24px\"viewBox=\"0 0 24 24\"\n",
              "       width=\"24px\">\n",
              "    <path d=\"M0 0h24v24H0V0z\" fill=\"none\"/>\n",
              "    <path d=\"M18.56 5.44l.94 2.06.94-2.06 2.06-.94-2.06-.94-.94-2.06-.94 2.06-2.06.94zm-11 1L8.5 8.5l.94-2.06 2.06-.94-2.06-.94L8.5 2.5l-.94 2.06-2.06.94zm10 10l.94 2.06.94-2.06 2.06-.94-2.06-.94-.94-2.06-.94 2.06-2.06.94z\"/><path d=\"M17.41 7.96l-1.37-1.37c-.4-.4-.92-.59-1.43-.59-.52 0-1.04.2-1.43.59L10.3 9.45l-7.72 7.72c-.78.78-.78 2.05 0 2.83L4 21.41c.39.39.9.59 1.41.59.51 0 1.02-.2 1.41-.59l7.78-7.78 2.81-2.81c.8-.78.8-2.07 0-2.86zM5.41 20L4 18.59l7.72-7.72 1.47 1.35L5.41 20z\"/>\n",
              "  </svg>\n",
              "      </button>\n",
              "      \n",
              "  <style>\n",
              "    .colab-df-container {\n",
              "      display:flex;\n",
              "      flex-wrap:wrap;\n",
              "      gap: 12px;\n",
              "    }\n",
              "\n",
              "    .colab-df-convert {\n",
              "      background-color: #E8F0FE;\n",
              "      border: none;\n",
              "      border-radius: 50%;\n",
              "      cursor: pointer;\n",
              "      display: none;\n",
              "      fill: #1967D2;\n",
              "      height: 32px;\n",
              "      padding: 0 0 0 0;\n",
              "      width: 32px;\n",
              "    }\n",
              "\n",
              "    .colab-df-convert:hover {\n",
              "      background-color: #E2EBFA;\n",
              "      box-shadow: 0px 1px 2px rgba(60, 64, 67, 0.3), 0px 1px 3px 1px rgba(60, 64, 67, 0.15);\n",
              "      fill: #174EA6;\n",
              "    }\n",
              "\n",
              "    [theme=dark] .colab-df-convert {\n",
              "      background-color: #3B4455;\n",
              "      fill: #D2E3FC;\n",
              "    }\n",
              "\n",
              "    [theme=dark] .colab-df-convert:hover {\n",
              "      background-color: #434B5C;\n",
              "      box-shadow: 0px 1px 3px 1px rgba(0, 0, 0, 0.15);\n",
              "      filter: drop-shadow(0px 1px 2px rgba(0, 0, 0, 0.3));\n",
              "      fill: #FFFFFF;\n",
              "    }\n",
              "  </style>\n",
              "\n",
              "      <script>\n",
              "        const buttonEl =\n",
              "          document.querySelector('#df-12bad0fc-d122-45a4-9b09-0445f7183dad button.colab-df-convert');\n",
              "        buttonEl.style.display =\n",
              "          google.colab.kernel.accessAllowed ? 'block' : 'none';\n",
              "\n",
              "        async function convertToInteractive(key) {\n",
              "          const element = document.querySelector('#df-12bad0fc-d122-45a4-9b09-0445f7183dad');\n",
              "          const dataTable =\n",
              "            await google.colab.kernel.invokeFunction('convertToInteractive',\n",
              "                                                     [key], {});\n",
              "          if (!dataTable) return;\n",
              "\n",
              "          const docLinkHtml = 'Like what you see? Visit the ' +\n",
              "            '<a target=\"_blank\" href=https://colab.research.google.com/notebooks/data_table.ipynb>data table notebook</a>'\n",
              "            + ' to learn more about interactive tables.';\n",
              "          element.innerHTML = '';\n",
              "          dataTable['output_type'] = 'display_data';\n",
              "          await google.colab.output.renderOutput(dataTable, element);\n",
              "          const docLink = document.createElement('div');\n",
              "          docLink.innerHTML = docLinkHtml;\n",
              "          element.appendChild(docLink);\n",
              "        }\n",
              "      </script>\n",
              "    </div>\n",
              "  </div>\n",
              "  "
            ],
            "text/plain": [
              "   시도명         소계       date\n",
              "17  합계  2206832.0 2019-01-01\n",
              "17  합계  2206972.0 2019-02-01\n",
              "17  합계  2209661.0 2019-03-01\n",
              "17  합계  2213892.0 2019-04-01\n",
              "17  합계  2218896.0 2019-05-01\n",
              "17  합계  2221772.0 2019-06-01\n",
              "17  합계  2226501.0 2019-07-01\n",
              "17  합계  2231687.0 2019-08-01\n",
              "17  합계  2236941.0 2019-09-01\n",
              "17  합계  2239315.0 2019-10-01\n",
              "17  합계  2238594.0 2019-11-01\n",
              "17  합계  2236895.0 2019-12-01"
            ]
          },
          "metadata": {},
          "execution_count": 41
        }
      ]
    },
    {
      "cell_type": "code",
      "source": [
        ""
      ],
      "metadata": {
        "id": "Zq-WRqYrPa2a"
      },
      "execution_count": 32,
      "outputs": []
    },
    {
      "cell_type": "code",
      "source": [
        "df_Bike19.columns = ['시도명', 'count', 'date']\n",
        "df_Bike20.columns = ['시도명', 'count', 'date']\n",
        "df_Bike21.columns = ['시도명', 'count', 'date']"
      ],
      "metadata": {
        "id": "WQ4LEjCBwpgT"
      },
      "execution_count": 44,
      "outputs": []
    },
    {
      "cell_type": "code",
      "source": [
        "co = [1, 2, 3, 4, 5, 6, 7, 8, 9, 10, 11, 12]\n",
        "coun = df_Bike19['count']\n",
        "g = sns.barplot(x=co, y=coun)\n",
        "ax = g\n",
        "\n",
        "for p in ax.patches:\n",
        "  ax.annotate(\"%.0f\" % p.get_height(), (p.get_x() + p.get_width() / 2., p.get_height() - 30),\n",
        "              ha='center', va='center', fontsize=20, color='black', xytext=(0,10), textcoords='offset points')\n",
        "plt.rcParams['figure.figsize'] = [30, 15]\n",
        "plt.xticks(fontsize=12, rotation=0)\n",
        "plt.title('2019년 오토바이 등록 대 수')"
      ],
      "metadata": {
        "colab": {
          "base_uri": "https://localhost:8080/",
          "height": 897
        },
        "id": "4irIoFzsOXKy",
        "outputId": "b45381a4-ca84-4cb2-d4d4-cbf5b9e9ee06"
      },
      "execution_count": 39,
      "outputs": [
        {
          "output_type": "execute_result",
          "data": {
            "text/plain": [
              "Text(0.5, 1.0, '2019년 오토바이 등록 대 수')"
            ]
          },
          "metadata": {},
          "execution_count": 39
        },
        {
          "output_type": "display_data",
          "data": {
            "image/png": "[encoded data removed]",
            "text/plain": [
              "<Figure size 2160x1080 with 1 Axes>"
            ]
          },
          "metadata": {
            "needs_background": "light"
          }
        }
      ]
    },
    {
      "cell_type": "code",
      "source": [
        "co = [1, 2, 3, 4, 5, 6, 7, 8, 9, 10, 11, 12]\n",
        "coun = df_Bike20['count']\n",
        "g = sns.barplot(x=co, y=coun)\n",
        "ax = g\n",
        "\n",
        "for p in ax.patches:\n",
        "  ax.annotate(\"%.0f\" % p.get_height(), (p.get_x() + p.get_width() / 2., p.get_height() - 30),\n",
        "              ha='center', va='center', fontsize=20, color='black', xytext=(0,10), textcoords='offset points')\n",
        "plt.rcParams['figure.figsize'] = [30, 15]\n",
        "plt.xticks(fontsize=12, rotation=0)\n",
        "plt.title('2020년 오토바이 등록 대 수')"
      ],
      "metadata": {
        "colab": {
          "base_uri": "https://localhost:8080/",
          "height": 897
        },
        "id": "2EMfD_g2SIqD",
        "outputId": "56748254-4ffe-4140-a777-32c61ddfac8f"
      },
      "execution_count": 66,
      "outputs": [
        {
          "output_type": "execute_result",
          "data": {
            "text/plain": [
              "Text(0.5, 1.0, '2020년 오토바이 등록 대 수')"
            ]
          },
          "metadata": {},
          "execution_count": 66
        },
        {
          "output_type": "display_data",
          "data": {
            "image/png": "[encoded data removed]",
            "text/plain": [
              "<Figure size 2160x1080 with 1 Axes>"
            ]
          },
          "metadata": {
            "needs_background": "light"
          }
        }
      ]
    },
    {
      "cell_type": "code",
      "source": [
        "co = [1, 2, 3, 4, 5, 6, 7, 8, 9, 10, 11, 12]\n",
        "coun = df_Bike21['count']\n",
        "g = sns.barplot(x=co, y=coun)\n",
        "ax = g\n",
        "\n",
        "for p in ax.patches:\n",
        "  ax.annotate(\"%.0f\" % p.get_height(), (p.get_x() + p.get_width() / 2., p.get_height() - 30),\n",
        "              ha='center', va='center', fontsize=20, color='black', xytext=(0,10), textcoords='offset points')\n",
        "plt.rcParams['figure.figsize'] = [30, 15]\n",
        "plt.xticks(fontsize=12, rotation=0)\n",
        "plt.title('2021년 오토바이 등록 대 수')"
      ],
      "metadata": {
        "colab": {
          "base_uri": "https://localhost:8080/",
          "height": 897
        },
        "id": "cUGawUzdgObV",
        "outputId": "fbd259cb-69bb-4d88-d492-1665b2d62981"
      },
      "execution_count": 67,
      "outputs": [
        {
          "output_type": "execute_result",
          "data": {
            "text/plain": [
              "Text(0.5, 1.0, '2021년 오토바이 등록 대 수')"
            ]
          },
          "metadata": {},
          "execution_count": 67
        },
        {
          "output_type": "display_data",
          "data": {
            "image/png": "[encoded data removed]",
            "text/plain": [
              "<Figure size 2160x1080 with 1 Axes>"
            ]
          },
          "metadata": {
            "needs_background": "light"
          }
        }
      ]
    },
    {
      "cell_type": "markdown",
      "source": [
        "# **이륜차 사고 사망자, 부상자 수 분석**"
      ],
      "metadata": {
        "id": "90us5gwkhigU"
      }
    },
    {
      "cell_type": "code",
      "source": [
        "df_Bike_accident_2020"
      ],
      "metadata": {
        "id": "WTDL0A2ogQB1"
      },
      "execution_count": null,
      "outputs": []
    },
    {
      "cell_type": "code",
      "source": [
        "df_Bike_accident_gu"
      ],
      "metadata": {
        "id": "Upq1PPWmhhat"
      },
      "execution_count": null,
      "outputs": []
    },
    {
      "cell_type": "code",
      "source": [
        "df_Bike_NOA"
      ],
      "metadata": {
        "colab": {
          "base_uri": "https://localhost:8080/",
          "height": 175
        },
        "id": "tZPgY1LVh569",
        "outputId": "46335a37-d9e2-4c2e-a9a9-002addcdf5af"
      },
      "execution_count": 51,
      "outputs": [
        {
          "output_type": "execute_result",
          "data": {
            "text/html": [
              "\n",
              "  <div id=\"df-8641af19-fe43-4f33-a17e-186418aff764\">\n",
              "    <div class=\"colab-df-container\">\n",
              "      <div>\n",
              "<style scoped>\n",
              "    .dataframe tbody tr th:only-of-type {\n",
              "        vertical-align: middle;\n",
              "    }\n",
              "\n",
              "    .dataframe tbody tr th {\n",
              "        vertical-align: top;\n",
              "    }\n",
              "\n",
              "    .dataframe thead th {\n",
              "        text-align: right;\n",
              "    }\n",
              "</style>\n",
              "<table border=\"1\" class=\"dataframe\">\n",
              "  <thead>\n",
              "    <tr style=\"text-align: right;\">\n",
              "      <th></th>\n",
              "      <th>사고건수</th>\n",
              "      <th>사망자수</th>\n",
              "      <th>부상자수</th>\n",
              "      <th>날자</th>\n",
              "    </tr>\n",
              "  </thead>\n",
              "  <tbody>\n",
              "    <tr>\n",
              "      <th>0</th>\n",
              "      <td>22080</td>\n",
              "      <td>406</td>\n",
              "      <td>25668</td>\n",
              "      <td>2017</td>\n",
              "    </tr>\n",
              "    <tr>\n",
              "      <th>1</th>\n",
              "      <td>23794</td>\n",
              "      <td>410</td>\n",
              "      <td>28063</td>\n",
              "      <td>2018</td>\n",
              "    </tr>\n",
              "    <tr>\n",
              "      <th>2</th>\n",
              "      <td>27751</td>\n",
              "      <td>422</td>\n",
              "      <td>33647</td>\n",
              "      <td>2019</td>\n",
              "    </tr>\n",
              "    <tr>\n",
              "      <th>3</th>\n",
              "      <td>34046</td>\n",
              "      <td>439</td>\n",
              "      <td>40830</td>\n",
              "      <td>2020</td>\n",
              "    </tr>\n",
              "  </tbody>\n",
              "</table>\n",
              "</div>\n",
              "      <button class=\"colab-df-convert\" onclick=\"convertToInteractive('df-8641af19-fe43-4f33-a17e-186418aff764')\"\n",
              "              title=\"Convert this dataframe to an interactive table.\"\n",
              "              style=\"display:none;\">\n",
              "        \n",
              "  <svg xmlns=\"http://www.w3.org/2000/svg\" height=\"24px\"viewBox=\"0 0 24 24\"\n",
              "       width=\"24px\">\n",
              "    <path d=\"M0 0h24v24H0V0z\" fill=\"none\"/>\n",
              "    <path d=\"M18.56 5.44l.94 2.06.94-2.06 2.06-.94-2.06-.94-.94-2.06-.94 2.06-2.06.94zm-11 1L8.5 8.5l.94-2.06 2.06-.94-2.06-.94L8.5 2.5l-.94 2.06-2.06.94zm10 10l.94 2.06.94-2.06 2.06-.94-2.06-.94-.94-2.06-.94 2.06-2.06.94z\"/><path d=\"M17.41 7.96l-1.37-1.37c-.4-.4-.92-.59-1.43-.59-.52 0-1.04.2-1.43.59L10.3 9.45l-7.72 7.72c-.78.78-.78 2.05 0 2.83L4 21.41c.39.39.9.59 1.41.59.51 0 1.02-.2 1.41-.59l7.78-7.78 2.81-2.81c.8-.78.8-2.07 0-2.86zM5.41 20L4 18.59l7.72-7.72 1.47 1.35L5.41 20z\"/>\n",
              "  </svg>\n",
              "      </button>\n",
              "      \n",
              "  <style>\n",
              "    .colab-df-container {\n",
              "      display:flex;\n",
              "      flex-wrap:wrap;\n",
              "      gap: 12px;\n",
              "    }\n",
              "\n",
              "    .colab-df-convert {\n",
              "      background-color: #E8F0FE;\n",
              "      border: none;\n",
              "      border-radius: 50%;\n",
              "      cursor: pointer;\n",
              "      display: none;\n",
              "      fill: #1967D2;\n",
              "      height: 32px;\n",
              "      padding: 0 0 0 0;\n",
              "      width: 32px;\n",
              "    }\n",
              "\n",
              "    .colab-df-convert:hover {\n",
              "      background-color: #E2EBFA;\n",
              "      box-shadow: 0px 1px 2px rgba(60, 64, 67, 0.3), 0px 1px 3px 1px rgba(60, 64, 67, 0.15);\n",
              "      fill: #174EA6;\n",
              "    }\n",
              "\n",
              "    [theme=dark] .colab-df-convert {\n",
              "      background-color: #3B4455;\n",
              "      fill: #D2E3FC;\n",
              "    }\n",
              "\n",
              "    [theme=dark] .colab-df-convert:hover {\n",
              "      background-color: #434B5C;\n",
              "      box-shadow: 0px 1px 3px 1px rgba(0, 0, 0, 0.15);\n",
              "      filter: drop-shadow(0px 1px 2px rgba(0, 0, 0, 0.3));\n",
              "      fill: #FFFFFF;\n",
              "    }\n",
              "  </style>\n",
              "\n",
              "      <script>\n",
              "        const buttonEl =\n",
              "          document.querySelector('#df-8641af19-fe43-4f33-a17e-186418aff764 button.colab-df-convert');\n",
              "        buttonEl.style.display =\n",
              "          google.colab.kernel.accessAllowed ? 'block' : 'none';\n",
              "\n",
              "        async function convertToInteractive(key) {\n",
              "          const element = document.querySelector('#df-8641af19-fe43-4f33-a17e-186418aff764');\n",
              "          const dataTable =\n",
              "            await google.colab.kernel.invokeFunction('convertToInteractive',\n",
              "                                                     [key], {});\n",
              "          if (!dataTable) return;\n",
              "\n",
              "          const docLinkHtml = 'Like what you see? Visit the ' +\n",
              "            '<a target=\"_blank\" href=https://colab.research.google.com/notebooks/data_table.ipynb>data table notebook</a>'\n",
              "            + ' to learn more about interactive tables.';\n",
              "          element.innerHTML = '';\n",
              "          dataTable['output_type'] = 'display_data';\n",
              "          await google.colab.output.renderOutput(dataTable, element);\n",
              "          const docLink = document.createElement('div');\n",
              "          docLink.innerHTML = docLinkHtml;\n",
              "          element.appendChild(docLink);\n",
              "        }\n",
              "      </script>\n",
              "    </div>\n",
              "  </div>\n",
              "  "
            ],
            "text/plain": [
              "    사고건수  사망자수   부상자수    날자\n",
              "0  22080   406  25668  2017\n",
              "1  23794   410  28063  2018\n",
              "2  27751   422  33647  2019\n",
              "3  34046   439  40830  2020"
            ]
          },
          "metadata": {},
          "execution_count": 51
        }
      ]
    },
    {
      "cell_type": "code",
      "source": [
        "co = df_Bike_NOA['날자']\n",
        "coun = df_Bike_NOA['사고건수']\n",
        "g = sns.barplot(x=co, y=coun)\n",
        "ax = g\n",
        "\n",
        "for p in ax.patches:\n",
        "  ax.annotate(\"%.0f\" % p.get_height(), (p.get_x() + p.get_width() / 2., p.get_height() - 30),\n",
        "              ha='center', va='center', fontsize=20, color='black', xytext=(0,10), textcoords='offset points')\n",
        "plt.rcParams['figure.figsize'] = [30, 15]\n",
        "plt.xticks(fontsize=12, rotation=0)\n",
        "plt.title('년 별 이륜차 사고 대 수', fontsize=20)"
      ],
      "metadata": {
        "colab": {
          "base_uri": "https://localhost:8080/",
          "height": 918
        },
        "id": "Piwkh_RniQ3F",
        "outputId": "8d7d75e9-99de-4228-9f6a-1406e592d2fd"
      },
      "execution_count": 61,
      "outputs": [
        {
          "output_type": "execute_result",
          "data": {
            "text/plain": [
              "Text(0.5, 1.0, '년 별 이륜차 사고 대 수')"
            ]
          },
          "metadata": {},
          "execution_count": 61
        },
        {
          "output_type": "display_data",
          "data": {
            "image/png": "[encoded data removed]",
            "text/plain": [
              "<Figure size 2160x1080 with 1 Axes>"
            ]
          },
          "metadata": {
            "needs_background": "light"
          }
        }
      ]
    },
    {
      "cell_type": "code",
      "source": [
        "co = df_Bike_NOA['날자']\n",
        "coun = df_Bike_NOA['사망자수']\n",
        "g = sns.barplot(x=co, y=coun)\n",
        "ax = g\n",
        "\n",
        "for p in ax.patches:\n",
        "  ax.annotate(\"%.0f\" % p.get_height(), (p.get_x() + p.get_width() / 2., p.get_height() - 30),\n",
        "              ha='center', va='center', fontsize=20, color='black', xytext=(0,10), textcoords='offset points')\n",
        "plt.rcParams['figure.figsize'] = [30, 15]\n",
        "plt.xticks(fontsize=12, rotation=0)\n",
        "plt.title('년 별 이륜차 사고로 인한 사망자 수', fontsize=20)"
      ],
      "metadata": {
        "colab": {
          "base_uri": "https://localhost:8080/",
          "height": 918
        },
        "id": "Ix1YMuc-jIA1",
        "outputId": "83d38bed-e230-4809-fa1a-3519176d7fc4"
      },
      "execution_count": 60,
      "outputs": [
        {
          "output_type": "execute_result",
          "data": {
            "text/plain": [
              "Text(0.5, 1.0, '년 별 이륜차 사고로 인한 사망자 수')"
            ]
          },
          "metadata": {},
          "execution_count": 60
        },
        {
          "output_type": "display_data",
          "data": {
            "image/png": "[encoded data removed]",
            "text/plain": [
              "<Figure size 2160x1080 with 1 Axes>"
            ]
          },
          "metadata": {
            "needs_background": "light"
          }
        }
      ]
    },
    {
      "cell_type": "code",
      "source": [
        "co = df_Bike_NOA['날자']\n",
        "coun = df_Bike_NOA['부상자수']\n",
        "g = sns.barplot(x=co, y=coun)\n",
        "ax = g\n",
        "\n",
        "for p in ax.patches:\n",
        "  ax.annotate(\"%.0f\" % p.get_height(), (p.get_x() + p.get_width() / 2., p.get_height() - 30),\n",
        "              ha='center', va='center', fontsize=20, color='black', xytext=(0,10), textcoords='offset points')\n",
        "plt.rcParams['figure.figsize'] = [30, 15]\n",
        "plt.xticks(fontsize=12, rotation=0)\n",
        "plt.title('년 별 이륜차 사고로 인한 부상자 수', fontsize=20)"
      ],
      "metadata": {
        "colab": {
          "base_uri": "https://localhost:8080/",
          "height": 918
        },
        "id": "n5pPqgdPjNaF",
        "outputId": "1e5fdd4a-ee93-40b1-bd0b-7f0f65ac84f0"
      },
      "execution_count": 65,
      "outputs": [
        {
          "output_type": "execute_result",
          "data": {
            "text/plain": [
              "Text(0.5, 1.0, '년 별 이륜차 사고로 인한 부상자 수')"
            ]
          },
          "metadata": {},
          "execution_count": 65
        },
        {
          "output_type": "display_data",
          "data": {
            "image/png": "[encoded data removed]",
            "text/plain": [
              "<Figure size 2160x1080 with 1 Axes>"
            ]
          },
          "metadata": {
            "needs_background": "light"
          }
        }
      ]
    },
    {
      "cell_type": "code",
      "source": [
        ""
      ],
      "metadata": {
        "id": "v1D0fCLblgSH"
      },
      "execution_count": null,
      "outputs": []
    },
    {
      "cell_type": "markdown",
      "source": [
        "# **이륜차 단속 분석**"
      ],
      "metadata": {
        "id": "1N1tdhYnlu49"
      }
    },
    {
      "cell_type": "code",
      "source": [
        "df_Bike_violate"
      ],
      "metadata": {
        "colab": {
          "base_uri": "https://localhost:8080/",
          "height": 206
        },
        "id": "f4Fjo0UKlxh4",
        "outputId": "18217cff-a351-483d-dc7a-0eb22fd15310"
      },
      "execution_count": 64,
      "outputs": [
        {
          "output_type": "execute_result",
          "data": {
            "text/html": [
              "\n",
              "  <div id=\"df-ebe90e73-3f03-43bf-bc74-4bf402b5528f\">\n",
              "    <div class=\"colab-df-container\">\n",
              "      <div>\n",
              "<style scoped>\n",
              "    .dataframe tbody tr th:only-of-type {\n",
              "        vertical-align: middle;\n",
              "    }\n",
              "\n",
              "    .dataframe tbody tr th {\n",
              "        vertical-align: top;\n",
              "    }\n",
              "\n",
              "    .dataframe thead th {\n",
              "        text-align: right;\n",
              "    }\n",
              "</style>\n",
              "<table border=\"1\" class=\"dataframe\">\n",
              "  <thead>\n",
              "    <tr style=\"text-align: right;\">\n",
              "      <th></th>\n",
              "      <th>연도</th>\n",
              "      <th>신호위반</th>\n",
              "      <th>중앙선침범</th>\n",
              "      <th>과속</th>\n",
              "      <th>안전운전 의무위반</th>\n",
              "      <th>보호장구미착용</th>\n",
              "      <th>보도통행</th>\n",
              "      <th>기타</th>\n",
              "    </tr>\n",
              "  </thead>\n",
              "  <tbody>\n",
              "    <tr>\n",
              "      <th>0</th>\n",
              "      <td>2017</td>\n",
              "      <td>38702</td>\n",
              "      <td>4987</td>\n",
              "      <td>71</td>\n",
              "      <td>3512</td>\n",
              "      <td>180889</td>\n",
              "      <td>14997</td>\n",
              "      <td>77212</td>\n",
              "    </tr>\n",
              "    <tr>\n",
              "      <th>1</th>\n",
              "      <td>2018</td>\n",
              "      <td>37087</td>\n",
              "      <td>4222</td>\n",
              "      <td>39</td>\n",
              "      <td>4360</td>\n",
              "      <td>138386</td>\n",
              "      <td>10677</td>\n",
              "      <td>46939</td>\n",
              "    </tr>\n",
              "    <tr>\n",
              "      <th>2</th>\n",
              "      <td>2019</td>\n",
              "      <td>47887</td>\n",
              "      <td>4602</td>\n",
              "      <td>95</td>\n",
              "      <td>3954</td>\n",
              "      <td>147080</td>\n",
              "      <td>12037</td>\n",
              "      <td>56131</td>\n",
              "    </tr>\n",
              "    <tr>\n",
              "      <th>3</th>\n",
              "      <td>2020</td>\n",
              "      <td>76356</td>\n",
              "      <td>6894</td>\n",
              "      <td>134</td>\n",
              "      <td>4414</td>\n",
              "      <td>164261</td>\n",
              "      <td>18833</td>\n",
              "      <td>80102</td>\n",
              "    </tr>\n",
              "    <tr>\n",
              "      <th>4</th>\n",
              "      <td>2021</td>\n",
              "      <td>86915</td>\n",
              "      <td>9620</td>\n",
              "      <td>404</td>\n",
              "      <td>4583</td>\n",
              "      <td>158241</td>\n",
              "      <td>20522</td>\n",
              "      <td>127189</td>\n",
              "    </tr>\n",
              "  </tbody>\n",
              "</table>\n",
              "</div>\n",
              "      <button class=\"colab-df-convert\" onclick=\"convertToInteractive('df-ebe90e73-3f03-43bf-bc74-4bf402b5528f')\"\n",
              "              title=\"Convert this dataframe to an interactive table.\"\n",
              "              style=\"display:none;\">\n",
              "        \n",
              "  <svg xmlns=\"http://www.w3.org/2000/svg\" height=\"24px\"viewBox=\"0 0 24 24\"\n",
              "       width=\"24px\">\n",
              "    <path d=\"M0 0h24v24H0V0z\" fill=\"none\"/>\n",
              "    <path d=\"M18.56 5.44l.94 2.06.94-2.06 2.06-.94-2.06-.94-.94-2.06-.94 2.06-2.06.94zm-11 1L8.5 8.5l.94-2.06 2.06-.94-2.06-.94L8.5 2.5l-.94 2.06-2.06.94zm10 10l.94 2.06.94-2.06 2.06-.94-2.06-.94-.94-2.06-.94 2.06-2.06.94z\"/><path d=\"M17.41 7.96l-1.37-1.37c-.4-.4-.92-.59-1.43-.59-.52 0-1.04.2-1.43.59L10.3 9.45l-7.72 7.72c-.78.78-.78 2.05 0 2.83L4 21.41c.39.39.9.59 1.41.59.51 0 1.02-.2 1.41-.59l7.78-7.78 2.81-2.81c.8-.78.8-2.07 0-2.86zM5.41 20L4 18.59l7.72-7.72 1.47 1.35L5.41 20z\"/>\n",
              "  </svg>\n",
              "      </button>\n",
              "      \n",
              "  <style>\n",
              "    .colab-df-container {\n",
              "      display:flex;\n",
              "      flex-wrap:wrap;\n",
              "      gap: 12px;\n",
              "    }\n",
              "\n",
              "    .colab-df-convert {\n",
              "      background-color: #E8F0FE;\n",
              "      border: none;\n",
              "      border-radius: 50%;\n",
              "      cursor: pointer;\n",
              "      display: none;\n",
              "      fill: #1967D2;\n",
              "      height: 32px;\n",
              "      padding: 0 0 0 0;\n",
              "      width: 32px;\n",
              "    }\n",
              "\n",
              "    .colab-df-convert:hover {\n",
              "      background-color: #E2EBFA;\n",
              "      box-shadow: 0px 1px 2px rgba(60, 64, 67, 0.3), 0px 1px 3px 1px rgba(60, 64, 67, 0.15);\n",
              "      fill: #174EA6;\n",
              "    }\n",
              "\n",
              "    [theme=dark] .colab-df-convert {\n",
              "      background-color: #3B4455;\n",
              "      fill: #D2E3FC;\n",
              "    }\n",
              "\n",
              "    [theme=dark] .colab-df-convert:hover {\n",
              "      background-color: #434B5C;\n",
              "      box-shadow: 0px 1px 3px 1px rgba(0, 0, 0, 0.15);\n",
              "      filter: drop-shadow(0px 1px 2px rgba(0, 0, 0, 0.3));\n",
              "      fill: #FFFFFF;\n",
              "    }\n",
              "  </style>\n",
              "\n",
              "      <script>\n",
              "        const buttonEl =\n",
              "          document.querySelector('#df-ebe90e73-3f03-43bf-bc74-4bf402b5528f button.colab-df-convert');\n",
              "        buttonEl.style.display =\n",
              "          google.colab.kernel.accessAllowed ? 'block' : 'none';\n",
              "\n",
              "        async function convertToInteractive(key) {\n",
              "          const element = document.querySelector('#df-ebe90e73-3f03-43bf-bc74-4bf402b5528f');\n",
              "          const dataTable =\n",
              "            await google.colab.kernel.invokeFunction('convertToInteractive',\n",
              "                                                     [key], {});\n",
              "          if (!dataTable) return;\n",
              "\n",
              "          const docLinkHtml = 'Like what you see? Visit the ' +\n",
              "            '<a target=\"_blank\" href=https://colab.research.google.com/notebooks/data_table.ipynb>data table notebook</a>'\n",
              "            + ' to learn more about interactive tables.';\n",
              "          element.innerHTML = '';\n",
              "          dataTable['output_type'] = 'display_data';\n",
              "          await google.colab.output.renderOutput(dataTable, element);\n",
              "          const docLink = document.createElement('div');\n",
              "          docLink.innerHTML = docLinkHtml;\n",
              "          element.appendChild(docLink);\n",
              "        }\n",
              "      </script>\n",
              "    </div>\n",
              "  </div>\n",
              "  "
            ],
            "text/plain": [
              "     연도   신호위반  중앙선침범   과속  안전운전 의무위반  보호장구미착용   보도통행      기타\n",
              "0  2017  38702   4987   71       3512   180889  14997   77212\n",
              "1  2018  37087   4222   39       4360   138386  10677   46939\n",
              "2  2019  47887   4602   95       3954   147080  12037   56131\n",
              "3  2020  76356   6894  134       4414   164261  18833   80102\n",
              "4  2021  86915   9620  404       4583   158241  20522  127189"
            ]
          },
          "metadata": {},
          "execution_count": 64
        }
      ]
    },
    {
      "cell_type": "code",
      "source": [
        "co = df_Bike_violate['연도']\n",
        "coun = df_Bike_violate['신호위반']\n",
        "g = sns.barplot(x=co, y=coun)\n",
        "ax = g\n",
        "\n",
        "for p in ax.patches:\n",
        "  ax.annotate(\"%.0f\" % p.get_height(), (p.get_x() + p.get_width() / 2., p.get_height() - 30),\n",
        "              ha='center', va='center', fontsize=20, color='black', xytext=(0,10), textcoords='offset points')\n",
        "plt.rcParams['figure.figsize'] = [30, 15]\n",
        "plt.xticks(fontsize=12, rotation=0)\n",
        "plt.title('연도별 이륜차 신호위반 수', fontsize=20)"
      ],
      "metadata": {
        "colab": {
          "base_uri": "https://localhost:8080/",
          "height": 918
        },
        "id": "tjADRJVclyYV",
        "outputId": "743519fc-8238-4deb-c271-92320a053cbf"
      },
      "execution_count": 70,
      "outputs": [
        {
          "output_type": "execute_result",
          "data": {
            "text/plain": [
              "Text(0.5, 1.0, '연도별 이륜차 신호위반 수')"
            ]
          },
          "metadata": {},
          "execution_count": 70
        },
        {
          "output_type": "display_data",
          "data": {
            "image/png": "[encoded data removed]",
            "text/plain": [
              "<Figure size 2160x1080 with 1 Axes>"
            ]
          },
          "metadata": {
            "needs_background": "light"
          }
        }
      ]
    },
    {
      "cell_type": "code",
      "source": [
        "co = df_Bike_violate['연도']\n",
        "coun = df_Bike_violate['중앙선침범']\n",
        "g = sns.barplot(x=co, y=coun)\n",
        "ax = g\n",
        "\n",
        "for p in ax.patches:\n",
        "  ax.annotate(\"%.0f\" % p.get_height(), (p.get_x() + p.get_width() / 2., p.get_height() - 30),\n",
        "              ha='center', va='center', fontsize=20, color='black', xytext=(0,10), textcoords='offset points')\n",
        "plt.rcParams['figure.figsize'] = [30, 15]\n",
        "plt.xticks(fontsize=12, rotation=0)\n",
        "plt.title('연도별 이륜차 중앙선침범 수', fontsize=20)"
      ],
      "metadata": {
        "colab": {
          "base_uri": "https://localhost:8080/",
          "height": 918
        },
        "id": "dIRFVq7I3SX7",
        "outputId": "7224889d-70e6-407c-88ed-ae2d1033c115"
      },
      "execution_count": 72,
      "outputs": [
        {
          "output_type": "execute_result",
          "data": {
            "text/plain": [
              "Text(0.5, 1.0, '연도별 이륜차 중앙선침범 수')"
            ]
          },
          "metadata": {},
          "execution_count": 72
        },
        {
          "output_type": "display_data",
          "data": {
            "image/png": "[encoded data removed]",
            "text/plain": [
              "<Figure size 2160x1080 with 1 Axes>"
            ]
          },
          "metadata": {
            "needs_background": "light"
          }
        }
      ]
    },
    {
      "cell_type": "code",
      "source": [
        "co = df_Bike_violate['연도']\n",
        "coun = df_Bike_violate['과속']\n",
        "g = sns.barplot(x=co, y=coun)\n",
        "ax = g\n",
        "\n",
        "for p in ax.patches:\n",
        "  ax.annotate(\"%.0f\" % p.get_height(), (p.get_x() + p.get_width() / 2., p.get_height() - 30),\n",
        "              ha='center', va='center', fontsize=20, color='black', xytext=(0,10), textcoords='offset points')\n",
        "plt.rcParams['figure.figsize'] = [30, 15]\n",
        "plt.xticks(fontsize=12, rotation=0)\n",
        "plt.title('연도별 이륜차 과속 위반 수', fontsize=20)"
      ],
      "metadata": {
        "colab": {
          "base_uri": "https://localhost:8080/",
          "height": 918
        },
        "id": "2gn6Ws2jEcLW",
        "outputId": "6959f8a0-087f-43a9-c94e-35202f2d4850"
      },
      "execution_count": 74,
      "outputs": [
        {
          "output_type": "execute_result",
          "data": {
            "text/plain": [
              "Text(0.5, 1.0, '연도별 이륜차 과속 위반 수')"
            ]
          },
          "metadata": {},
          "execution_count": 74
        },
        {
          "output_type": "display_data",
          "data": {
            "image/png": "[encoded data removed]",
            "text/plain": [
              "<Figure size 2160x1080 with 1 Axes>"
            ]
          },
          "metadata": {
            "needs_background": "light"
          }
        }
      ]
    },
    {
      "cell_type": "markdown",
      "source": [
        "2021년부터 5030 도로교통법이 개정되면서 다른 위반 건들과 달리 2020년과의 차이가 심함"
      ],
      "metadata": {
        "id": "-6ebMba1Fbcs"
      }
    },
    {
      "cell_type": "code",
      "source": [
        "co = df_Bike_violate['연도']\n",
        "coun = df_Bike_violate['안전운전 의무위반']\n",
        "g = sns.barplot(x=co, y=coun)\n",
        "ax = g\n",
        "\n",
        "for p in ax.patches:\n",
        "  ax.annotate(\"%.0f\" % p.get_height(), (p.get_x() + p.get_width() / 2., p.get_height() - 30),\n",
        "              ha='center', va='center', fontsize=20, color='black', xytext=(0,10), textcoords='offset points')\n",
        "plt.rcParams['figure.figsize'] = [30, 15]\n",
        "plt.xticks(fontsize=12, rotation=0)\n",
        "plt.title('연도별 이륜차 안전운전 의무위반 수', fontsize=20)"
      ],
      "metadata": {
        "colab": {
          "base_uri": "https://localhost:8080/",
          "height": 918
        },
        "id": "Z3jtuSj0EtaM",
        "outputId": "d2df6474-63e4-4482-d4b2-1642e93f097e"
      },
      "execution_count": 75,
      "outputs": [
        {
          "output_type": "execute_result",
          "data": {
            "text/plain": [
              "Text(0.5, 1.0, '연도별 이륜차 안전운전 의무위반 수')"
            ]
          },
          "metadata": {},
          "execution_count": 75
        },
        {
          "output_type": "display_data",
          "data": {
            "image/png": "[encoded data removed]",
            "text/plain": [
              "<Figure size 2160x1080 with 1 Axes>"
            ]
          },
          "metadata": {
            "needs_background": "light"
          }
        }
      ]
    },
    {
      "cell_type": "code",
      "source": [
        "co = df_Bike_violate['연도']\n",
        "coun = df_Bike_violate['보호장구미착용']\n",
        "g = sns.barplot(x=co, y=coun)\n",
        "ax = g\n",
        "\n",
        "for p in ax.patches:\n",
        "  ax.annotate(\"%.0f\" % p.get_height(), (p.get_x() + p.get_width() / 2., p.get_height() - 30),\n",
        "              ha='center', va='center', fontsize=20, color='black', xytext=(0,10), textcoords='offset points')\n",
        "plt.rcParams['figure.figsize'] = [30, 15]\n",
        "plt.xticks(fontsize=12, rotation=0)\n",
        "plt.title('연도별 이륜차 보호장구미착용 단속 수', fontsize=20)"
      ],
      "metadata": {
        "colab": {
          "base_uri": "https://localhost:8080/",
          "height": 918
        },
        "id": "Fw5k4HjnF67g",
        "outputId": "0e22fb23-7570-40b5-ea4b-e99384050263"
      },
      "execution_count": 76,
      "outputs": [
        {
          "output_type": "execute_result",
          "data": {
            "text/plain": [
              "Text(0.5, 1.0, '연도별 이륜차 보호장구미착용 단속 수')"
            ]
          },
          "metadata": {},
          "execution_count": 76
        },
        {
          "output_type": "display_data",
          "data": {
            "image/png": "[encoded data removed]",
            "text/plain": [
              "<Figure size 2160x1080 with 1 Axes>"
            ]
          },
          "metadata": {
            "needs_background": "light"
          }
        }
      ]
    },
    {
      "cell_type": "code",
      "source": [
        "co = df_Bike_violate['연도']\n",
        "coun = df_Bike_violate['보도통행']\n",
        "g = sns.barplot(x=co, y=coun)\n",
        "ax = g\n",
        "\n",
        "for p in ax.patches:\n",
        "  ax.annotate(\"%.0f\" % p.get_height(), (p.get_x() + p.get_width() / 2., p.get_height() - 30),\n",
        "              ha='center', va='center', fontsize=20, color='black', xytext=(0,10), textcoords='offset points')\n",
        "plt.rcParams['figure.figsize'] = [30, 15]\n",
        "plt.xticks(fontsize=12, rotation=0)\n",
        "plt.title('연도별 이륜차 보도통행 단속 수', fontsize=20)"
      ],
      "metadata": {
        "colab": {
          "base_uri": "https://localhost:8080/",
          "height": 918
        },
        "id": "hBopW5ArGDyc",
        "outputId": "75d96490-995d-4789-c288-8446ef57a068"
      },
      "execution_count": 77,
      "outputs": [
        {
          "output_type": "execute_result",
          "data": {
            "text/plain": [
              "Text(0.5, 1.0, '연도별 이륜차 보도통행 단속 수')"
            ]
          },
          "metadata": {},
          "execution_count": 77
        },
        {
          "output_type": "display_data",
          "data": {
            "image/png": "[encoded data removed]",
            "text/plain": [
              "<Figure size 2160x1080 with 1 Axes>"
            ]
          },
          "metadata": {
            "needs_background": "light"
          }
        }
      ]
    },
    {
      "cell_type": "code",
      "source": [
        "co = df_Bike_violate['연도']\n",
        "coun = df_Bike_violate['기타']\n",
        "g = sns.barplot(x=co, y=coun)\n",
        "ax = g\n",
        "\n",
        "for p in ax.patches:\n",
        "  ax.annotate(\"%.0f\" % p.get_height(), (p.get_x() + p.get_width() / 2., p.get_height() - 30),\n",
        "              ha='center', va='center', fontsize=20, color='black', xytext=(0,10), textcoords='offset points')\n",
        "plt.rcParams['figure.figsize'] = [30, 15]\n",
        "plt.xticks(fontsize=12, rotation=0)\n",
        "plt.title('연도별 이륜차 기타 단속 수', fontsize=20)"
      ],
      "metadata": {
        "colab": {
          "base_uri": "https://localhost:8080/",
          "height": 918
        },
        "id": "-NXIYGdSGMMU",
        "outputId": "1edf262a-abc8-49a5-d990-70a3d2eb406b"
      },
      "execution_count": 78,
      "outputs": [
        {
          "output_type": "execute_result",
          "data": {
            "text/plain": [
              "Text(0.5, 1.0, '연도별 이륜차 기타 단속 수')"
            ]
          },
          "metadata": {},
          "execution_count": 78
        },
        {
          "output_type": "display_data",
          "data": {
            "image/png": "[encoded data removed]",
            "text/plain": [
              "<Figure size 2160x1080 with 1 Axes>"
            ]
          },
          "metadata": {
            "needs_background": "light"
          }
        }
      ]
    },
    {
      "cell_type": "code",
      "source": [
        ""
      ],
      "metadata": {
        "id": "I1GRxj6zGWPe"
      },
      "execution_count": null,
      "outputs": []
    },
    {
      "cell_type": "markdown",
      "source": [
        "# **자전거 사고 분석**"
      ],
      "metadata": {
        "id": "-hmGaIfFG62y"
      }
    },
    {
      "cell_type": "code",
      "source": [
        "df_Bicycle"
      ],
      "metadata": {
        "colab": {
          "base_uri": "https://localhost:8080/",
          "height": 144
        },
        "id": "GXBkJmjgG8uV",
        "outputId": "2410ed33-b630-40a2-d1b5-e213767ad47f"
      },
      "execution_count": 79,
      "outputs": [
        {
          "output_type": "execute_result",
          "data": {
            "text/html": [
              "\n",
              "  <div id=\"df-22942d36-2c2e-4389-a192-1dcdc14cd4ea\">\n",
              "    <div class=\"colab-df-container\">\n",
              "      <div>\n",
              "<style scoped>\n",
              "    .dataframe tbody tr th:only-of-type {\n",
              "        vertical-align: middle;\n",
              "    }\n",
              "\n",
              "    .dataframe tbody tr th {\n",
              "        vertical-align: top;\n",
              "    }\n",
              "\n",
              "    .dataframe thead th {\n",
              "        text-align: right;\n",
              "    }\n",
              "</style>\n",
              "<table border=\"1\" class=\"dataframe\">\n",
              "  <thead>\n",
              "    <tr style=\"text-align: right;\">\n",
              "      <th></th>\n",
              "      <th>사고건수</th>\n",
              "      <th>사망자수</th>\n",
              "      <th>부상자수</th>\n",
              "      <th>연도</th>\n",
              "    </tr>\n",
              "  </thead>\n",
              "  <tbody>\n",
              "    <tr>\n",
              "      <th>0</th>\n",
              "      <td>4771</td>\n",
              "      <td>91</td>\n",
              "      <td>5041</td>\n",
              "      <td>2018</td>\n",
              "    </tr>\n",
              "    <tr>\n",
              "      <th>1</th>\n",
              "      <td>5633</td>\n",
              "      <td>79</td>\n",
              "      <td>6020</td>\n",
              "      <td>2019</td>\n",
              "    </tr>\n",
              "    <tr>\n",
              "      <th>2</th>\n",
              "      <td>5667</td>\n",
              "      <td>83</td>\n",
              "      <td>6150</td>\n",
              "      <td>2020</td>\n",
              "    </tr>\n",
              "  </tbody>\n",
              "</table>\n",
              "</div>\n",
              "      <button class=\"colab-df-convert\" onclick=\"convertToInteractive('df-22942d36-2c2e-4389-a192-1dcdc14cd4ea')\"\n",
              "              title=\"Convert this dataframe to an interactive table.\"\n",
              "              style=\"display:none;\">\n",
              "        \n",
              "  <svg xmlns=\"http://www.w3.org/2000/svg\" height=\"24px\"viewBox=\"0 0 24 24\"\n",
              "       width=\"24px\">\n",
              "    <path d=\"M0 0h24v24H0V0z\" fill=\"none\"/>\n",
              "    <path d=\"M18.56 5.44l.94 2.06.94-2.06 2.06-.94-2.06-.94-.94-2.06-.94 2.06-2.06.94zm-11 1L8.5 8.5l.94-2.06 2.06-.94-2.06-.94L8.5 2.5l-.94 2.06-2.06.94zm10 10l.94 2.06.94-2.06 2.06-.94-2.06-.94-.94-2.06-.94 2.06-2.06.94z\"/><path d=\"M17.41 7.96l-1.37-1.37c-.4-.4-.92-.59-1.43-.59-.52 0-1.04.2-1.43.59L10.3 9.45l-7.72 7.72c-.78.78-.78 2.05 0 2.83L4 21.41c.39.39.9.59 1.41.59.51 0 1.02-.2 1.41-.59l7.78-7.78 2.81-2.81c.8-.78.8-2.07 0-2.86zM5.41 20L4 18.59l7.72-7.72 1.47 1.35L5.41 20z\"/>\n",
              "  </svg>\n",
              "      </button>\n",
              "      \n",
              "  <style>\n",
              "    .colab-df-container {\n",
              "      display:flex;\n",
              "      flex-wrap:wrap;\n",
              "      gap: 12px;\n",
              "    }\n",
              "\n",
              "    .colab-df-convert {\n",
              "      background-color: #E8F0FE;\n",
              "      border: none;\n",
              "      border-radius: 50%;\n",
              "      cursor: pointer;\n",
              "      display: none;\n",
              "      fill: #1967D2;\n",
              "      height: 32px;\n",
              "      padding: 0 0 0 0;\n",
              "      width: 32px;\n",
              "    }\n",
              "\n",
              "    .colab-df-convert:hover {\n",
              "      background-color: #E2EBFA;\n",
              "      box-shadow: 0px 1px 2px rgba(60, 64, 67, 0.3), 0px 1px 3px 1px rgba(60, 64, 67, 0.15);\n",
              "      fill: #174EA6;\n",
              "    }\n",
              "\n",
              "    [theme=dark] .colab-df-convert {\n",
              "      background-color: #3B4455;\n",
              "      fill: #D2E3FC;\n",
              "    }\n",
              "\n",
              "    [theme=dark] .colab-df-convert:hover {\n",
              "      background-color: #434B5C;\n",
              "      box-shadow: 0px 1px 3px 1px rgba(0, 0, 0, 0.15);\n",
              "      filter: drop-shadow(0px 1px 2px rgba(0, 0, 0, 0.3));\n",
              "      fill: #FFFFFF;\n",
              "    }\n",
              "  </style>\n",
              "\n",
              "      <script>\n",
              "        const buttonEl =\n",
              "          document.querySelector('#df-22942d36-2c2e-4389-a192-1dcdc14cd4ea button.colab-df-convert');\n",
              "        buttonEl.style.display =\n",
              "          google.colab.kernel.accessAllowed ? 'block' : 'none';\n",
              "\n",
              "        async function convertToInteractive(key) {\n",
              "          const element = document.querySelector('#df-22942d36-2c2e-4389-a192-1dcdc14cd4ea');\n",
              "          const dataTable =\n",
              "            await google.colab.kernel.invokeFunction('convertToInteractive',\n",
              "                                                     [key], {});\n",
              "          if (!dataTable) return;\n",
              "\n",
              "          const docLinkHtml = 'Like what you see? Visit the ' +\n",
              "            '<a target=\"_blank\" href=https://colab.research.google.com/notebooks/data_table.ipynb>data table notebook</a>'\n",
              "            + ' to learn more about interactive tables.';\n",
              "          element.innerHTML = '';\n",
              "          dataTable['output_type'] = 'display_data';\n",
              "          await google.colab.output.renderOutput(dataTable, element);\n",
              "          const docLink = document.createElement('div');\n",
              "          docLink.innerHTML = docLinkHtml;\n",
              "          element.appendChild(docLink);\n",
              "        }\n",
              "      </script>\n",
              "    </div>\n",
              "  </div>\n",
              "  "
            ],
            "text/plain": [
              "   사고건수  사망자수  부상자수    연도\n",
              "0  4771    91  5041  2018\n",
              "1  5633    79  6020  2019\n",
              "2  5667    83  6150  2020"
            ]
          },
          "metadata": {},
          "execution_count": 79
        }
      ]
    },
    {
      "cell_type": "code",
      "source": [
        "co = df_Bicycle['연도']\n",
        "coun = df_Bicycle['사고건수']\n",
        "g = sns.barplot(x=co, y=coun)\n",
        "ax = g\n",
        "\n",
        "for p in ax.patches:\n",
        "  ax.annotate(\"%.0f\" % p.get_height(), (p.get_x() + p.get_width() / 2., p.get_height() - 30),\n",
        "              ha='center', va='center', fontsize=20, color='black', xytext=(0,10), textcoords='offset points')\n",
        "plt.rcParams['figure.figsize'] = [30, 15]\n",
        "plt.xticks(fontsize=12, rotation=0)\n",
        "plt.title('연도별 자전거 사고 건 수', fontsize=20)"
      ],
      "metadata": {
        "colab": {
          "base_uri": "https://localhost:8080/",
          "height": 918
        },
        "id": "xt1nINPfG9bj",
        "outputId": "08b47644-b6f3-4f33-f6fb-e00dadfad727"
      },
      "execution_count": 81,
      "outputs": [
        {
          "output_type": "execute_result",
          "data": {
            "text/plain": [
              "Text(0.5, 1.0, '연도별 자전거 사고 건 수')"
            ]
          },
          "metadata": {},
          "execution_count": 81
        },
        {
          "output_type": "display_data",
          "data": {
            "image/png": "[encoded data removed]",
            "text/plain": [
              "<Figure size 2160x1080 with 1 Axes>"
            ]
          },
          "metadata": {
            "needs_background": "light"
          }
        }
      ]
    },
    {
      "cell_type": "code",
      "source": [
        "co = df_Bicycle['연도']\n",
        "coun = df_Bicycle['사망자수']\n",
        "g = sns.barplot(x=co, y=coun)\n",
        "ax = g\n",
        "\n",
        "for p in ax.patches:\n",
        "  ax.annotate(\"%.0f\" % p.get_height(), (p.get_x() + p.get_width() / 2., p.get_height() - 30),\n",
        "              ha='center', va='center', fontsize=20, color='black', xytext=(0,10), textcoords='offset points')\n",
        "plt.rcParams['figure.figsize'] = [30, 15]\n",
        "plt.xticks(fontsize=12, rotation=0)\n",
        "plt.title('연도별 자전거 사망자 수', fontsize=20)"
      ],
      "metadata": {
        "colab": {
          "base_uri": "https://localhost:8080/",
          "height": 918
        },
        "id": "AptLxShsIfXU",
        "outputId": "930dc2ae-c9ea-45b3-d85b-3732cf6a6f92"
      },
      "execution_count": 83,
      "outputs": [
        {
          "output_type": "execute_result",
          "data": {
            "text/plain": [
              "Text(0.5, 1.0, '연도별 자전거 사망자 수')"
            ]
          },
          "metadata": {},
          "execution_count": 83
        },
        {
          "output_type": "display_data",
          "data": {
            "image/png": "[encoded data removed]",
            "text/plain": [
              "<Figure size 2160x1080 with 1 Axes>"
            ]
          },
          "metadata": {
            "needs_background": "light"
          }
        }
      ]
    },
    {
      "cell_type": "code",
      "source": [
        "co = df_Bicycle['연도']\n",
        "coun = df_Bicycle['부상자수']\n",
        "g = sns.barplot(x=co, y=coun)\n",
        "ax = g\n",
        "\n",
        "for p in ax.patches:\n",
        "  ax.annotate(\"%.0f\" % p.get_height(), (p.get_x() + p.get_width() / 2., p.get_height() - 30),\n",
        "              ha='center', va='center', fontsize=20, color='black', xytext=(0,10), textcoords='offset points')\n",
        "plt.rcParams['figure.figsize'] = [30, 15]\n",
        "plt.xticks(fontsize=12, rotation=0)\n",
        "plt.title('연도별 자전거 부상자 수', fontsize=20)"
      ],
      "metadata": {
        "colab": {
          "base_uri": "https://localhost:8080/",
          "height": 918
        },
        "id": "gP_ZPV8eI-uC",
        "outputId": "46fbc397-662d-443d-ae68-81d0ac291197"
      },
      "execution_count": 84,
      "outputs": [
        {
          "output_type": "execute_result",
          "data": {
            "text/plain": [
              "Text(0.5, 1.0, '연도별 자전거 부상자 수')"
            ]
          },
          "metadata": {},
          "execution_count": 84
        },
        {
          "output_type": "display_data",
          "data": {
            "image/png": "[encoded data removed]",
            "text/plain": [
              "<Figure size 2160x1080 with 1 Axes>"
            ]
          },
          "metadata": {
            "needs_background": "light"
          }
        }
      ]
    },
    {
      "cell_type": "code",
      "source": [
        ""
      ],
      "metadata": {
        "id": "QXtRDPb1JLw2"
      },
      "execution_count": null,
      "outputs": []
    },
    {
      "cell_type": "markdown",
      "source": [
        "# **이륜차 사고 월 별 분석**"
      ],
      "metadata": {
        "id": "flvjXU2DKppy"
      }
    },
    {
      "cell_type": "code",
      "source": [
        "df_Bike_accident_2020"
      ],
      "metadata": {
        "colab": {
          "base_uri": "https://localhost:8080/",
          "height": 1000
        },
        "id": "L2OOtxWBKtwr",
        "outputId": "28931234-11a1-45f9-cf01-fc5171a63a79"
      },
      "execution_count": 86,
      "outputs": [
        {
          "output_type": "execute_result",
          "data": {
            "text/html": [
              "\n",
              "  <div id=\"df-5de1cbb0-b73e-4cd7-8d81-5563f4badb1a\">\n",
              "    <div class=\"colab-df-container\">\n",
              "      <div>\n",
              "<style scoped>\n",
              "    .dataframe tbody tr th:only-of-type {\n",
              "        vertical-align: middle;\n",
              "    }\n",
              "\n",
              "    .dataframe tbody tr th {\n",
              "        vertical-align: top;\n",
              "    }\n",
              "\n",
              "    .dataframe thead th {\n",
              "        text-align: right;\n",
              "    }\n",
              "</style>\n",
              "<table border=\"1\" class=\"dataframe\">\n",
              "  <thead>\n",
              "    <tr style=\"text-align: right;\">\n",
              "      <th></th>\n",
              "      <th>가해자차종</th>\n",
              "      <th>발생월</th>\n",
              "      <th>사고건수</th>\n",
              "      <th>사망자수</th>\n",
              "      <th>중상자수</th>\n",
              "      <th>경상자수</th>\n",
              "      <th>부상신고자수</th>\n",
              "      <th>합계</th>\n",
              "    </tr>\n",
              "  </thead>\n",
              "  <tbody>\n",
              "    <tr>\n",
              "      <th>0</th>\n",
              "      <td>이륜차</td>\n",
              "      <td>1</td>\n",
              "      <td>1249</td>\n",
              "      <td>35</td>\n",
              "      <td>382</td>\n",
              "      <td>969</td>\n",
              "      <td>222</td>\n",
              "      <td>2857</td>\n",
              "    </tr>\n",
              "    <tr>\n",
              "      <th>1</th>\n",
              "      <td>원동기장치자전거</td>\n",
              "      <td>1</td>\n",
              "      <td>128</td>\n",
              "      <td>8</td>\n",
              "      <td>34</td>\n",
              "      <td>99</td>\n",
              "      <td>27</td>\n",
              "      <td>296</td>\n",
              "    </tr>\n",
              "    <tr>\n",
              "      <th>2</th>\n",
              "      <td>자전거</td>\n",
              "      <td>1</td>\n",
              "      <td>275</td>\n",
              "      <td>4</td>\n",
              "      <td>80</td>\n",
              "      <td>145</td>\n",
              "      <td>59</td>\n",
              "      <td>563</td>\n",
              "    </tr>\n",
              "    <tr>\n",
              "      <th>3</th>\n",
              "      <td>이륜차</td>\n",
              "      <td>2</td>\n",
              "      <td>1313</td>\n",
              "      <td>26</td>\n",
              "      <td>380</td>\n",
              "      <td>1026</td>\n",
              "      <td>260</td>\n",
              "      <td>3005</td>\n",
              "    </tr>\n",
              "    <tr>\n",
              "      <th>4</th>\n",
              "      <td>원동기장치자전거</td>\n",
              "      <td>2</td>\n",
              "      <td>156</td>\n",
              "      <td>2</td>\n",
              "      <td>50</td>\n",
              "      <td>115</td>\n",
              "      <td>27</td>\n",
              "      <td>350</td>\n",
              "    </tr>\n",
              "    <tr>\n",
              "      <th>5</th>\n",
              "      <td>자전거</td>\n",
              "      <td>2</td>\n",
              "      <td>243</td>\n",
              "      <td>2</td>\n",
              "      <td>61</td>\n",
              "      <td>136</td>\n",
              "      <td>62</td>\n",
              "      <td>504</td>\n",
              "    </tr>\n",
              "    <tr>\n",
              "      <th>6</th>\n",
              "      <td>이륜차</td>\n",
              "      <td>3</td>\n",
              "      <td>1289</td>\n",
              "      <td>32</td>\n",
              "      <td>411</td>\n",
              "      <td>1023</td>\n",
              "      <td>228</td>\n",
              "      <td>2983</td>\n",
              "    </tr>\n",
              "    <tr>\n",
              "      <th>7</th>\n",
              "      <td>원동기장치자전거</td>\n",
              "      <td>3</td>\n",
              "      <td>170</td>\n",
              "      <td>1</td>\n",
              "      <td>63</td>\n",
              "      <td>125</td>\n",
              "      <td>33</td>\n",
              "      <td>392</td>\n",
              "    </tr>\n",
              "    <tr>\n",
              "      <th>8</th>\n",
              "      <td>자전거</td>\n",
              "      <td>3</td>\n",
              "      <td>366</td>\n",
              "      <td>6</td>\n",
              "      <td>102</td>\n",
              "      <td>206</td>\n",
              "      <td>90</td>\n",
              "      <td>770</td>\n",
              "    </tr>\n",
              "    <tr>\n",
              "      <th>9</th>\n",
              "      <td>이륜차</td>\n",
              "      <td>4</td>\n",
              "      <td>1464</td>\n",
              "      <td>36</td>\n",
              "      <td>471</td>\n",
              "      <td>1166</td>\n",
              "      <td>271</td>\n",
              "      <td>3408</td>\n",
              "    </tr>\n",
              "    <tr>\n",
              "      <th>10</th>\n",
              "      <td>원동기장치자전거</td>\n",
              "      <td>4</td>\n",
              "      <td>192</td>\n",
              "      <td>1</td>\n",
              "      <td>66</td>\n",
              "      <td>142</td>\n",
              "      <td>22</td>\n",
              "      <td>423</td>\n",
              "    </tr>\n",
              "    <tr>\n",
              "      <th>11</th>\n",
              "      <td>자전거</td>\n",
              "      <td>4</td>\n",
              "      <td>505</td>\n",
              "      <td>6</td>\n",
              "      <td>152</td>\n",
              "      <td>282</td>\n",
              "      <td>119</td>\n",
              "      <td>1064</td>\n",
              "    </tr>\n",
              "    <tr>\n",
              "      <th>12</th>\n",
              "      <td>이륜차</td>\n",
              "      <td>5</td>\n",
              "      <td>1570</td>\n",
              "      <td>58</td>\n",
              "      <td>496</td>\n",
              "      <td>1278</td>\n",
              "      <td>283</td>\n",
              "      <td>3685</td>\n",
              "    </tr>\n",
              "    <tr>\n",
              "      <th>13</th>\n",
              "      <td>원동기장치자전거</td>\n",
              "      <td>5</td>\n",
              "      <td>257</td>\n",
              "      <td>4</td>\n",
              "      <td>81</td>\n",
              "      <td>195</td>\n",
              "      <td>53</td>\n",
              "      <td>590</td>\n",
              "    </tr>\n",
              "    <tr>\n",
              "      <th>14</th>\n",
              "      <td>자전거</td>\n",
              "      <td>5</td>\n",
              "      <td>620</td>\n",
              "      <td>8</td>\n",
              "      <td>190</td>\n",
              "      <td>368</td>\n",
              "      <td>129</td>\n",
              "      <td>1315</td>\n",
              "    </tr>\n",
              "    <tr>\n",
              "      <th>15</th>\n",
              "      <td>이륜차</td>\n",
              "      <td>6</td>\n",
              "      <td>1683</td>\n",
              "      <td>40</td>\n",
              "      <td>528</td>\n",
              "      <td>1321</td>\n",
              "      <td>332</td>\n",
              "      <td>3904</td>\n",
              "    </tr>\n",
              "    <tr>\n",
              "      <th>16</th>\n",
              "      <td>원동기장치자전거</td>\n",
              "      <td>6</td>\n",
              "      <td>239</td>\n",
              "      <td>7</td>\n",
              "      <td>74</td>\n",
              "      <td>196</td>\n",
              "      <td>42</td>\n",
              "      <td>558</td>\n",
              "    </tr>\n",
              "    <tr>\n",
              "      <th>17</th>\n",
              "      <td>자전거</td>\n",
              "      <td>6</td>\n",
              "      <td>647</td>\n",
              "      <td>6</td>\n",
              "      <td>193</td>\n",
              "      <td>371</td>\n",
              "      <td>153</td>\n",
              "      <td>1370</td>\n",
              "    </tr>\n",
              "    <tr>\n",
              "      <th>18</th>\n",
              "      <td>이륜차</td>\n",
              "      <td>7</td>\n",
              "      <td>1566</td>\n",
              "      <td>25</td>\n",
              "      <td>484</td>\n",
              "      <td>1299</td>\n",
              "      <td>286</td>\n",
              "      <td>3660</td>\n",
              "    </tr>\n",
              "    <tr>\n",
              "      <th>19</th>\n",
              "      <td>원동기장치자전거</td>\n",
              "      <td>7</td>\n",
              "      <td>260</td>\n",
              "      <td>4</td>\n",
              "      <td>91</td>\n",
              "      <td>199</td>\n",
              "      <td>44</td>\n",
              "      <td>598</td>\n",
              "    </tr>\n",
              "    <tr>\n",
              "      <th>20</th>\n",
              "      <td>자전거</td>\n",
              "      <td>7</td>\n",
              "      <td>620</td>\n",
              "      <td>9</td>\n",
              "      <td>176</td>\n",
              "      <td>340</td>\n",
              "      <td>165</td>\n",
              "      <td>1310</td>\n",
              "    </tr>\n",
              "    <tr>\n",
              "      <th>21</th>\n",
              "      <td>이륜차</td>\n",
              "      <td>8</td>\n",
              "      <td>1689</td>\n",
              "      <td>37</td>\n",
              "      <td>529</td>\n",
              "      <td>1366</td>\n",
              "      <td>308</td>\n",
              "      <td>3929</td>\n",
              "    </tr>\n",
              "    <tr>\n",
              "      <th>22</th>\n",
              "      <td>원동기장치자전거</td>\n",
              "      <td>8</td>\n",
              "      <td>253</td>\n",
              "      <td>5</td>\n",
              "      <td>77</td>\n",
              "      <td>190</td>\n",
              "      <td>46</td>\n",
              "      <td>571</td>\n",
              "    </tr>\n",
              "    <tr>\n",
              "      <th>23</th>\n",
              "      <td>자전거</td>\n",
              "      <td>8</td>\n",
              "      <td>417</td>\n",
              "      <td>9</td>\n",
              "      <td>122</td>\n",
              "      <td>246</td>\n",
              "      <td>83</td>\n",
              "      <td>877</td>\n",
              "    </tr>\n",
              "    <tr>\n",
              "      <th>24</th>\n",
              "      <td>이륜차</td>\n",
              "      <td>9</td>\n",
              "      <td>1642</td>\n",
              "      <td>48</td>\n",
              "      <td>559</td>\n",
              "      <td>1268</td>\n",
              "      <td>246</td>\n",
              "      <td>3763</td>\n",
              "    </tr>\n",
              "    <tr>\n",
              "      <th>25</th>\n",
              "      <td>원동기장치자전거</td>\n",
              "      <td>9</td>\n",
              "      <td>256</td>\n",
              "      <td>9</td>\n",
              "      <td>88</td>\n",
              "      <td>183</td>\n",
              "      <td>43</td>\n",
              "      <td>579</td>\n",
              "    </tr>\n",
              "    <tr>\n",
              "      <th>26</th>\n",
              "      <td>자전거</td>\n",
              "      <td>9</td>\n",
              "      <td>658</td>\n",
              "      <td>13</td>\n",
              "      <td>217</td>\n",
              "      <td>349</td>\n",
              "      <td>152</td>\n",
              "      <td>1389</td>\n",
              "    </tr>\n",
              "    <tr>\n",
              "      <th>27</th>\n",
              "      <td>이륜차</td>\n",
              "      <td>10</td>\n",
              "      <td>1731</td>\n",
              "      <td>46</td>\n",
              "      <td>509</td>\n",
              "      <td>1515</td>\n",
              "      <td>290</td>\n",
              "      <td>4091</td>\n",
              "    </tr>\n",
              "    <tr>\n",
              "      <th>28</th>\n",
              "      <td>원동기장치자전거</td>\n",
              "      <td>10</td>\n",
              "      <td>267</td>\n",
              "      <td>7</td>\n",
              "      <td>80</td>\n",
              "      <td>186</td>\n",
              "      <td>53</td>\n",
              "      <td>593</td>\n",
              "    </tr>\n",
              "    <tr>\n",
              "      <th>29</th>\n",
              "      <td>자전거</td>\n",
              "      <td>10</td>\n",
              "      <td>635</td>\n",
              "      <td>6</td>\n",
              "      <td>182</td>\n",
              "      <td>355</td>\n",
              "      <td>148</td>\n",
              "      <td>1326</td>\n",
              "    </tr>\n",
              "    <tr>\n",
              "      <th>30</th>\n",
              "      <td>이륜차</td>\n",
              "      <td>11</td>\n",
              "      <td>1573</td>\n",
              "      <td>30</td>\n",
              "      <td>534</td>\n",
              "      <td>1280</td>\n",
              "      <td>257</td>\n",
              "      <td>3674</td>\n",
              "    </tr>\n",
              "    <tr>\n",
              "      <th>31</th>\n",
              "      <td>원동기장치자전거</td>\n",
              "      <td>11</td>\n",
              "      <td>250</td>\n",
              "      <td>5</td>\n",
              "      <td>72</td>\n",
              "      <td>191</td>\n",
              "      <td>46</td>\n",
              "      <td>564</td>\n",
              "    </tr>\n",
              "    <tr>\n",
              "      <th>32</th>\n",
              "      <td>자전거</td>\n",
              "      <td>11</td>\n",
              "      <td>413</td>\n",
              "      <td>8</td>\n",
              "      <td>116</td>\n",
              "      <td>222</td>\n",
              "      <td>99</td>\n",
              "      <td>858</td>\n",
              "    </tr>\n",
              "    <tr>\n",
              "      <th>33</th>\n",
              "      <td>이륜차</td>\n",
              "      <td>12</td>\n",
              "      <td>1511</td>\n",
              "      <td>26</td>\n",
              "      <td>394</td>\n",
              "      <td>1207</td>\n",
              "      <td>295</td>\n",
              "      <td>3433</td>\n",
              "    </tr>\n",
              "    <tr>\n",
              "      <th>34</th>\n",
              "      <td>원동기장치자전거</td>\n",
              "      <td>12</td>\n",
              "      <td>246</td>\n",
              "      <td>3</td>\n",
              "      <td>66</td>\n",
              "      <td>182</td>\n",
              "      <td>51</td>\n",
              "      <td>548</td>\n",
              "    </tr>\n",
              "    <tr>\n",
              "      <th>35</th>\n",
              "      <td>자전거</td>\n",
              "      <td>12</td>\n",
              "      <td>268</td>\n",
              "      <td>6</td>\n",
              "      <td>69</td>\n",
              "      <td>145</td>\n",
              "      <td>66</td>\n",
              "      <td>554</td>\n",
              "    </tr>\n",
              "  </tbody>\n",
              "</table>\n",
              "</div>\n",
              "      <button class=\"colab-df-convert\" onclick=\"convertToInteractive('df-5de1cbb0-b73e-4cd7-8d81-5563f4badb1a')\"\n",
              "              title=\"Convert this dataframe to an interactive table.\"\n",
              "              style=\"display:none;\">\n",
              "        \n",
              "  <svg xmlns=\"http://www.w3.org/2000/svg\" height=\"24px\"viewBox=\"0 0 24 24\"\n",
              "       width=\"24px\">\n",
              "    <path d=\"M0 0h24v24H0V0z\" fill=\"none\"/>\n",
              "    <path d=\"M18.56 5.44l.94 2.06.94-2.06 2.06-.94-2.06-.94-.94-2.06-.94 2.06-2.06.94zm-11 1L8.5 8.5l.94-2.06 2.06-.94-2.06-.94L8.5 2.5l-.94 2.06-2.06.94zm10 10l.94 2.06.94-2.06 2.06-.94-2.06-.94-.94-2.06-.94 2.06-2.06.94z\"/><path d=\"M17.41 7.96l-1.37-1.37c-.4-.4-.92-.59-1.43-.59-.52 0-1.04.2-1.43.59L10.3 9.45l-7.72 7.72c-.78.78-.78 2.05 0 2.83L4 21.41c.39.39.9.59 1.41.59.51 0 1.02-.2 1.41-.59l7.78-7.78 2.81-2.81c.8-.78.8-2.07 0-2.86zM5.41 20L4 18.59l7.72-7.72 1.47 1.35L5.41 20z\"/>\n",
              "  </svg>\n",
              "      </button>\n",
              "      \n",
              "  <style>\n",
              "    .colab-df-container {\n",
              "      display:flex;\n",
              "      flex-wrap:wrap;\n",
              "      gap: 12px;\n",
              "    }\n",
              "\n",
              "    .colab-df-convert {\n",
              "      background-color: #E8F0FE;\n",
              "      border: none;\n",
              "      border-radius: 50%;\n",
              "      cursor: pointer;\n",
              "      display: none;\n",
              "      fill: #1967D2;\n",
              "      height: 32px;\n",
              "      padding: 0 0 0 0;\n",
              "      width: 32px;\n",
              "    }\n",
              "\n",
              "    .colab-df-convert:hover {\n",
              "      background-color: #E2EBFA;\n",
              "      box-shadow: 0px 1px 2px rgba(60, 64, 67, 0.3), 0px 1px 3px 1px rgba(60, 64, 67, 0.15);\n",
              "      fill: #174EA6;\n",
              "    }\n",
              "\n",
              "    [theme=dark] .colab-df-convert {\n",
              "      background-color: #3B4455;\n",
              "      fill: #D2E3FC;\n",
              "    }\n",
              "\n",
              "    [theme=dark] .colab-df-convert:hover {\n",
              "      background-color: #434B5C;\n",
              "      box-shadow: 0px 1px 3px 1px rgba(0, 0, 0, 0.15);\n",
              "      filter: drop-shadow(0px 1px 2px rgba(0, 0, 0, 0.3));\n",
              "      fill: #FFFFFF;\n",
              "    }\n",
              "  </style>\n",
              "\n",
              "      <script>\n",
              "        const buttonEl =\n",
              "          document.querySelector('#df-5de1cbb0-b73e-4cd7-8d81-5563f4badb1a button.colab-df-convert');\n",
              "        buttonEl.style.display =\n",
              "          google.colab.kernel.accessAllowed ? 'block' : 'none';\n",
              "\n",
              "        async function convertToInteractive(key) {\n",
              "          const element = document.querySelector('#df-5de1cbb0-b73e-4cd7-8d81-5563f4badb1a');\n",
              "          const dataTable =\n",
              "            await google.colab.kernel.invokeFunction('convertToInteractive',\n",
              "                                                     [key], {});\n",
              "          if (!dataTable) return;\n",
              "\n",
              "          const docLinkHtml = 'Like what you see? Visit the ' +\n",
              "            '<a target=\"_blank\" href=https://colab.research.google.com/notebooks/data_table.ipynb>data table notebook</a>'\n",
              "            + ' to learn more about interactive tables.';\n",
              "          element.innerHTML = '';\n",
              "          dataTable['output_type'] = 'display_data';\n",
              "          await google.colab.output.renderOutput(dataTable, element);\n",
              "          const docLink = document.createElement('div');\n",
              "          docLink.innerHTML = docLinkHtml;\n",
              "          element.appendChild(docLink);\n",
              "        }\n",
              "      </script>\n",
              "    </div>\n",
              "  </div>\n",
              "  "
            ],
            "text/plain": [
              "       가해자차종  발생월  사고건수  사망자수  중상자수  경상자수  부상신고자수    합계\n",
              "0        이륜차    1  1249    35   382   969     222  2857\n",
              "1   원동기장치자전거    1   128     8    34    99      27   296\n",
              "2        자전거    1   275     4    80   145      59   563\n",
              "3        이륜차    2  1313    26   380  1026     260  3005\n",
              "4   원동기장치자전거    2   156     2    50   115      27   350\n",
              "5        자전거    2   243     2    61   136      62   504\n",
              "6        이륜차    3  1289    32   411  1023     228  2983\n",
              "7   원동기장치자전거    3   170     1    63   125      33   392\n",
              "8        자전거    3   366     6   102   206      90   770\n",
              "9        이륜차    4  1464    36   471  1166     271  3408\n",
              "10  원동기장치자전거    4   192     1    66   142      22   423\n",
              "11       자전거    4   505     6   152   282     119  1064\n",
              "12       이륜차    5  1570    58   496  1278     283  3685\n",
              "13  원동기장치자전거    5   257     4    81   195      53   590\n",
              "14       자전거    5   620     8   190   368     129  1315\n",
              "15       이륜차    6  1683    40   528  1321     332  3904\n",
              "16  원동기장치자전거    6   239     7    74   196      42   558\n",
              "17       자전거    6   647     6   193   371     153  1370\n",
              "18       이륜차    7  1566    25   484  1299     286  3660\n",
              "19  원동기장치자전거    7   260     4    91   199      44   598\n",
              "20       자전거    7   620     9   176   340     165  1310\n",
              "21       이륜차    8  1689    37   529  1366     308  3929\n",
              "22  원동기장치자전거    8   253     5    77   190      46   571\n",
              "23       자전거    8   417     9   122   246      83   877\n",
              "24       이륜차    9  1642    48   559  1268     246  3763\n",
              "25  원동기장치자전거    9   256     9    88   183      43   579\n",
              "26       자전거    9   658    13   217   349     152  1389\n",
              "27       이륜차   10  1731    46   509  1515     290  4091\n",
              "28  원동기장치자전거   10   267     7    80   186      53   593\n",
              "29       자전거   10   635     6   182   355     148  1326\n",
              "30       이륜차   11  1573    30   534  1280     257  3674\n",
              "31  원동기장치자전거   11   250     5    72   191      46   564\n",
              "32       자전거   11   413     8   116   222      99   858\n",
              "33       이륜차   12  1511    26   394  1207     295  3433\n",
              "34  원동기장치자전거   12   246     3    66   182      51   548\n",
              "35       자전거   12   268     6    69   145      66   554"
            ]
          },
          "metadata": {},
          "execution_count": 86
        }
      ]
    },
    {
      "cell_type": "code",
      "source": [
        ""
      ],
      "metadata": {
        "id": "pVUC9GyTKurK"
      },
      "execution_count": null,
      "outputs": []
    }
  ]
}