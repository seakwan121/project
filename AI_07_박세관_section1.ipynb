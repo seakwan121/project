{
  "nbformat": 4,
  "nbformat_minor": 0,
  "metadata": {
    "colab": {
      "name": "AI_07_박세관_section1.ipynb",
      "provenance": [],
      "collapsed_sections": [],
      "authorship_tag": "ABX9TyMIa/UZ2rDeCmCnPiFsw0te",
      "include_colab_link": true
    },
    "kernelspec": {
      "name": "python3",
      "display_name": "Python 3"
    },
    "language_info": {
      "name": "python"
    }
  },
  "cells": [
    {
      "cell_type": "markdown",
      "metadata": {
        "id": "view-in-github",
        "colab_type": "text"
      },
      "source": [
        "<a href=\"https://colab.research.google.com/github/seakwan121/project/blob/main/AI_07_%EB%B0%95%EC%84%B8%EA%B4%80_section1.ipynb\" target=\"_parent\"><img src=\"https://colab.research.google.com/assets/colab-badge.svg\" alt=\"Open In Colab\"/></a>"
      ]
    },
    {
      "cell_type": "markdown",
      "metadata": {
        "id": "u_xh94ijmBd-"
      },
      "source": [
        "# **데이터 확인**"
      ]
    },
    {
      "cell_type": "code",
      "metadata": {
        "id": "kQScS6xA-fGp"
      },
      "source": [
        "# 라이브러리 셋팅\n",
        "import pandas as pd\n",
        "import numpy as np\n",
        "import matplotlib.pyplot as plt\n",
        "from scipy.stats import ttest_1samp, ttest_ind, chisquare, chi2_contingency\n",
        "from sklearn.decomposition import PCA\n",
        "from sklearn.preprocessing import StandardScaler\n",
        "import seaborn as sns\n",
        "import matplotlib as mp\n",
        "from scipy.stats import f_oneway\n",
        "from scipy import stats"
      ],
      "execution_count": 1,
      "outputs": []
    },
    {
      "cell_type": "code",
      "metadata": {
        "colab": {
          "base_uri": "https://localhost:8080/"
        },
        "id": "Rm6azmMX-19L",
        "outputId": "8c7cb5f9-a425-45e8-ad45-848b32e108e5"
      },
      "source": [
        "# 폰트 설치\n",
        "!sudo apt-get install -y fonts-nanum\n",
        "!sudo fc-cache -fv\n",
        "!rm ~/.cache/matplotlib -rf"
      ],
      "execution_count": 2,
      "outputs": [
        {
          "output_type": "stream",
          "name": "stdout",
          "text": [
            "Reading package lists... Done\n",
            "Building dependency tree       \n",
            "Reading state information... Done\n",
            "fonts-nanum is already the newest version (20170925-1).\n",
            "0 upgraded, 0 newly installed, 0 to remove and 37 not upgraded.\n",
            "/usr/share/fonts: caching, new cache contents: 0 fonts, 1 dirs\n",
            "/usr/share/fonts/truetype: caching, new cache contents: 0 fonts, 3 dirs\n",
            "/usr/share/fonts/truetype/humor-sans: caching, new cache contents: 1 fonts, 0 dirs\n",
            "/usr/share/fonts/truetype/liberation: caching, new cache contents: 16 fonts, 0 dirs\n",
            "/usr/share/fonts/truetype/nanum: caching, new cache contents: 10 fonts, 0 dirs\n",
            "/usr/local/share/fonts: caching, new cache contents: 0 fonts, 0 dirs\n",
            "/root/.local/share/fonts: skipping, no such directory\n",
            "/root/.fonts: skipping, no such directory\n",
            "/var/cache/fontconfig: cleaning cache directory\n",
            "/root/.cache/fontconfig: not cleaning non-existent cache directory\n",
            "/root/.fontconfig: not cleaning non-existent cache directory\n",
            "fc-cache: succeeded\n"
          ]
        }
      ]
    },
    {
      "cell_type": "code",
      "metadata": {
        "id": "Hjt10ISr-8z9"
      },
      "source": [
        "# 폰트 나눔바른고딕\n",
        "import matplotlib.pyplot as plt\n",
        "\n",
        "plt.rc('font', family = 'NanumBarunGothic') "
      ],
      "execution_count": 3,
      "outputs": []
    },
    {
      "cell_type": "code",
      "metadata": {
        "colab": {
          "base_uri": "https://localhost:8080/"
        },
        "id": "487qozpi_GW8",
        "outputId": "35ca2892-5d1c-4609-8eb8-70f98c5c9ea6"
      },
      "source": [
        "# 구글 드라이브에서 파일 가져오기\n",
        "from google.colab import drive\n",
        "drive.mount('/content/drive')\n",
        "\n",
        "DataFile = '/content/drive/MyDrive/vgames2.csv'\n",
        "\n",
        "df = pd.read_csv(DataFile, index_col = 0)"
      ],
      "execution_count": 4,
      "outputs": [
        {
          "output_type": "stream",
          "name": "stdout",
          "text": [
            "Drive already mounted at /content/drive; to attempt to forcibly remount, call drive.mount(\"/content/drive\", force_remount=True).\n"
          ]
        }
      ]
    },
    {
      "cell_type": "code",
      "metadata": {
        "colab": {
          "base_uri": "https://localhost:8080/",
          "height": 414
        },
        "id": "MKVs3QfP_yL1",
        "outputId": "5dc37ffe-abd2-48c0-9364-2e8826f1b195"
      },
      "source": [
        "df"
      ],
      "execution_count": 5,
      "outputs": [
        {
          "output_type": "execute_result",
          "data": {
            "text/html": [
              "<div>\n",
              "<style scoped>\n",
              "    .dataframe tbody tr th:only-of-type {\n",
              "        vertical-align: middle;\n",
              "    }\n",
              "\n",
              "    .dataframe tbody tr th {\n",
              "        vertical-align: top;\n",
              "    }\n",
              "\n",
              "    .dataframe thead th {\n",
              "        text-align: right;\n",
              "    }\n",
              "</style>\n",
              "<table border=\"1\" class=\"dataframe\">\n",
              "  <thead>\n",
              "    <tr style=\"text-align: right;\">\n",
              "      <th></th>\n",
              "      <th>Name</th>\n",
              "      <th>Platform</th>\n",
              "      <th>Year</th>\n",
              "      <th>Genre</th>\n",
              "      <th>Publisher</th>\n",
              "      <th>NA_Sales</th>\n",
              "      <th>EU_Sales</th>\n",
              "      <th>JP_Sales</th>\n",
              "      <th>Other_Sales</th>\n",
              "    </tr>\n",
              "  </thead>\n",
              "  <tbody>\n",
              "    <tr>\n",
              "      <th>1</th>\n",
              "      <td>Candace Kane's Candy Factory</td>\n",
              "      <td>DS</td>\n",
              "      <td>2008.0</td>\n",
              "      <td>Action</td>\n",
              "      <td>Destineer</td>\n",
              "      <td>0.04</td>\n",
              "      <td>0</td>\n",
              "      <td>0</td>\n",
              "      <td>0</td>\n",
              "    </tr>\n",
              "    <tr>\n",
              "      <th>2</th>\n",
              "      <td>The Munchables</td>\n",
              "      <td>Wii</td>\n",
              "      <td>2009.0</td>\n",
              "      <td>Action</td>\n",
              "      <td>Namco Bandai Games</td>\n",
              "      <td>0.17</td>\n",
              "      <td>0</td>\n",
              "      <td>0</td>\n",
              "      <td>0.01</td>\n",
              "    </tr>\n",
              "    <tr>\n",
              "      <th>3</th>\n",
              "      <td>Otome wa Oanesama Boku ni Koi Shiteru Portable</td>\n",
              "      <td>PSP</td>\n",
              "      <td>2010.0</td>\n",
              "      <td>Adventure</td>\n",
              "      <td>Alchemist</td>\n",
              "      <td>0</td>\n",
              "      <td>0</td>\n",
              "      <td>0.02</td>\n",
              "      <td>0</td>\n",
              "    </tr>\n",
              "    <tr>\n",
              "      <th>4</th>\n",
              "      <td>Deal or No Deal: Special Edition</td>\n",
              "      <td>DS</td>\n",
              "      <td>2010.0</td>\n",
              "      <td>Misc</td>\n",
              "      <td>Zoo Games</td>\n",
              "      <td>0.04</td>\n",
              "      <td>0</td>\n",
              "      <td>0</td>\n",
              "      <td>0</td>\n",
              "    </tr>\n",
              "    <tr>\n",
              "      <th>5</th>\n",
              "      <td>Ben 10 Ultimate Alien: Cosmic Destruction</td>\n",
              "      <td>PS3</td>\n",
              "      <td>2010.0</td>\n",
              "      <td>Platform</td>\n",
              "      <td>D3Publisher</td>\n",
              "      <td>0.12</td>\n",
              "      <td>0.09</td>\n",
              "      <td>0</td>\n",
              "      <td>0.04</td>\n",
              "    </tr>\n",
              "    <tr>\n",
              "      <th>...</th>\n",
              "      <td>...</td>\n",
              "      <td>...</td>\n",
              "      <td>...</td>\n",
              "      <td>...</td>\n",
              "      <td>...</td>\n",
              "      <td>...</td>\n",
              "      <td>...</td>\n",
              "      <td>...</td>\n",
              "      <td>...</td>\n",
              "    </tr>\n",
              "    <tr>\n",
              "      <th>16594</th>\n",
              "      <td>Ice Age 2: The Meltdown</td>\n",
              "      <td>GC</td>\n",
              "      <td>2006.0</td>\n",
              "      <td>Platform</td>\n",
              "      <td>Vivendi Games</td>\n",
              "      <td>0.15</td>\n",
              "      <td>0.04</td>\n",
              "      <td>0</td>\n",
              "      <td>0.01</td>\n",
              "    </tr>\n",
              "    <tr>\n",
              "      <th>16595</th>\n",
              "      <td>Rainbow Islands: Revolution</td>\n",
              "      <td>PSP</td>\n",
              "      <td>2005.0</td>\n",
              "      <td>Action</td>\n",
              "      <td>Rising Star Games</td>\n",
              "      <td>0.01</td>\n",
              "      <td>0</td>\n",
              "      <td>0</td>\n",
              "      <td>0</td>\n",
              "    </tr>\n",
              "    <tr>\n",
              "      <th>16596</th>\n",
              "      <td>NBA 2K16</td>\n",
              "      <td>PS3</td>\n",
              "      <td>2015.0</td>\n",
              "      <td>Sports</td>\n",
              "      <td>Take-Two Interactive</td>\n",
              "      <td>0.44</td>\n",
              "      <td>0.19</td>\n",
              "      <td>0.03</td>\n",
              "      <td>0.13</td>\n",
              "    </tr>\n",
              "    <tr>\n",
              "      <th>16597</th>\n",
              "      <td>Toukiden: The Age of Demons</td>\n",
              "      <td>PSV</td>\n",
              "      <td>2013.0</td>\n",
              "      <td>Action</td>\n",
              "      <td>Tecmo Koei</td>\n",
              "      <td>0.05</td>\n",
              "      <td>0.05</td>\n",
              "      <td>0.25</td>\n",
              "      <td>0.03</td>\n",
              "    </tr>\n",
              "    <tr>\n",
              "      <th>16598</th>\n",
              "      <td>The King of Fighters '95</td>\n",
              "      <td>PS</td>\n",
              "      <td>1996.0</td>\n",
              "      <td>Fighting</td>\n",
              "      <td>Sony Computer Entertainment</td>\n",
              "      <td>0</td>\n",
              "      <td>0</td>\n",
              "      <td>0.16</td>\n",
              "      <td>0.01</td>\n",
              "    </tr>\n",
              "  </tbody>\n",
              "</table>\n",
              "<p>16598 rows × 9 columns</p>\n",
              "</div>"
            ],
            "text/plain": [
              "                                                 Name  ... Other_Sales\n",
              "1                        Candace Kane's Candy Factory  ...           0\n",
              "2                                      The Munchables  ...        0.01\n",
              "3      Otome wa Oanesama Boku ni Koi Shiteru Portable  ...           0\n",
              "4                    Deal or No Deal: Special Edition  ...           0\n",
              "5           Ben 10 Ultimate Alien: Cosmic Destruction  ...        0.04\n",
              "...                                               ...  ...         ...\n",
              "16594                         Ice Age 2: The Meltdown  ...        0.01\n",
              "16595                     Rainbow Islands: Revolution  ...           0\n",
              "16596                                        NBA 2K16  ...        0.13\n",
              "16597                     Toukiden: The Age of Demons  ...        0.03\n",
              "16598                        The King of Fighters '95  ...        0.01\n",
              "\n",
              "[16598 rows x 9 columns]"
            ]
          },
          "metadata": {},
          "execution_count": 5
        }
      ]
    },
    {
      "cell_type": "code",
      "metadata": {
        "colab": {
          "base_uri": "https://localhost:8080/"
        },
        "id": "xdOS34dXABSs",
        "outputId": "6642cea1-0dc8-46df-b99d-3172ec0da7e0"
      },
      "source": [
        "df.info() # Year만 숫자형"
      ],
      "execution_count": 6,
      "outputs": [
        {
          "output_type": "stream",
          "name": "stdout",
          "text": [
            "<class 'pandas.core.frame.DataFrame'>\n",
            "Int64Index: 16598 entries, 1 to 16598\n",
            "Data columns (total 9 columns):\n",
            " #   Column       Non-Null Count  Dtype  \n",
            "---  ------       --------------  -----  \n",
            " 0   Name         16598 non-null  object \n",
            " 1   Platform     16598 non-null  object \n",
            " 2   Year         16327 non-null  float64\n",
            " 3   Genre        16548 non-null  object \n",
            " 4   Publisher    16540 non-null  object \n",
            " 5   NA_Sales     16598 non-null  object \n",
            " 6   EU_Sales     16598 non-null  object \n",
            " 7   JP_Sales     16598 non-null  object \n",
            " 8   Other_Sales  16598 non-null  object \n",
            "dtypes: float64(1), object(8)\n",
            "memory usage: 1.3+ MB\n"
          ]
        }
      ]
    },
    {
      "cell_type": "code",
      "metadata": {
        "colab": {
          "base_uri": "https://localhost:8080/"
        },
        "id": "UA5IydA9AEob",
        "outputId": "fc25a57c-f75a-4f7d-f1b0-6feff97de6f1"
      },
      "source": [
        "# 결측치 확인\n",
        "df.isnull().sum()"
      ],
      "execution_count": 7,
      "outputs": [
        {
          "output_type": "execute_result",
          "data": {
            "text/plain": [
              "Name             0\n",
              "Platform         0\n",
              "Year           271\n",
              "Genre           50\n",
              "Publisher       58\n",
              "NA_Sales         0\n",
              "EU_Sales         0\n",
              "JP_Sales         0\n",
              "Other_Sales      0\n",
              "dtype: int64"
            ]
          },
          "metadata": {},
          "execution_count": 7
        }
      ]
    },
    {
      "cell_type": "code",
      "metadata": {
        "id": "C63g0oNaIEp1"
      },
      "source": [
        "df1 = df"
      ],
      "execution_count": 8,
      "outputs": []
    },
    {
      "cell_type": "markdown",
      "metadata": {
        "id": "osaUd4QqFKEd"
      },
      "source": [
        ""
      ]
    },
    {
      "cell_type": "markdown",
      "metadata": {
        "id": "n5PL6PAzFQT8"
      },
      "source": [
        "# **1. 데이터 전처리**"
      ]
    },
    {
      "cell_type": "markdown",
      "metadata": {
        "id": "DZoUGsecFUPU"
      },
      "source": [
        "# A. Sales 열에 있는 데이터들 중 문자가 들어간 데이터 수정"
      ]
    },
    {
      "cell_type": "code",
      "metadata": {
        "id": "sohhstb-G8Zu"
      },
      "source": [
        "# K, M을 제거해주는 함수\n",
        "# K = 1,000\n",
        "# M = 1,000,000\n",
        "def KM(x):\n",
        "  if 'K' in x:\n",
        "    return (float(x.replace('K',''))/1000)\n",
        "  elif 'M' in x:\n",
        "    return (float(x.replace('M','')))\n",
        "  else:\n",
        "    return float(x)"
      ],
      "execution_count": 9,
      "outputs": []
    },
    {
      "cell_type": "code",
      "metadata": {
        "id": "44ZqNzvrJzeO"
      },
      "source": [
        "NA = df1['NA_Sales'].apply(lambda x : KM(x))\n",
        "EU = df1['EU_Sales'].apply(lambda x : KM(x))\n",
        "JP = df1['JP_Sales'].apply(lambda x : KM(x))\n",
        "Other = df1['Other_Sales'].apply(lambda x : KM(x))\n"
      ],
      "execution_count": 10,
      "outputs": []
    },
    {
      "cell_type": "code",
      "metadata": {
        "colab": {
          "base_uri": "https://localhost:8080/",
          "height": 414
        },
        "id": "_k7Ab7LALfRv",
        "outputId": "a275a04e-b64f-48ad-b8fb-382ecf9e655a"
      },
      "source": [
        "data = pd.concat([NA,EU,JP,Other],axis = 1)\n",
        "data"
      ],
      "execution_count": 11,
      "outputs": [
        {
          "output_type": "execute_result",
          "data": {
            "text/html": [
              "<div>\n",
              "<style scoped>\n",
              "    .dataframe tbody tr th:only-of-type {\n",
              "        vertical-align: middle;\n",
              "    }\n",
              "\n",
              "    .dataframe tbody tr th {\n",
              "        vertical-align: top;\n",
              "    }\n",
              "\n",
              "    .dataframe thead th {\n",
              "        text-align: right;\n",
              "    }\n",
              "</style>\n",
              "<table border=\"1\" class=\"dataframe\">\n",
              "  <thead>\n",
              "    <tr style=\"text-align: right;\">\n",
              "      <th></th>\n",
              "      <th>NA_Sales</th>\n",
              "      <th>EU_Sales</th>\n",
              "      <th>JP_Sales</th>\n",
              "      <th>Other_Sales</th>\n",
              "    </tr>\n",
              "  </thead>\n",
              "  <tbody>\n",
              "    <tr>\n",
              "      <th>1</th>\n",
              "      <td>0.04</td>\n",
              "      <td>0.00</td>\n",
              "      <td>0.00</td>\n",
              "      <td>0.00</td>\n",
              "    </tr>\n",
              "    <tr>\n",
              "      <th>2</th>\n",
              "      <td>0.17</td>\n",
              "      <td>0.00</td>\n",
              "      <td>0.00</td>\n",
              "      <td>0.01</td>\n",
              "    </tr>\n",
              "    <tr>\n",
              "      <th>3</th>\n",
              "      <td>0.00</td>\n",
              "      <td>0.00</td>\n",
              "      <td>0.02</td>\n",
              "      <td>0.00</td>\n",
              "    </tr>\n",
              "    <tr>\n",
              "      <th>4</th>\n",
              "      <td>0.04</td>\n",
              "      <td>0.00</td>\n",
              "      <td>0.00</td>\n",
              "      <td>0.00</td>\n",
              "    </tr>\n",
              "    <tr>\n",
              "      <th>5</th>\n",
              "      <td>0.12</td>\n",
              "      <td>0.09</td>\n",
              "      <td>0.00</td>\n",
              "      <td>0.04</td>\n",
              "    </tr>\n",
              "    <tr>\n",
              "      <th>...</th>\n",
              "      <td>...</td>\n",
              "      <td>...</td>\n",
              "      <td>...</td>\n",
              "      <td>...</td>\n",
              "    </tr>\n",
              "    <tr>\n",
              "      <th>16594</th>\n",
              "      <td>0.15</td>\n",
              "      <td>0.04</td>\n",
              "      <td>0.00</td>\n",
              "      <td>0.01</td>\n",
              "    </tr>\n",
              "    <tr>\n",
              "      <th>16595</th>\n",
              "      <td>0.01</td>\n",
              "      <td>0.00</td>\n",
              "      <td>0.00</td>\n",
              "      <td>0.00</td>\n",
              "    </tr>\n",
              "    <tr>\n",
              "      <th>16596</th>\n",
              "      <td>0.44</td>\n",
              "      <td>0.19</td>\n",
              "      <td>0.03</td>\n",
              "      <td>0.13</td>\n",
              "    </tr>\n",
              "    <tr>\n",
              "      <th>16597</th>\n",
              "      <td>0.05</td>\n",
              "      <td>0.05</td>\n",
              "      <td>0.25</td>\n",
              "      <td>0.03</td>\n",
              "    </tr>\n",
              "    <tr>\n",
              "      <th>16598</th>\n",
              "      <td>0.00</td>\n",
              "      <td>0.00</td>\n",
              "      <td>0.16</td>\n",
              "      <td>0.01</td>\n",
              "    </tr>\n",
              "  </tbody>\n",
              "</table>\n",
              "<p>16598 rows × 4 columns</p>\n",
              "</div>"
            ],
            "text/plain": [
              "       NA_Sales  EU_Sales  JP_Sales  Other_Sales\n",
              "1          0.04      0.00      0.00         0.00\n",
              "2          0.17      0.00      0.00         0.01\n",
              "3          0.00      0.00      0.02         0.00\n",
              "4          0.04      0.00      0.00         0.00\n",
              "5          0.12      0.09      0.00         0.04\n",
              "...         ...       ...       ...          ...\n",
              "16594      0.15      0.04      0.00         0.01\n",
              "16595      0.01      0.00      0.00         0.00\n",
              "16596      0.44      0.19      0.03         0.13\n",
              "16597      0.05      0.05      0.25         0.03\n",
              "16598      0.00      0.00      0.16         0.01\n",
              "\n",
              "[16598 rows x 4 columns]"
            ]
          },
          "metadata": {},
          "execution_count": 11
        }
      ]
    },
    {
      "cell_type": "code",
      "metadata": {
        "colab": {
          "base_uri": "https://localhost:8080/"
        },
        "id": "ae9itQddLtDN",
        "outputId": "8e331c24-b0bc-47b7-cae3-8f33bbb5e5c5"
      },
      "source": [
        "data.info()"
      ],
      "execution_count": 12,
      "outputs": [
        {
          "output_type": "stream",
          "name": "stdout",
          "text": [
            "<class 'pandas.core.frame.DataFrame'>\n",
            "Int64Index: 16598 entries, 1 to 16598\n",
            "Data columns (total 4 columns):\n",
            " #   Column       Non-Null Count  Dtype  \n",
            "---  ------       --------------  -----  \n",
            " 0   NA_Sales     16598 non-null  float64\n",
            " 1   EU_Sales     16598 non-null  float64\n",
            " 2   JP_Sales     16598 non-null  float64\n",
            " 3   Other_Sales  16598 non-null  float64\n",
            "dtypes: float64(4)\n",
            "memory usage: 648.4 KB\n"
          ]
        }
      ]
    },
    {
      "cell_type": "code",
      "metadata": {
        "colab": {
          "base_uri": "https://localhost:8080/",
          "height": 414
        },
        "id": "3aCK9p_kL992",
        "outputId": "666ccf60-3dfc-42b3-fd50-563b6244cf78"
      },
      "source": [
        "df1 = df1.drop(['NA_Sales','EU_Sales','JP_Sales','Other_Sales'],axis = 1)\n",
        "df1"
      ],
      "execution_count": 13,
      "outputs": [
        {
          "output_type": "execute_result",
          "data": {
            "text/html": [
              "<div>\n",
              "<style scoped>\n",
              "    .dataframe tbody tr th:only-of-type {\n",
              "        vertical-align: middle;\n",
              "    }\n",
              "\n",
              "    .dataframe tbody tr th {\n",
              "        vertical-align: top;\n",
              "    }\n",
              "\n",
              "    .dataframe thead th {\n",
              "        text-align: right;\n",
              "    }\n",
              "</style>\n",
              "<table border=\"1\" class=\"dataframe\">\n",
              "  <thead>\n",
              "    <tr style=\"text-align: right;\">\n",
              "      <th></th>\n",
              "      <th>Name</th>\n",
              "      <th>Platform</th>\n",
              "      <th>Year</th>\n",
              "      <th>Genre</th>\n",
              "      <th>Publisher</th>\n",
              "    </tr>\n",
              "  </thead>\n",
              "  <tbody>\n",
              "    <tr>\n",
              "      <th>1</th>\n",
              "      <td>Candace Kane's Candy Factory</td>\n",
              "      <td>DS</td>\n",
              "      <td>2008.0</td>\n",
              "      <td>Action</td>\n",
              "      <td>Destineer</td>\n",
              "    </tr>\n",
              "    <tr>\n",
              "      <th>2</th>\n",
              "      <td>The Munchables</td>\n",
              "      <td>Wii</td>\n",
              "      <td>2009.0</td>\n",
              "      <td>Action</td>\n",
              "      <td>Namco Bandai Games</td>\n",
              "    </tr>\n",
              "    <tr>\n",
              "      <th>3</th>\n",
              "      <td>Otome wa Oanesama Boku ni Koi Shiteru Portable</td>\n",
              "      <td>PSP</td>\n",
              "      <td>2010.0</td>\n",
              "      <td>Adventure</td>\n",
              "      <td>Alchemist</td>\n",
              "    </tr>\n",
              "    <tr>\n",
              "      <th>4</th>\n",
              "      <td>Deal or No Deal: Special Edition</td>\n",
              "      <td>DS</td>\n",
              "      <td>2010.0</td>\n",
              "      <td>Misc</td>\n",
              "      <td>Zoo Games</td>\n",
              "    </tr>\n",
              "    <tr>\n",
              "      <th>5</th>\n",
              "      <td>Ben 10 Ultimate Alien: Cosmic Destruction</td>\n",
              "      <td>PS3</td>\n",
              "      <td>2010.0</td>\n",
              "      <td>Platform</td>\n",
              "      <td>D3Publisher</td>\n",
              "    </tr>\n",
              "    <tr>\n",
              "      <th>...</th>\n",
              "      <td>...</td>\n",
              "      <td>...</td>\n",
              "      <td>...</td>\n",
              "      <td>...</td>\n",
              "      <td>...</td>\n",
              "    </tr>\n",
              "    <tr>\n",
              "      <th>16594</th>\n",
              "      <td>Ice Age 2: The Meltdown</td>\n",
              "      <td>GC</td>\n",
              "      <td>2006.0</td>\n",
              "      <td>Platform</td>\n",
              "      <td>Vivendi Games</td>\n",
              "    </tr>\n",
              "    <tr>\n",
              "      <th>16595</th>\n",
              "      <td>Rainbow Islands: Revolution</td>\n",
              "      <td>PSP</td>\n",
              "      <td>2005.0</td>\n",
              "      <td>Action</td>\n",
              "      <td>Rising Star Games</td>\n",
              "    </tr>\n",
              "    <tr>\n",
              "      <th>16596</th>\n",
              "      <td>NBA 2K16</td>\n",
              "      <td>PS3</td>\n",
              "      <td>2015.0</td>\n",
              "      <td>Sports</td>\n",
              "      <td>Take-Two Interactive</td>\n",
              "    </tr>\n",
              "    <tr>\n",
              "      <th>16597</th>\n",
              "      <td>Toukiden: The Age of Demons</td>\n",
              "      <td>PSV</td>\n",
              "      <td>2013.0</td>\n",
              "      <td>Action</td>\n",
              "      <td>Tecmo Koei</td>\n",
              "    </tr>\n",
              "    <tr>\n",
              "      <th>16598</th>\n",
              "      <td>The King of Fighters '95</td>\n",
              "      <td>PS</td>\n",
              "      <td>1996.0</td>\n",
              "      <td>Fighting</td>\n",
              "      <td>Sony Computer Entertainment</td>\n",
              "    </tr>\n",
              "  </tbody>\n",
              "</table>\n",
              "<p>16598 rows × 5 columns</p>\n",
              "</div>"
            ],
            "text/plain": [
              "                                                 Name  ...                    Publisher\n",
              "1                        Candace Kane's Candy Factory  ...                    Destineer\n",
              "2                                      The Munchables  ...           Namco Bandai Games\n",
              "3      Otome wa Oanesama Boku ni Koi Shiteru Portable  ...                    Alchemist\n",
              "4                    Deal or No Deal: Special Edition  ...                    Zoo Games\n",
              "5           Ben 10 Ultimate Alien: Cosmic Destruction  ...                  D3Publisher\n",
              "...                                               ...  ...                          ...\n",
              "16594                         Ice Age 2: The Meltdown  ...                Vivendi Games\n",
              "16595                     Rainbow Islands: Revolution  ...            Rising Star Games\n",
              "16596                                        NBA 2K16  ...         Take-Two Interactive\n",
              "16597                     Toukiden: The Age of Demons  ...                   Tecmo Koei\n",
              "16598                        The King of Fighters '95  ...  Sony Computer Entertainment\n",
              "\n",
              "[16598 rows x 5 columns]"
            ]
          },
          "metadata": {},
          "execution_count": 13
        }
      ]
    },
    {
      "cell_type": "code",
      "metadata": {
        "colab": {
          "base_uri": "https://localhost:8080/",
          "height": 414
        },
        "id": "tfaKqGiJMZMe",
        "outputId": "27046dde-885f-4586-f516-d6597e00b44b"
      },
      "source": [
        "df2 = pd.concat([df1,data], axis = 1) # df1의 Sales 데이터들 드랍 후 수정한 데이터와 합치기\n",
        "df2"
      ],
      "execution_count": 14,
      "outputs": [
        {
          "output_type": "execute_result",
          "data": {
            "text/html": [
              "<div>\n",
              "<style scoped>\n",
              "    .dataframe tbody tr th:only-of-type {\n",
              "        vertical-align: middle;\n",
              "    }\n",
              "\n",
              "    .dataframe tbody tr th {\n",
              "        vertical-align: top;\n",
              "    }\n",
              "\n",
              "    .dataframe thead th {\n",
              "        text-align: right;\n",
              "    }\n",
              "</style>\n",
              "<table border=\"1\" class=\"dataframe\">\n",
              "  <thead>\n",
              "    <tr style=\"text-align: right;\">\n",
              "      <th></th>\n",
              "      <th>Name</th>\n",
              "      <th>Platform</th>\n",
              "      <th>Year</th>\n",
              "      <th>Genre</th>\n",
              "      <th>Publisher</th>\n",
              "      <th>NA_Sales</th>\n",
              "      <th>EU_Sales</th>\n",
              "      <th>JP_Sales</th>\n",
              "      <th>Other_Sales</th>\n",
              "    </tr>\n",
              "  </thead>\n",
              "  <tbody>\n",
              "    <tr>\n",
              "      <th>1</th>\n",
              "      <td>Candace Kane's Candy Factory</td>\n",
              "      <td>DS</td>\n",
              "      <td>2008.0</td>\n",
              "      <td>Action</td>\n",
              "      <td>Destineer</td>\n",
              "      <td>0.04</td>\n",
              "      <td>0.00</td>\n",
              "      <td>0.00</td>\n",
              "      <td>0.00</td>\n",
              "    </tr>\n",
              "    <tr>\n",
              "      <th>2</th>\n",
              "      <td>The Munchables</td>\n",
              "      <td>Wii</td>\n",
              "      <td>2009.0</td>\n",
              "      <td>Action</td>\n",
              "      <td>Namco Bandai Games</td>\n",
              "      <td>0.17</td>\n",
              "      <td>0.00</td>\n",
              "      <td>0.00</td>\n",
              "      <td>0.01</td>\n",
              "    </tr>\n",
              "    <tr>\n",
              "      <th>3</th>\n",
              "      <td>Otome wa Oanesama Boku ni Koi Shiteru Portable</td>\n",
              "      <td>PSP</td>\n",
              "      <td>2010.0</td>\n",
              "      <td>Adventure</td>\n",
              "      <td>Alchemist</td>\n",
              "      <td>0.00</td>\n",
              "      <td>0.00</td>\n",
              "      <td>0.02</td>\n",
              "      <td>0.00</td>\n",
              "    </tr>\n",
              "    <tr>\n",
              "      <th>4</th>\n",
              "      <td>Deal or No Deal: Special Edition</td>\n",
              "      <td>DS</td>\n",
              "      <td>2010.0</td>\n",
              "      <td>Misc</td>\n",
              "      <td>Zoo Games</td>\n",
              "      <td>0.04</td>\n",
              "      <td>0.00</td>\n",
              "      <td>0.00</td>\n",
              "      <td>0.00</td>\n",
              "    </tr>\n",
              "    <tr>\n",
              "      <th>5</th>\n",
              "      <td>Ben 10 Ultimate Alien: Cosmic Destruction</td>\n",
              "      <td>PS3</td>\n",
              "      <td>2010.0</td>\n",
              "      <td>Platform</td>\n",
              "      <td>D3Publisher</td>\n",
              "      <td>0.12</td>\n",
              "      <td>0.09</td>\n",
              "      <td>0.00</td>\n",
              "      <td>0.04</td>\n",
              "    </tr>\n",
              "    <tr>\n",
              "      <th>...</th>\n",
              "      <td>...</td>\n",
              "      <td>...</td>\n",
              "      <td>...</td>\n",
              "      <td>...</td>\n",
              "      <td>...</td>\n",
              "      <td>...</td>\n",
              "      <td>...</td>\n",
              "      <td>...</td>\n",
              "      <td>...</td>\n",
              "    </tr>\n",
              "    <tr>\n",
              "      <th>16594</th>\n",
              "      <td>Ice Age 2: The Meltdown</td>\n",
              "      <td>GC</td>\n",
              "      <td>2006.0</td>\n",
              "      <td>Platform</td>\n",
              "      <td>Vivendi Games</td>\n",
              "      <td>0.15</td>\n",
              "      <td>0.04</td>\n",
              "      <td>0.00</td>\n",
              "      <td>0.01</td>\n",
              "    </tr>\n",
              "    <tr>\n",
              "      <th>16595</th>\n",
              "      <td>Rainbow Islands: Revolution</td>\n",
              "      <td>PSP</td>\n",
              "      <td>2005.0</td>\n",
              "      <td>Action</td>\n",
              "      <td>Rising Star Games</td>\n",
              "      <td>0.01</td>\n",
              "      <td>0.00</td>\n",
              "      <td>0.00</td>\n",
              "      <td>0.00</td>\n",
              "    </tr>\n",
              "    <tr>\n",
              "      <th>16596</th>\n",
              "      <td>NBA 2K16</td>\n",
              "      <td>PS3</td>\n",
              "      <td>2015.0</td>\n",
              "      <td>Sports</td>\n",
              "      <td>Take-Two Interactive</td>\n",
              "      <td>0.44</td>\n",
              "      <td>0.19</td>\n",
              "      <td>0.03</td>\n",
              "      <td>0.13</td>\n",
              "    </tr>\n",
              "    <tr>\n",
              "      <th>16597</th>\n",
              "      <td>Toukiden: The Age of Demons</td>\n",
              "      <td>PSV</td>\n",
              "      <td>2013.0</td>\n",
              "      <td>Action</td>\n",
              "      <td>Tecmo Koei</td>\n",
              "      <td>0.05</td>\n",
              "      <td>0.05</td>\n",
              "      <td>0.25</td>\n",
              "      <td>0.03</td>\n",
              "    </tr>\n",
              "    <tr>\n",
              "      <th>16598</th>\n",
              "      <td>The King of Fighters '95</td>\n",
              "      <td>PS</td>\n",
              "      <td>1996.0</td>\n",
              "      <td>Fighting</td>\n",
              "      <td>Sony Computer Entertainment</td>\n",
              "      <td>0.00</td>\n",
              "      <td>0.00</td>\n",
              "      <td>0.16</td>\n",
              "      <td>0.01</td>\n",
              "    </tr>\n",
              "  </tbody>\n",
              "</table>\n",
              "<p>16598 rows × 9 columns</p>\n",
              "</div>"
            ],
            "text/plain": [
              "                                                 Name  ... Other_Sales\n",
              "1                        Candace Kane's Candy Factory  ...        0.00\n",
              "2                                      The Munchables  ...        0.01\n",
              "3      Otome wa Oanesama Boku ni Koi Shiteru Portable  ...        0.00\n",
              "4                    Deal or No Deal: Special Edition  ...        0.00\n",
              "5           Ben 10 Ultimate Alien: Cosmic Destruction  ...        0.04\n",
              "...                                               ...  ...         ...\n",
              "16594                         Ice Age 2: The Meltdown  ...        0.01\n",
              "16595                     Rainbow Islands: Revolution  ...        0.00\n",
              "16596                                        NBA 2K16  ...        0.13\n",
              "16597                     Toukiden: The Age of Demons  ...        0.03\n",
              "16598                        The King of Fighters '95  ...        0.01\n",
              "\n",
              "[16598 rows x 9 columns]"
            ]
          },
          "metadata": {},
          "execution_count": 14
        }
      ]
    },
    {
      "cell_type": "code",
      "metadata": {
        "id": "rrzkJJruM9w-",
        "colab": {
          "base_uri": "https://localhost:8080/"
        },
        "outputId": "1e11fb52-26c2-4647-a296-58def67a7aa5"
      },
      "source": [
        "df2.info()"
      ],
      "execution_count": 15,
      "outputs": [
        {
          "output_type": "stream",
          "name": "stdout",
          "text": [
            "<class 'pandas.core.frame.DataFrame'>\n",
            "Int64Index: 16598 entries, 1 to 16598\n",
            "Data columns (total 9 columns):\n",
            " #   Column       Non-Null Count  Dtype  \n",
            "---  ------       --------------  -----  \n",
            " 0   Name         16598 non-null  object \n",
            " 1   Platform     16598 non-null  object \n",
            " 2   Year         16327 non-null  float64\n",
            " 3   Genre        16548 non-null  object \n",
            " 4   Publisher    16540 non-null  object \n",
            " 5   NA_Sales     16598 non-null  float64\n",
            " 6   EU_Sales     16598 non-null  float64\n",
            " 7   JP_Sales     16598 non-null  float64\n",
            " 8   Other_Sales  16598 non-null  float64\n",
            "dtypes: float64(5), object(4)\n",
            "memory usage: 1.3+ MB\n"
          ]
        }
      ]
    },
    {
      "cell_type": "code",
      "metadata": {
        "id": "pDyj4MZPNA7O",
        "colab": {
          "base_uri": "https://localhost:8080/",
          "height": 294
        },
        "outputId": "657549c4-1c6f-4c1d-c574-6442045bf858"
      },
      "source": [
        "df2.describe() ## Year의 최소값이 0년.."
      ],
      "execution_count": 16,
      "outputs": [
        {
          "output_type": "execute_result",
          "data": {
            "text/html": [
              "<div>\n",
              "<style scoped>\n",
              "    .dataframe tbody tr th:only-of-type {\n",
              "        vertical-align: middle;\n",
              "    }\n",
              "\n",
              "    .dataframe tbody tr th {\n",
              "        vertical-align: top;\n",
              "    }\n",
              "\n",
              "    .dataframe thead th {\n",
              "        text-align: right;\n",
              "    }\n",
              "</style>\n",
              "<table border=\"1\" class=\"dataframe\">\n",
              "  <thead>\n",
              "    <tr style=\"text-align: right;\">\n",
              "      <th></th>\n",
              "      <th>Year</th>\n",
              "      <th>NA_Sales</th>\n",
              "      <th>EU_Sales</th>\n",
              "      <th>JP_Sales</th>\n",
              "      <th>Other_Sales</th>\n",
              "    </tr>\n",
              "  </thead>\n",
              "  <tbody>\n",
              "    <tr>\n",
              "      <th>count</th>\n",
              "      <td>16327.000000</td>\n",
              "      <td>16598.000000</td>\n",
              "      <td>16598.000000</td>\n",
              "      <td>16598.000000</td>\n",
              "      <td>16598.000000</td>\n",
              "    </tr>\n",
              "    <tr>\n",
              "      <th>mean</th>\n",
              "      <td>1994.242543</td>\n",
              "      <td>0.264667</td>\n",
              "      <td>0.146652</td>\n",
              "      <td>0.077782</td>\n",
              "      <td>0.048063</td>\n",
              "    </tr>\n",
              "    <tr>\n",
              "      <th>std</th>\n",
              "      <td>155.077168</td>\n",
              "      <td>0.816683</td>\n",
              "      <td>0.505351</td>\n",
              "      <td>0.309291</td>\n",
              "      <td>0.188588</td>\n",
              "    </tr>\n",
              "    <tr>\n",
              "      <th>min</th>\n",
              "      <td>0.000000</td>\n",
              "      <td>0.000000</td>\n",
              "      <td>0.000000</td>\n",
              "      <td>0.000000</td>\n",
              "      <td>0.000000</td>\n",
              "    </tr>\n",
              "    <tr>\n",
              "      <th>25%</th>\n",
              "      <td>2003.000000</td>\n",
              "      <td>0.000000</td>\n",
              "      <td>0.000000</td>\n",
              "      <td>0.000000</td>\n",
              "      <td>0.000000</td>\n",
              "    </tr>\n",
              "    <tr>\n",
              "      <th>50%</th>\n",
              "      <td>2007.000000</td>\n",
              "      <td>0.080000</td>\n",
              "      <td>0.020000</td>\n",
              "      <td>0.000000</td>\n",
              "      <td>0.010000</td>\n",
              "    </tr>\n",
              "    <tr>\n",
              "      <th>75%</th>\n",
              "      <td>2010.000000</td>\n",
              "      <td>0.240000</td>\n",
              "      <td>0.110000</td>\n",
              "      <td>0.040000</td>\n",
              "      <td>0.040000</td>\n",
              "    </tr>\n",
              "    <tr>\n",
              "      <th>max</th>\n",
              "      <td>2020.000000</td>\n",
              "      <td>41.490000</td>\n",
              "      <td>29.020000</td>\n",
              "      <td>10.220000</td>\n",
              "      <td>10.570000</td>\n",
              "    </tr>\n",
              "  </tbody>\n",
              "</table>\n",
              "</div>"
            ],
            "text/plain": [
              "               Year      NA_Sales      EU_Sales      JP_Sales   Other_Sales\n",
              "count  16327.000000  16598.000000  16598.000000  16598.000000  16598.000000\n",
              "mean    1994.242543      0.264667      0.146652      0.077782      0.048063\n",
              "std      155.077168      0.816683      0.505351      0.309291      0.188588\n",
              "min        0.000000      0.000000      0.000000      0.000000      0.000000\n",
              "25%     2003.000000      0.000000      0.000000      0.000000      0.000000\n",
              "50%     2007.000000      0.080000      0.020000      0.000000      0.010000\n",
              "75%     2010.000000      0.240000      0.110000      0.040000      0.040000\n",
              "max     2020.000000     41.490000     29.020000     10.220000     10.570000"
            ]
          },
          "metadata": {},
          "execution_count": 16
        }
      ]
    },
    {
      "cell_type": "markdown",
      "metadata": {
        "id": "pgRZClAmOpl2"
      },
      "source": [
        "# **Year 데이터 수정**"
      ]
    },
    {
      "cell_type": "code",
      "metadata": {
        "id": "6mF2uJXlOxUG"
      },
      "source": [
        "# 연도 수정 함수\n",
        "# x가 21보다 작을 경우 +2000\n",
        "# x가 21보다 크거나 같을 경우, x가 100보다 작을 경우 +1900\n",
        "def year(x):\n",
        "  if x < 21:\n",
        "      return x + 2000\n",
        "  elif x >= 21 and x < 1900:\n",
        "      return x + 1900\n",
        "  else:\n",
        "      return x"
      ],
      "execution_count": 17,
      "outputs": []
    },
    {
      "cell_type": "code",
      "metadata": {
        "colab": {
          "base_uri": "https://localhost:8080/"
        },
        "id": "lyFDhIZpUdg-",
        "outputId": "ee0c056e-8ecf-4d2b-d2bc-329a93fc6cda"
      },
      "source": [
        "df2['Year'] = df2['Year'].astype(pd.Int32Dtype())\n",
        "df2.info()"
      ],
      "execution_count": 18,
      "outputs": [
        {
          "output_type": "stream",
          "name": "stdout",
          "text": [
            "<class 'pandas.core.frame.DataFrame'>\n",
            "Int64Index: 16598 entries, 1 to 16598\n",
            "Data columns (total 9 columns):\n",
            " #   Column       Non-Null Count  Dtype  \n",
            "---  ------       --------------  -----  \n",
            " 0   Name         16598 non-null  object \n",
            " 1   Platform     16598 non-null  object \n",
            " 2   Year         16327 non-null  Int32  \n",
            " 3   Genre        16548 non-null  object \n",
            " 4   Publisher    16540 non-null  object \n",
            " 5   NA_Sales     16598 non-null  float64\n",
            " 6   EU_Sales     16598 non-null  float64\n",
            " 7   JP_Sales     16598 non-null  float64\n",
            " 8   Other_Sales  16598 non-null  float64\n",
            "dtypes: Int32(1), float64(4), object(4)\n",
            "memory usage: 1.2+ MB\n"
          ]
        }
      ]
    },
    {
      "cell_type": "code",
      "metadata": {
        "colab": {
          "base_uri": "https://localhost:8080/",
          "height": 202
        },
        "id": "e2TIdYcPXGv4",
        "outputId": "71cf7a54-5a8c-41dd-bbef-7c742f2c5261"
      },
      "source": [
        "df2.head()"
      ],
      "execution_count": 19,
      "outputs": [
        {
          "output_type": "execute_result",
          "data": {
            "text/html": [
              "<div>\n",
              "<style scoped>\n",
              "    .dataframe tbody tr th:only-of-type {\n",
              "        vertical-align: middle;\n",
              "    }\n",
              "\n",
              "    .dataframe tbody tr th {\n",
              "        vertical-align: top;\n",
              "    }\n",
              "\n",
              "    .dataframe thead th {\n",
              "        text-align: right;\n",
              "    }\n",
              "</style>\n",
              "<table border=\"1\" class=\"dataframe\">\n",
              "  <thead>\n",
              "    <tr style=\"text-align: right;\">\n",
              "      <th></th>\n",
              "      <th>Name</th>\n",
              "      <th>Platform</th>\n",
              "      <th>Year</th>\n",
              "      <th>Genre</th>\n",
              "      <th>Publisher</th>\n",
              "      <th>NA_Sales</th>\n",
              "      <th>EU_Sales</th>\n",
              "      <th>JP_Sales</th>\n",
              "      <th>Other_Sales</th>\n",
              "    </tr>\n",
              "  </thead>\n",
              "  <tbody>\n",
              "    <tr>\n",
              "      <th>1</th>\n",
              "      <td>Candace Kane's Candy Factory</td>\n",
              "      <td>DS</td>\n",
              "      <td>2008</td>\n",
              "      <td>Action</td>\n",
              "      <td>Destineer</td>\n",
              "      <td>0.04</td>\n",
              "      <td>0.00</td>\n",
              "      <td>0.00</td>\n",
              "      <td>0.00</td>\n",
              "    </tr>\n",
              "    <tr>\n",
              "      <th>2</th>\n",
              "      <td>The Munchables</td>\n",
              "      <td>Wii</td>\n",
              "      <td>2009</td>\n",
              "      <td>Action</td>\n",
              "      <td>Namco Bandai Games</td>\n",
              "      <td>0.17</td>\n",
              "      <td>0.00</td>\n",
              "      <td>0.00</td>\n",
              "      <td>0.01</td>\n",
              "    </tr>\n",
              "    <tr>\n",
              "      <th>3</th>\n",
              "      <td>Otome wa Oanesama Boku ni Koi Shiteru Portable</td>\n",
              "      <td>PSP</td>\n",
              "      <td>2010</td>\n",
              "      <td>Adventure</td>\n",
              "      <td>Alchemist</td>\n",
              "      <td>0.00</td>\n",
              "      <td>0.00</td>\n",
              "      <td>0.02</td>\n",
              "      <td>0.00</td>\n",
              "    </tr>\n",
              "    <tr>\n",
              "      <th>4</th>\n",
              "      <td>Deal or No Deal: Special Edition</td>\n",
              "      <td>DS</td>\n",
              "      <td>2010</td>\n",
              "      <td>Misc</td>\n",
              "      <td>Zoo Games</td>\n",
              "      <td>0.04</td>\n",
              "      <td>0.00</td>\n",
              "      <td>0.00</td>\n",
              "      <td>0.00</td>\n",
              "    </tr>\n",
              "    <tr>\n",
              "      <th>5</th>\n",
              "      <td>Ben 10 Ultimate Alien: Cosmic Destruction</td>\n",
              "      <td>PS3</td>\n",
              "      <td>2010</td>\n",
              "      <td>Platform</td>\n",
              "      <td>D3Publisher</td>\n",
              "      <td>0.12</td>\n",
              "      <td>0.09</td>\n",
              "      <td>0.00</td>\n",
              "      <td>0.04</td>\n",
              "    </tr>\n",
              "  </tbody>\n",
              "</table>\n",
              "</div>"
            ],
            "text/plain": [
              "                                             Name  ... Other_Sales\n",
              "1                    Candace Kane's Candy Factory  ...        0.00\n",
              "2                                  The Munchables  ...        0.01\n",
              "3  Otome wa Oanesama Boku ni Koi Shiteru Portable  ...        0.00\n",
              "4                Deal or No Deal: Special Edition  ...        0.00\n",
              "5       Ben 10 Ultimate Alien: Cosmic Destruction  ...        0.04\n",
              "\n",
              "[5 rows x 9 columns]"
            ]
          },
          "metadata": {},
          "execution_count": 19
        }
      ]
    },
    {
      "cell_type": "code",
      "metadata": {
        "id": "90MY9bIBZv76"
      },
      "source": [
        "df2 = df2.dropna(how='any')"
      ],
      "execution_count": 20,
      "outputs": []
    },
    {
      "cell_type": "code",
      "metadata": {
        "colab": {
          "base_uri": "https://localhost:8080/",
          "height": 294
        },
        "id": "6FnhGiGJaG2I",
        "outputId": "aee248a8-63ed-4daf-cab1-b677f5eaea99"
      },
      "source": [
        "df2.describe()"
      ],
      "execution_count": 21,
      "outputs": [
        {
          "output_type": "execute_result",
          "data": {
            "text/html": [
              "<div>\n",
              "<style scoped>\n",
              "    .dataframe tbody tr th:only-of-type {\n",
              "        vertical-align: middle;\n",
              "    }\n",
              "\n",
              "    .dataframe tbody tr th {\n",
              "        vertical-align: top;\n",
              "    }\n",
              "\n",
              "    .dataframe thead th {\n",
              "        text-align: right;\n",
              "    }\n",
              "</style>\n",
              "<table border=\"1\" class=\"dataframe\">\n",
              "  <thead>\n",
              "    <tr style=\"text-align: right;\">\n",
              "      <th></th>\n",
              "      <th>Year</th>\n",
              "      <th>NA_Sales</th>\n",
              "      <th>EU_Sales</th>\n",
              "      <th>JP_Sales</th>\n",
              "      <th>Other_Sales</th>\n",
              "    </tr>\n",
              "  </thead>\n",
              "  <tbody>\n",
              "    <tr>\n",
              "      <th>count</th>\n",
              "      <td>16241.000000</td>\n",
              "      <td>16241.000000</td>\n",
              "      <td>16241.000000</td>\n",
              "      <td>16241.000000</td>\n",
              "      <td>16241.000000</td>\n",
              "    </tr>\n",
              "    <tr>\n",
              "      <th>mean</th>\n",
              "      <td>1994.178437</td>\n",
              "      <td>0.265195</td>\n",
              "      <td>0.147378</td>\n",
              "      <td>0.078283</td>\n",
              "      <td>0.048234</td>\n",
              "    </tr>\n",
              "    <tr>\n",
              "      <th>std</th>\n",
              "      <td>155.484265</td>\n",
              "      <td>0.822431</td>\n",
              "      <td>0.508340</td>\n",
              "      <td>0.309272</td>\n",
              "      <td>0.189678</td>\n",
              "    </tr>\n",
              "    <tr>\n",
              "      <th>min</th>\n",
              "      <td>0.000000</td>\n",
              "      <td>0.000000</td>\n",
              "      <td>0.000000</td>\n",
              "      <td>0.000000</td>\n",
              "      <td>0.000000</td>\n",
              "    </tr>\n",
              "    <tr>\n",
              "      <th>25%</th>\n",
              "      <td>2003.000000</td>\n",
              "      <td>0.000000</td>\n",
              "      <td>0.000000</td>\n",
              "      <td>0.000000</td>\n",
              "      <td>0.000000</td>\n",
              "    </tr>\n",
              "    <tr>\n",
              "      <th>50%</th>\n",
              "      <td>2007.000000</td>\n",
              "      <td>0.080000</td>\n",
              "      <td>0.020000</td>\n",
              "      <td>0.000000</td>\n",
              "      <td>0.010000</td>\n",
              "    </tr>\n",
              "    <tr>\n",
              "      <th>75%</th>\n",
              "      <td>2010.000000</td>\n",
              "      <td>0.240000</td>\n",
              "      <td>0.110000</td>\n",
              "      <td>0.040000</td>\n",
              "      <td>0.040000</td>\n",
              "    </tr>\n",
              "    <tr>\n",
              "      <th>max</th>\n",
              "      <td>2020.000000</td>\n",
              "      <td>41.490000</td>\n",
              "      <td>29.020000</td>\n",
              "      <td>10.220000</td>\n",
              "      <td>10.570000</td>\n",
              "    </tr>\n",
              "  </tbody>\n",
              "</table>\n",
              "</div>"
            ],
            "text/plain": [
              "               Year      NA_Sales      EU_Sales      JP_Sales   Other_Sales\n",
              "count  16241.000000  16241.000000  16241.000000  16241.000000  16241.000000\n",
              "mean    1994.178437      0.265195      0.147378      0.078283      0.048234\n",
              "std      155.484265      0.822431      0.508340      0.309272      0.189678\n",
              "min        0.000000      0.000000      0.000000      0.000000      0.000000\n",
              "25%     2003.000000      0.000000      0.000000      0.000000      0.000000\n",
              "50%     2007.000000      0.080000      0.020000      0.000000      0.010000\n",
              "75%     2010.000000      0.240000      0.110000      0.040000      0.040000\n",
              "max     2020.000000     41.490000     29.020000     10.220000     10.570000"
            ]
          },
          "metadata": {},
          "execution_count": 21
        }
      ]
    },
    {
      "cell_type": "code",
      "metadata": {
        "id": "mgAqtTlZSpsF"
      },
      "source": [
        "df_year = df2['Year'].apply(lambda x : year(x))"
      ],
      "execution_count": 22,
      "outputs": []
    },
    {
      "cell_type": "code",
      "metadata": {
        "colab": {
          "base_uri": "https://localhost:8080/"
        },
        "id": "BXTg9grmTZyQ",
        "outputId": "9e074114-a6db-433c-ebf1-473fa3e79644"
      },
      "source": [
        "df_year.mean()"
      ],
      "execution_count": 23,
      "outputs": [
        {
          "output_type": "execute_result",
          "data": {
            "text/plain": [
              "2006.4067483529338"
            ]
          },
          "metadata": {},
          "execution_count": 23
        }
      ]
    },
    {
      "cell_type": "code",
      "metadata": {
        "colab": {
          "base_uri": "https://localhost:8080/"
        },
        "id": "f7B3iig6aQEw",
        "outputId": "10b2e14c-8e6b-41e3-fe1a-8d919e1cc0b7"
      },
      "source": [
        "df2['Year'] = df_year"
      ],
      "execution_count": 24,
      "outputs": [
        {
          "output_type": "stream",
          "name": "stderr",
          "text": [
            "/usr/local/lib/python3.7/dist-packages/ipykernel_launcher.py:1: SettingWithCopyWarning: \n",
            "A value is trying to be set on a copy of a slice from a DataFrame.\n",
            "Try using .loc[row_indexer,col_indexer] = value instead\n",
            "\n",
            "See the caveats in the documentation: https://pandas.pydata.org/pandas-docs/stable/user_guide/indexing.html#returning-a-view-versus-a-copy\n",
            "  \"\"\"Entry point for launching an IPython kernel.\n"
          ]
        }
      ]
    },
    {
      "cell_type": "code",
      "metadata": {
        "colab": {
          "base_uri": "https://localhost:8080/",
          "height": 294
        },
        "id": "qlq-dA1galsg",
        "outputId": "9f6e9833-c442-457a-8829-4b64acf1de85"
      },
      "source": [
        "df2.describe()"
      ],
      "execution_count": 25,
      "outputs": [
        {
          "output_type": "execute_result",
          "data": {
            "text/html": [
              "<div>\n",
              "<style scoped>\n",
              "    .dataframe tbody tr th:only-of-type {\n",
              "        vertical-align: middle;\n",
              "    }\n",
              "\n",
              "    .dataframe tbody tr th {\n",
              "        vertical-align: top;\n",
              "    }\n",
              "\n",
              "    .dataframe thead th {\n",
              "        text-align: right;\n",
              "    }\n",
              "</style>\n",
              "<table border=\"1\" class=\"dataframe\">\n",
              "  <thead>\n",
              "    <tr style=\"text-align: right;\">\n",
              "      <th></th>\n",
              "      <th>Year</th>\n",
              "      <th>NA_Sales</th>\n",
              "      <th>EU_Sales</th>\n",
              "      <th>JP_Sales</th>\n",
              "      <th>Other_Sales</th>\n",
              "    </tr>\n",
              "  </thead>\n",
              "  <tbody>\n",
              "    <tr>\n",
              "      <th>count</th>\n",
              "      <td>16241.000000</td>\n",
              "      <td>16241.000000</td>\n",
              "      <td>16241.000000</td>\n",
              "      <td>16241.000000</td>\n",
              "      <td>16241.000000</td>\n",
              "    </tr>\n",
              "    <tr>\n",
              "      <th>mean</th>\n",
              "      <td>2006.406748</td>\n",
              "      <td>0.265195</td>\n",
              "      <td>0.147378</td>\n",
              "      <td>0.078283</td>\n",
              "      <td>0.048234</td>\n",
              "    </tr>\n",
              "    <tr>\n",
              "      <th>std</th>\n",
              "      <td>5.832087</td>\n",
              "      <td>0.822431</td>\n",
              "      <td>0.508340</td>\n",
              "      <td>0.309272</td>\n",
              "      <td>0.189678</td>\n",
              "    </tr>\n",
              "    <tr>\n",
              "      <th>min</th>\n",
              "      <td>1980.000000</td>\n",
              "      <td>0.000000</td>\n",
              "      <td>0.000000</td>\n",
              "      <td>0.000000</td>\n",
              "      <td>0.000000</td>\n",
              "    </tr>\n",
              "    <tr>\n",
              "      <th>25%</th>\n",
              "      <td>2003.000000</td>\n",
              "      <td>0.000000</td>\n",
              "      <td>0.000000</td>\n",
              "      <td>0.000000</td>\n",
              "      <td>0.000000</td>\n",
              "    </tr>\n",
              "    <tr>\n",
              "      <th>50%</th>\n",
              "      <td>2007.000000</td>\n",
              "      <td>0.080000</td>\n",
              "      <td>0.020000</td>\n",
              "      <td>0.000000</td>\n",
              "      <td>0.010000</td>\n",
              "    </tr>\n",
              "    <tr>\n",
              "      <th>75%</th>\n",
              "      <td>2010.000000</td>\n",
              "      <td>0.240000</td>\n",
              "      <td>0.110000</td>\n",
              "      <td>0.040000</td>\n",
              "      <td>0.040000</td>\n",
              "    </tr>\n",
              "    <tr>\n",
              "      <th>max</th>\n",
              "      <td>2020.000000</td>\n",
              "      <td>41.490000</td>\n",
              "      <td>29.020000</td>\n",
              "      <td>10.220000</td>\n",
              "      <td>10.570000</td>\n",
              "    </tr>\n",
              "  </tbody>\n",
              "</table>\n",
              "</div>"
            ],
            "text/plain": [
              "               Year      NA_Sales      EU_Sales      JP_Sales   Other_Sales\n",
              "count  16241.000000  16241.000000  16241.000000  16241.000000  16241.000000\n",
              "mean    2006.406748      0.265195      0.147378      0.078283      0.048234\n",
              "std        5.832087      0.822431      0.508340      0.309272      0.189678\n",
              "min     1980.000000      0.000000      0.000000      0.000000      0.000000\n",
              "25%     2003.000000      0.000000      0.000000      0.000000      0.000000\n",
              "50%     2007.000000      0.080000      0.020000      0.000000      0.010000\n",
              "75%     2010.000000      0.240000      0.110000      0.040000      0.040000\n",
              "max     2020.000000     41.490000     29.020000     10.220000     10.570000"
            ]
          },
          "metadata": {},
          "execution_count": 25
        }
      ]
    },
    {
      "cell_type": "code",
      "metadata": {
        "colab": {
          "base_uri": "https://localhost:8080/",
          "height": 202
        },
        "id": "C8t8M9c-a1Vo",
        "outputId": "d95de965-0cff-4196-dfa8-29a453d54fc2"
      },
      "source": [
        "df2.head()"
      ],
      "execution_count": 26,
      "outputs": [
        {
          "output_type": "execute_result",
          "data": {
            "text/html": [
              "<div>\n",
              "<style scoped>\n",
              "    .dataframe tbody tr th:only-of-type {\n",
              "        vertical-align: middle;\n",
              "    }\n",
              "\n",
              "    .dataframe tbody tr th {\n",
              "        vertical-align: top;\n",
              "    }\n",
              "\n",
              "    .dataframe thead th {\n",
              "        text-align: right;\n",
              "    }\n",
              "</style>\n",
              "<table border=\"1\" class=\"dataframe\">\n",
              "  <thead>\n",
              "    <tr style=\"text-align: right;\">\n",
              "      <th></th>\n",
              "      <th>Name</th>\n",
              "      <th>Platform</th>\n",
              "      <th>Year</th>\n",
              "      <th>Genre</th>\n",
              "      <th>Publisher</th>\n",
              "      <th>NA_Sales</th>\n",
              "      <th>EU_Sales</th>\n",
              "      <th>JP_Sales</th>\n",
              "      <th>Other_Sales</th>\n",
              "    </tr>\n",
              "  </thead>\n",
              "  <tbody>\n",
              "    <tr>\n",
              "      <th>1</th>\n",
              "      <td>Candace Kane's Candy Factory</td>\n",
              "      <td>DS</td>\n",
              "      <td>2008</td>\n",
              "      <td>Action</td>\n",
              "      <td>Destineer</td>\n",
              "      <td>0.04</td>\n",
              "      <td>0.00</td>\n",
              "      <td>0.00</td>\n",
              "      <td>0.00</td>\n",
              "    </tr>\n",
              "    <tr>\n",
              "      <th>2</th>\n",
              "      <td>The Munchables</td>\n",
              "      <td>Wii</td>\n",
              "      <td>2009</td>\n",
              "      <td>Action</td>\n",
              "      <td>Namco Bandai Games</td>\n",
              "      <td>0.17</td>\n",
              "      <td>0.00</td>\n",
              "      <td>0.00</td>\n",
              "      <td>0.01</td>\n",
              "    </tr>\n",
              "    <tr>\n",
              "      <th>3</th>\n",
              "      <td>Otome wa Oanesama Boku ni Koi Shiteru Portable</td>\n",
              "      <td>PSP</td>\n",
              "      <td>2010</td>\n",
              "      <td>Adventure</td>\n",
              "      <td>Alchemist</td>\n",
              "      <td>0.00</td>\n",
              "      <td>0.00</td>\n",
              "      <td>0.02</td>\n",
              "      <td>0.00</td>\n",
              "    </tr>\n",
              "    <tr>\n",
              "      <th>4</th>\n",
              "      <td>Deal or No Deal: Special Edition</td>\n",
              "      <td>DS</td>\n",
              "      <td>2010</td>\n",
              "      <td>Misc</td>\n",
              "      <td>Zoo Games</td>\n",
              "      <td>0.04</td>\n",
              "      <td>0.00</td>\n",
              "      <td>0.00</td>\n",
              "      <td>0.00</td>\n",
              "    </tr>\n",
              "    <tr>\n",
              "      <th>5</th>\n",
              "      <td>Ben 10 Ultimate Alien: Cosmic Destruction</td>\n",
              "      <td>PS3</td>\n",
              "      <td>2010</td>\n",
              "      <td>Platform</td>\n",
              "      <td>D3Publisher</td>\n",
              "      <td>0.12</td>\n",
              "      <td>0.09</td>\n",
              "      <td>0.00</td>\n",
              "      <td>0.04</td>\n",
              "    </tr>\n",
              "  </tbody>\n",
              "</table>\n",
              "</div>"
            ],
            "text/plain": [
              "                                             Name  ... Other_Sales\n",
              "1                    Candace Kane's Candy Factory  ...        0.00\n",
              "2                                  The Munchables  ...        0.01\n",
              "3  Otome wa Oanesama Boku ni Koi Shiteru Portable  ...        0.00\n",
              "4                Deal or No Deal: Special Edition  ...        0.00\n",
              "5       Ben 10 Ultimate Alien: Cosmic Destruction  ...        0.04\n",
              "\n",
              "[5 rows x 9 columns]"
            ]
          },
          "metadata": {},
          "execution_count": 26
        }
      ]
    },
    {
      "cell_type": "markdown",
      "metadata": {
        "id": "_dEcOTEoldey"
      },
      "source": [
        "# **1. 지역에 따라서 선호하는 게임 장르가 다를까**"
      ]
    },
    {
      "cell_type": "code",
      "metadata": {
        "colab": {
          "base_uri": "https://localhost:8080/",
          "height": 514
        },
        "id": "lt4NFPlFTS19",
        "outputId": "7f476882-197f-4651-e2b5-0eca3670fb43"
      },
      "source": [
        "# 총 판매량\n",
        "df2['Total_Sales'] = df2['NA_Sales'] + df2['EU_Sales']+df2['JP_Sales']+df2['Other_Sales']\n",
        "df2"
      ],
      "execution_count": 27,
      "outputs": [
        {
          "output_type": "stream",
          "name": "stderr",
          "text": [
            "/usr/local/lib/python3.7/dist-packages/ipykernel_launcher.py:2: SettingWithCopyWarning: \n",
            "A value is trying to be set on a copy of a slice from a DataFrame.\n",
            "Try using .loc[row_indexer,col_indexer] = value instead\n",
            "\n",
            "See the caveats in the documentation: https://pandas.pydata.org/pandas-docs/stable/user_guide/indexing.html#returning-a-view-versus-a-copy\n",
            "  \n"
          ]
        },
        {
          "output_type": "execute_result",
          "data": {
            "text/html": [
              "<div>\n",
              "<style scoped>\n",
              "    .dataframe tbody tr th:only-of-type {\n",
              "        vertical-align: middle;\n",
              "    }\n",
              "\n",
              "    .dataframe tbody tr th {\n",
              "        vertical-align: top;\n",
              "    }\n",
              "\n",
              "    .dataframe thead th {\n",
              "        text-align: right;\n",
              "    }\n",
              "</style>\n",
              "<table border=\"1\" class=\"dataframe\">\n",
              "  <thead>\n",
              "    <tr style=\"text-align: right;\">\n",
              "      <th></th>\n",
              "      <th>Name</th>\n",
              "      <th>Platform</th>\n",
              "      <th>Year</th>\n",
              "      <th>Genre</th>\n",
              "      <th>Publisher</th>\n",
              "      <th>NA_Sales</th>\n",
              "      <th>EU_Sales</th>\n",
              "      <th>JP_Sales</th>\n",
              "      <th>Other_Sales</th>\n",
              "      <th>Total_Sales</th>\n",
              "    </tr>\n",
              "  </thead>\n",
              "  <tbody>\n",
              "    <tr>\n",
              "      <th>1</th>\n",
              "      <td>Candace Kane's Candy Factory</td>\n",
              "      <td>DS</td>\n",
              "      <td>2008</td>\n",
              "      <td>Action</td>\n",
              "      <td>Destineer</td>\n",
              "      <td>0.04</td>\n",
              "      <td>0.00</td>\n",
              "      <td>0.00</td>\n",
              "      <td>0.00</td>\n",
              "      <td>0.04</td>\n",
              "    </tr>\n",
              "    <tr>\n",
              "      <th>2</th>\n",
              "      <td>The Munchables</td>\n",
              "      <td>Wii</td>\n",
              "      <td>2009</td>\n",
              "      <td>Action</td>\n",
              "      <td>Namco Bandai Games</td>\n",
              "      <td>0.17</td>\n",
              "      <td>0.00</td>\n",
              "      <td>0.00</td>\n",
              "      <td>0.01</td>\n",
              "      <td>0.18</td>\n",
              "    </tr>\n",
              "    <tr>\n",
              "      <th>3</th>\n",
              "      <td>Otome wa Oanesama Boku ni Koi Shiteru Portable</td>\n",
              "      <td>PSP</td>\n",
              "      <td>2010</td>\n",
              "      <td>Adventure</td>\n",
              "      <td>Alchemist</td>\n",
              "      <td>0.00</td>\n",
              "      <td>0.00</td>\n",
              "      <td>0.02</td>\n",
              "      <td>0.00</td>\n",
              "      <td>0.02</td>\n",
              "    </tr>\n",
              "    <tr>\n",
              "      <th>4</th>\n",
              "      <td>Deal or No Deal: Special Edition</td>\n",
              "      <td>DS</td>\n",
              "      <td>2010</td>\n",
              "      <td>Misc</td>\n",
              "      <td>Zoo Games</td>\n",
              "      <td>0.04</td>\n",
              "      <td>0.00</td>\n",
              "      <td>0.00</td>\n",
              "      <td>0.00</td>\n",
              "      <td>0.04</td>\n",
              "    </tr>\n",
              "    <tr>\n",
              "      <th>5</th>\n",
              "      <td>Ben 10 Ultimate Alien: Cosmic Destruction</td>\n",
              "      <td>PS3</td>\n",
              "      <td>2010</td>\n",
              "      <td>Platform</td>\n",
              "      <td>D3Publisher</td>\n",
              "      <td>0.12</td>\n",
              "      <td>0.09</td>\n",
              "      <td>0.00</td>\n",
              "      <td>0.04</td>\n",
              "      <td>0.25</td>\n",
              "    </tr>\n",
              "    <tr>\n",
              "      <th>...</th>\n",
              "      <td>...</td>\n",
              "      <td>...</td>\n",
              "      <td>...</td>\n",
              "      <td>...</td>\n",
              "      <td>...</td>\n",
              "      <td>...</td>\n",
              "      <td>...</td>\n",
              "      <td>...</td>\n",
              "      <td>...</td>\n",
              "      <td>...</td>\n",
              "    </tr>\n",
              "    <tr>\n",
              "      <th>16594</th>\n",
              "      <td>Ice Age 2: The Meltdown</td>\n",
              "      <td>GC</td>\n",
              "      <td>2006</td>\n",
              "      <td>Platform</td>\n",
              "      <td>Vivendi Games</td>\n",
              "      <td>0.15</td>\n",
              "      <td>0.04</td>\n",
              "      <td>0.00</td>\n",
              "      <td>0.01</td>\n",
              "      <td>0.20</td>\n",
              "    </tr>\n",
              "    <tr>\n",
              "      <th>16595</th>\n",
              "      <td>Rainbow Islands: Revolution</td>\n",
              "      <td>PSP</td>\n",
              "      <td>2005</td>\n",
              "      <td>Action</td>\n",
              "      <td>Rising Star Games</td>\n",
              "      <td>0.01</td>\n",
              "      <td>0.00</td>\n",
              "      <td>0.00</td>\n",
              "      <td>0.00</td>\n",
              "      <td>0.01</td>\n",
              "    </tr>\n",
              "    <tr>\n",
              "      <th>16596</th>\n",
              "      <td>NBA 2K16</td>\n",
              "      <td>PS3</td>\n",
              "      <td>2015</td>\n",
              "      <td>Sports</td>\n",
              "      <td>Take-Two Interactive</td>\n",
              "      <td>0.44</td>\n",
              "      <td>0.19</td>\n",
              "      <td>0.03</td>\n",
              "      <td>0.13</td>\n",
              "      <td>0.79</td>\n",
              "    </tr>\n",
              "    <tr>\n",
              "      <th>16597</th>\n",
              "      <td>Toukiden: The Age of Demons</td>\n",
              "      <td>PSV</td>\n",
              "      <td>2013</td>\n",
              "      <td>Action</td>\n",
              "      <td>Tecmo Koei</td>\n",
              "      <td>0.05</td>\n",
              "      <td>0.05</td>\n",
              "      <td>0.25</td>\n",
              "      <td>0.03</td>\n",
              "      <td>0.38</td>\n",
              "    </tr>\n",
              "    <tr>\n",
              "      <th>16598</th>\n",
              "      <td>The King of Fighters '95</td>\n",
              "      <td>PS</td>\n",
              "      <td>1996</td>\n",
              "      <td>Fighting</td>\n",
              "      <td>Sony Computer Entertainment</td>\n",
              "      <td>0.00</td>\n",
              "      <td>0.00</td>\n",
              "      <td>0.16</td>\n",
              "      <td>0.01</td>\n",
              "      <td>0.17</td>\n",
              "    </tr>\n",
              "  </tbody>\n",
              "</table>\n",
              "<p>16241 rows × 10 columns</p>\n",
              "</div>"
            ],
            "text/plain": [
              "                                                 Name  ... Total_Sales\n",
              "1                        Candace Kane's Candy Factory  ...        0.04\n",
              "2                                      The Munchables  ...        0.18\n",
              "3      Otome wa Oanesama Boku ni Koi Shiteru Portable  ...        0.02\n",
              "4                    Deal or No Deal: Special Edition  ...        0.04\n",
              "5           Ben 10 Ultimate Alien: Cosmic Destruction  ...        0.25\n",
              "...                                               ...  ...         ...\n",
              "16594                         Ice Age 2: The Meltdown  ...        0.20\n",
              "16595                     Rainbow Islands: Revolution  ...        0.01\n",
              "16596                                        NBA 2K16  ...        0.79\n",
              "16597                     Toukiden: The Age of Demons  ...        0.38\n",
              "16598                        The King of Fighters '95  ...        0.17\n",
              "\n",
              "[16241 rows x 10 columns]"
            ]
          },
          "metadata": {},
          "execution_count": 27
        }
      ]
    },
    {
      "cell_type": "code",
      "metadata": {
        "colab": {
          "base_uri": "https://localhost:8080/",
          "height": 447
        },
        "id": "-BTGn44wk-_L",
        "outputId": "c0de1c36-52ec-406e-e18a-879ab890816e"
      },
      "source": [
        "cols = df2.columns\n",
        "Genre_Sales = pd.concat((df2[cols[3]], df2[cols[5:9]]), axis=1)\n",
        "Genre_sum = Genre_Sales.groupby(by='Genre', axis=0).sum()\n",
        "Genre_sum"
      ],
      "execution_count": 28,
      "outputs": [
        {
          "output_type": "execute_result",
          "data": {
            "text/html": [
              "<div>\n",
              "<style scoped>\n",
              "    .dataframe tbody tr th:only-of-type {\n",
              "        vertical-align: middle;\n",
              "    }\n",
              "\n",
              "    .dataframe tbody tr th {\n",
              "        vertical-align: top;\n",
              "    }\n",
              "\n",
              "    .dataframe thead th {\n",
              "        text-align: right;\n",
              "    }\n",
              "</style>\n",
              "<table border=\"1\" class=\"dataframe\">\n",
              "  <thead>\n",
              "    <tr style=\"text-align: right;\">\n",
              "      <th></th>\n",
              "      <th>NA_Sales</th>\n",
              "      <th>EU_Sales</th>\n",
              "      <th>JP_Sales</th>\n",
              "      <th>Other_Sales</th>\n",
              "    </tr>\n",
              "    <tr>\n",
              "      <th>Genre</th>\n",
              "      <th></th>\n",
              "      <th></th>\n",
              "      <th></th>\n",
              "      <th></th>\n",
              "    </tr>\n",
              "  </thead>\n",
              "  <tbody>\n",
              "    <tr>\n",
              "      <th>Action</th>\n",
              "      <td>858.75</td>\n",
              "      <td>513.64</td>\n",
              "      <td>156.60</td>\n",
              "      <td>183.99</td>\n",
              "    </tr>\n",
              "    <tr>\n",
              "      <th>Adventure</th>\n",
              "      <td>101.79</td>\n",
              "      <td>63.66</td>\n",
              "      <td>51.87</td>\n",
              "      <td>16.70</td>\n",
              "    </tr>\n",
              "    <tr>\n",
              "      <th>Fighting</th>\n",
              "      <td>220.35</td>\n",
              "      <td>99.90</td>\n",
              "      <td>87.14</td>\n",
              "      <td>36.15</td>\n",
              "    </tr>\n",
              "    <tr>\n",
              "      <th>Misc</th>\n",
              "      <td>394.73</td>\n",
              "      <td>208.15</td>\n",
              "      <td>104.18</td>\n",
              "      <td>72.64</td>\n",
              "    </tr>\n",
              "    <tr>\n",
              "      <th>Platform</th>\n",
              "      <td>445.38</td>\n",
              "      <td>200.63</td>\n",
              "      <td>130.53</td>\n",
              "      <td>51.45</td>\n",
              "    </tr>\n",
              "    <tr>\n",
              "      <th>Puzzle</th>\n",
              "      <td>121.58</td>\n",
              "      <td>50.47</td>\n",
              "      <td>56.24</td>\n",
              "      <td>12.44</td>\n",
              "    </tr>\n",
              "    <tr>\n",
              "      <th>Racing</th>\n",
              "      <td>354.70</td>\n",
              "      <td>235.02</td>\n",
              "      <td>56.32</td>\n",
              "      <td>76.51</td>\n",
              "    </tr>\n",
              "    <tr>\n",
              "      <th>Role-Playing</th>\n",
              "      <td>318.76</td>\n",
              "      <td>183.09</td>\n",
              "      <td>342.93</td>\n",
              "      <td>56.73</td>\n",
              "    </tr>\n",
              "    <tr>\n",
              "      <th>Shooter</th>\n",
              "      <td>574.48</td>\n",
              "      <td>310.23</td>\n",
              "      <td>38.18</td>\n",
              "      <td>101.86</td>\n",
              "    </tr>\n",
              "    <tr>\n",
              "      <th>Simulation</th>\n",
              "      <td>181.43</td>\n",
              "      <td>112.99</td>\n",
              "      <td>63.54</td>\n",
              "      <td>31.32</td>\n",
              "    </tr>\n",
              "    <tr>\n",
              "      <th>Sports</th>\n",
              "      <td>667.26</td>\n",
              "      <td>370.97</td>\n",
              "      <td>134.76</td>\n",
              "      <td>132.35</td>\n",
              "    </tr>\n",
              "    <tr>\n",
              "      <th>Strategy</th>\n",
              "      <td>67.83</td>\n",
              "      <td>44.82</td>\n",
              "      <td>49.10</td>\n",
              "      <td>11.23</td>\n",
              "    </tr>\n",
              "  </tbody>\n",
              "</table>\n",
              "</div>"
            ],
            "text/plain": [
              "              NA_Sales  EU_Sales  JP_Sales  Other_Sales\n",
              "Genre                                                  \n",
              "Action          858.75    513.64    156.60       183.99\n",
              "Adventure       101.79     63.66     51.87        16.70\n",
              "Fighting        220.35     99.90     87.14        36.15\n",
              "Misc            394.73    208.15    104.18        72.64\n",
              "Platform        445.38    200.63    130.53        51.45\n",
              "Puzzle          121.58     50.47     56.24        12.44\n",
              "Racing          354.70    235.02     56.32        76.51\n",
              "Role-Playing    318.76    183.09    342.93        56.73\n",
              "Shooter         574.48    310.23     38.18       101.86\n",
              "Simulation      181.43    112.99     63.54        31.32\n",
              "Sports          667.26    370.97    134.76       132.35\n",
              "Strategy         67.83     44.82     49.10        11.23"
            ]
          },
          "metadata": {},
          "execution_count": 28
        }
      ]
    },
    {
      "cell_type": "code",
      "metadata": {
        "id": "O4HiIUyxzw89",
        "colab": {
          "base_uri": "https://localhost:8080/",
          "height": 648
        },
        "outputId": "a7ac1098-4a63-4186-9b08-71bbe49a2953"
      },
      "source": [
        "plt.figure(figsize=(20,10))\n",
        "plt.plot(Genre_sum, 'o--')\n",
        "plt.xticks(rotation=50)\n",
        "plt.legend(Genre_sum.columns)\n",
        "plt.title('지역에 따라 선호하는 장르')\n",
        "plt.show()"
      ],
      "execution_count": 29,
      "outputs": [
        {
          "output_type": "display_data",
          "data": {
            "image/png": "[encoded data removed]",
            "text/plain": [
              "<Figure size 1440x720 with 1 Axes>"
            ]
          },
          "metadata": {
            "needs_background": "light"
          }
        }
      ]
    },
    {
      "cell_type": "markdown",
      "metadata": {
        "id": "GbFfhUROLnsc"
      },
      "source": [
        "# **지역에 따라 선호하는 게임 장르가 다른지 ANOVA Test**"
      ]
    },
    {
      "cell_type": "code",
      "metadata": {
        "colab": {
          "base_uri": "https://localhost:8080/",
          "height": 352
        },
        "id": "hmHIpJuSI9gj",
        "outputId": "2afbcd3e-0ad3-4840-d962-79a6b7ef6fd2"
      },
      "source": [
        "Anova = pd.get_dummies(df2,columns=['Genre'])\n",
        "Anova_df = df2.copy().drop('Genre',axis=1).merge(Anova)\n",
        "Anova_df.head()"
      ],
      "execution_count": 30,
      "outputs": [
        {
          "output_type": "execute_result",
          "data": {
            "text/html": [
              "<div>\n",
              "<style scoped>\n",
              "    .dataframe tbody tr th:only-of-type {\n",
              "        vertical-align: middle;\n",
              "    }\n",
              "\n",
              "    .dataframe tbody tr th {\n",
              "        vertical-align: top;\n",
              "    }\n",
              "\n",
              "    .dataframe thead th {\n",
              "        text-align: right;\n",
              "    }\n",
              "</style>\n",
              "<table border=\"1\" class=\"dataframe\">\n",
              "  <thead>\n",
              "    <tr style=\"text-align: right;\">\n",
              "      <th></th>\n",
              "      <th>Name</th>\n",
              "      <th>Platform</th>\n",
              "      <th>Year</th>\n",
              "      <th>Publisher</th>\n",
              "      <th>NA_Sales</th>\n",
              "      <th>EU_Sales</th>\n",
              "      <th>JP_Sales</th>\n",
              "      <th>Other_Sales</th>\n",
              "      <th>Total_Sales</th>\n",
              "      <th>Genre_Action</th>\n",
              "      <th>Genre_Adventure</th>\n",
              "      <th>Genre_Fighting</th>\n",
              "      <th>Genre_Misc</th>\n",
              "      <th>Genre_Platform</th>\n",
              "      <th>Genre_Puzzle</th>\n",
              "      <th>Genre_Racing</th>\n",
              "      <th>Genre_Role-Playing</th>\n",
              "      <th>Genre_Shooter</th>\n",
              "      <th>Genre_Simulation</th>\n",
              "      <th>Genre_Sports</th>\n",
              "      <th>Genre_Strategy</th>\n",
              "    </tr>\n",
              "  </thead>\n",
              "  <tbody>\n",
              "    <tr>\n",
              "      <th>0</th>\n",
              "      <td>Candace Kane's Candy Factory</td>\n",
              "      <td>DS</td>\n",
              "      <td>2008</td>\n",
              "      <td>Destineer</td>\n",
              "      <td>0.04</td>\n",
              "      <td>0.00</td>\n",
              "      <td>0.00</td>\n",
              "      <td>0.00</td>\n",
              "      <td>0.04</td>\n",
              "      <td>1</td>\n",
              "      <td>0</td>\n",
              "      <td>0</td>\n",
              "      <td>0</td>\n",
              "      <td>0</td>\n",
              "      <td>0</td>\n",
              "      <td>0</td>\n",
              "      <td>0</td>\n",
              "      <td>0</td>\n",
              "      <td>0</td>\n",
              "      <td>0</td>\n",
              "      <td>0</td>\n",
              "    </tr>\n",
              "    <tr>\n",
              "      <th>1</th>\n",
              "      <td>The Munchables</td>\n",
              "      <td>Wii</td>\n",
              "      <td>2009</td>\n",
              "      <td>Namco Bandai Games</td>\n",
              "      <td>0.17</td>\n",
              "      <td>0.00</td>\n",
              "      <td>0.00</td>\n",
              "      <td>0.01</td>\n",
              "      <td>0.18</td>\n",
              "      <td>1</td>\n",
              "      <td>0</td>\n",
              "      <td>0</td>\n",
              "      <td>0</td>\n",
              "      <td>0</td>\n",
              "      <td>0</td>\n",
              "      <td>0</td>\n",
              "      <td>0</td>\n",
              "      <td>0</td>\n",
              "      <td>0</td>\n",
              "      <td>0</td>\n",
              "      <td>0</td>\n",
              "    </tr>\n",
              "    <tr>\n",
              "      <th>2</th>\n",
              "      <td>Otome wa Oanesama Boku ni Koi Shiteru Portable</td>\n",
              "      <td>PSP</td>\n",
              "      <td>2010</td>\n",
              "      <td>Alchemist</td>\n",
              "      <td>0.00</td>\n",
              "      <td>0.00</td>\n",
              "      <td>0.02</td>\n",
              "      <td>0.00</td>\n",
              "      <td>0.02</td>\n",
              "      <td>0</td>\n",
              "      <td>1</td>\n",
              "      <td>0</td>\n",
              "      <td>0</td>\n",
              "      <td>0</td>\n",
              "      <td>0</td>\n",
              "      <td>0</td>\n",
              "      <td>0</td>\n",
              "      <td>0</td>\n",
              "      <td>0</td>\n",
              "      <td>0</td>\n",
              "      <td>0</td>\n",
              "    </tr>\n",
              "    <tr>\n",
              "      <th>3</th>\n",
              "      <td>Deal or No Deal: Special Edition</td>\n",
              "      <td>DS</td>\n",
              "      <td>2010</td>\n",
              "      <td>Zoo Games</td>\n",
              "      <td>0.04</td>\n",
              "      <td>0.00</td>\n",
              "      <td>0.00</td>\n",
              "      <td>0.00</td>\n",
              "      <td>0.04</td>\n",
              "      <td>0</td>\n",
              "      <td>0</td>\n",
              "      <td>0</td>\n",
              "      <td>1</td>\n",
              "      <td>0</td>\n",
              "      <td>0</td>\n",
              "      <td>0</td>\n",
              "      <td>0</td>\n",
              "      <td>0</td>\n",
              "      <td>0</td>\n",
              "      <td>0</td>\n",
              "      <td>0</td>\n",
              "    </tr>\n",
              "    <tr>\n",
              "      <th>4</th>\n",
              "      <td>Ben 10 Ultimate Alien: Cosmic Destruction</td>\n",
              "      <td>PS3</td>\n",
              "      <td>2010</td>\n",
              "      <td>D3Publisher</td>\n",
              "      <td>0.12</td>\n",
              "      <td>0.09</td>\n",
              "      <td>0.00</td>\n",
              "      <td>0.04</td>\n",
              "      <td>0.25</td>\n",
              "      <td>0</td>\n",
              "      <td>0</td>\n",
              "      <td>0</td>\n",
              "      <td>0</td>\n",
              "      <td>1</td>\n",
              "      <td>0</td>\n",
              "      <td>0</td>\n",
              "      <td>0</td>\n",
              "      <td>0</td>\n",
              "      <td>0</td>\n",
              "      <td>0</td>\n",
              "      <td>0</td>\n",
              "    </tr>\n",
              "  </tbody>\n",
              "</table>\n",
              "</div>"
            ],
            "text/plain": [
              "                                             Name  ... Genre_Strategy\n",
              "0                    Candace Kane's Candy Factory  ...              0\n",
              "1                                  The Munchables  ...              0\n",
              "2  Otome wa Oanesama Boku ni Koi Shiteru Portable  ...              0\n",
              "3                Deal or No Deal: Special Edition  ...              0\n",
              "4       Ben 10 Ultimate Alien: Cosmic Destruction  ...              0\n",
              "\n",
              "[5 rows x 21 columns]"
            ]
          },
          "metadata": {},
          "execution_count": 30
        }
      ]
    },
    {
      "cell_type": "markdown",
      "metadata": {
        "id": "AAts20gvQYg9"
      },
      "source": [
        "NA 장르별 ANOVA"
      ]
    },
    {
      "cell_type": "code",
      "metadata": {
        "colab": {
          "base_uri": "https://localhost:8080/"
        },
        "id": "xBREAHjhOVGs",
        "outputId": "417c13c1-f5b6-4a12-bd86-f1d748b91e10"
      },
      "source": [
        "for i in Anova_df.columns[9:]:\n",
        "  print(stats.f_oneway(Anova_df['NA_Sales'],Anova_df[i]))"
      ],
      "execution_count": 31,
      "outputs": [
        {
          "output_type": "stream",
          "name": "stdout",
          "text": [
            "F_onewayResult(statistic=83.84766222377884, pvalue=5.647941494163043e-20)\n",
            "F_onewayResult(statistic=759.8724207232699, pvalue=2.3034413459321766e-165)\n",
            "F_onewayResult(statistic=1023.5752692051371, pvalue=3.689926054703597e-221)\n",
            "F_onewayResult(statistic=552.0229207703103, pvalue=4.686277343423697e-121)\n",
            "F_onewayResult(statistic=998.409901753322, pvalue=7.445263742040084e-216)\n",
            "F_onewayResult(statistic=1213.6551098447342, pvalue=4.266821016064027e-261)\n",
            "F_onewayResult(statistic=787.2615678575052, pvalue=3.5136846018491617e-171)\n",
            "F_onewayResult(statistic=655.7108718058263, pvalue=3.385721930018278e-143)\n",
            "F_onewayResult(statistic=753.256327196059, pvalue=5.863966684233245e-164)\n",
            "F_onewayResult(statistic=1016.2488516128521, pvalue=1.291227359479216e-219)\n",
            "F_onewayResult(statistic=311.15309591077016, pvalue=2.580374141433668e-69)\n",
            "F_onewayResult(statistic=1138.350178599457, pvalue=2.6569987572701106e-245)\n"
          ]
        }
      ]
    },
    {
      "cell_type": "markdown",
      "metadata": {
        "id": "oBPB1MEtTscl"
      },
      "source": [
        "EU 장르별 ANOVA"
      ]
    },
    {
      "cell_type": "code",
      "metadata": {
        "colab": {
          "base_uri": "https://localhost:8080/"
        },
        "id": "yvtqFK7UP86U",
        "outputId": "c37cb4c6-e369-4b76-bcca-b2d351042b8c"
      },
      "source": [
        "for i in Anova_df.columns[9:]:\n",
        "  print(stats.f_oneway( Anova_df['EU_Sales'],Anova_df[i]))"
      ],
      "execution_count": 32,
      "outputs": [
        {
          "output_type": "stream",
          "name": "stdout",
          "text": [
            "F_onewayResult(statistic=105.50490676855425, pvalue=1.0327886313704259e-24)\n",
            "F_onewayResult(statistic=236.1035667545891, pvalue=4.27902550452932e-53)\n",
            "F_onewayResult(statistic=486.9047896159822, pvalue=4.122772159122541e-107)\n",
            "F_onewayResult(statistic=89.01865571466347, pvalue=4.162244603537815e-21)\n",
            "F_onewayResult(statistic=460.3138575399851, pvalue=2.0812292116688357e-101)\n",
            "F_onewayResult(statistic=704.1784520949559, pvalue=1.605951897504436e-153)\n",
            "F_onewayResult(statistic=259.11178632257224, pvalue=4.4987652694136366e-58)\n",
            "F_onewayResult(statistic=155.92766150591945, pvalue=1.0605404436564757e-35)\n",
            "F_onewayResult(statistic=230.6611410875443, pvalue=6.452185254927106e-52)\n",
            "F_onewayResult(statistic=479.10904146702734, pvalue=1.9348562202673495e-105)\n",
            "F_onewayResult(statistic=1.4493914283626255, pvalue=0.22863440172023414)\n",
            "F_onewayResult(statistic=614.7071556666831, pvalue=1.889791582509396e-134)\n"
          ]
        }
      ]
    },
    {
      "cell_type": "markdown",
      "metadata": {
        "id": "BjVsZ5W4Twm1"
      },
      "source": [
        "JP 장르별 ANOVA"
      ]
    },
    {
      "cell_type": "code",
      "metadata": {
        "colab": {
          "base_uri": "https://localhost:8080/"
        },
        "id": "zp6Psx2TQdpq",
        "outputId": "6977e90d-bf26-4820-890b-b126c1119e61"
      },
      "source": [
        "for i in Anova_df.columns[9:]:\n",
        "  print(stats.f_oneway( Anova_df['JP_Sales'],Anova_df[i]))"
      ],
      "execution_count": 33,
      "outputs": [
        {
          "output_type": "stream",
          "name": "stdout",
          "text": [
            "F_onewayResult(statistic=934.4603381346601, pvalue=2.349821940085524e-202)\n",
            "F_onewayResult(statistic=0.004221138120379373, pvalue=0.9481980580924716)\n",
            "F_onewayResult(statistic=81.19019936330346, pvalue=2.1592574348442616e-19)\n",
            "F_onewayResult(statistic=54.820479294445924, pvalue=1.3525742670515758e-13)\n",
            "F_onewayResult(statistic=66.69905906520755, pvalue=3.2762227580373204e-16)\n",
            "F_onewayResult(statistic=236.96910064816973, pvalue=2.779541476238874e-53)\n",
            "F_onewayResult(statistic=1.0237593192880299, pvalue=0.31163648199515726)\n",
            "F_onewayResult(statistic=12.986835346770325, pvalue=0.0003141574010990022)\n",
            "F_onewayResult(statistic=0.027128478903340962, pvalue=0.8691754335308833)\n",
            "F_onewayResult(statistic=76.82567505013276, pvalue=1.956285781143877e-18)\n",
            "F_onewayResult(statistic=299.3890615578202, pvalue=8.926099921234098e-67)\n",
            "F_onewayResult(statistic=165.32433973906984, pvalue=9.60760094178929e-38)\n"
          ]
        }
      ]
    },
    {
      "cell_type": "markdown",
      "metadata": {
        "id": "i0bMZauTTyFd"
      },
      "source": [
        "Other 장르별 ANOVA"
      ]
    },
    {
      "cell_type": "code",
      "metadata": {
        "colab": {
          "base_uri": "https://localhost:8080/"
        },
        "id": "McGYtm36Qnt0",
        "outputId": "91cfa93b-7871-41ad-93e3-e84244ec76c2"
      },
      "source": [
        "for i in Anova_df.columns[9:]:\n",
        "  print(stats.f_oneway( Anova_df['Other_Sales'],Anova_df[i]))"
      ],
      "execution_count": 34,
      "outputs": [
        {
          "output_type": "stream",
          "name": "stdout",
          "text": [
            "F_onewayResult(statistic=1898.9370318902247, pvalue=0.0)\n",
            "F_onewayResult(statistic=133.94989996683887, pvalue=6.443741853406294e-31)\n",
            "F_onewayResult(statistic=1.93664070504875, pvalue=0.1640432759351681)\n",
            "F_onewayResult(statistic=385.2599645860792, pvalue=2.783726956973064e-85)\n",
            "F_onewayResult(statistic=5.695769881512349, pvalue=0.01701153999865713)\n",
            "F_onewayResult(statistic=41.7908672282302, pvalue=1.0301581704796813e-10)\n",
            "F_onewayResult(statistic=110.85615828937232, pvalue=7.00392578584929e-26)\n",
            "F_onewayResult(statistic=242.33664597117112, pvalue=1.915023809849025e-54)\n",
            "F_onewayResult(statistic=139.8584785094711, pvalue=3.328819654810112e-32)\n",
            "F_onewayResult(statistic=2.8294956314852246, pvalue=0.09255703323347106)\n",
            "F_onewayResult(statistic=898.0195329972353, pvalue=1.1894352529753112e-194)\n",
            "F_onewayResult(statistic=10.671017865908114, pvalue=0.0010894004689567262)\n"
          ]
        }
      ]
    },
    {
      "cell_type": "markdown",
      "metadata": {
        "id": "gx3e-s7XT1H1"
      },
      "source": [
        "Total 장르별 ANOVA"
      ]
    },
    {
      "cell_type": "code",
      "metadata": {
        "colab": {
          "base_uri": "https://localhost:8080/"
        },
        "id": "jYVZngUuQoaF",
        "outputId": "786afe6d-3205-4ee9-96dc-5bb691d97ef4"
      },
      "source": [
        "for i in Anova_df.columns[9:]:\n",
        "  print(stats.f_oneway( Anova_df['Total_Sales'],Anova_df[i]))"
      ],
      "execution_count": 35,
      "outputs": [
        {
          "output_type": "stream",
          "name": "stdout",
          "text": [
            "F_onewayResult(statistic=718.8606047607241, pvalue=1.206467569291026e-156)\n",
            "F_onewayResult(statistic=1370.9697956629147, pvalue=5.640866705947102e-294)\n",
            "F_onewayResult(statistic=1548.397059520919, pvalue=0.0)\n",
            "F_onewayResult(statistic=1213.8624675577742, pvalue=3.8606781245444485e-261)\n",
            "F_onewayResult(statistic=1532.2889096255449, pvalue=0.0)\n",
            "F_onewayResult(statistic=1665.464504721674, pvalue=0.0)\n",
            "F_onewayResult(statistic=1390.3837878979746, pvalue=5.06549973035172e-298)\n",
            "F_onewayResult(statistic=1294.5881032204331, pvalue=4.961369846178897e-278)\n",
            "F_onewayResult(statistic=1366.24075617141, pvalue=5.463134712201924e-293)\n",
            "F_onewayResult(statistic=1543.7233682124818, pvalue=0.0)\n",
            "F_onewayResult(statistic=999.731917799965, pvalue=3.918289005384853e-216)\n",
            "F_onewayResult(statistic=1620.0050968187936, pvalue=0.0)\n"
          ]
        }
      ]
    },
    {
      "cell_type": "markdown",
      "metadata": {
        "id": "kp5ziX8aT8r1"
      },
      "source": [
        "# **2. 연도별 게임의 트렌드가 있을까?**"
      ]
    },
    {
      "cell_type": "markdown",
      "metadata": {
        "id": "OnCCrknEXTEm"
      },
      "source": [
        "연도별 가장 많이 출시한 장르"
      ]
    },
    {
      "cell_type": "code",
      "metadata": {
        "colab": {
          "base_uri": "https://localhost:8080/",
          "height": 1000
        },
        "id": "47GP2AQmvtGe",
        "outputId": "0ccd44ba-bf00-471b-beab-f6930e19b3ff"
      },
      "source": [
        "year_max_df = df2.groupby(['Year', 'Genre']).size().reset_index(name='count')\n",
        "year_max_idx = year_max_df.groupby(['Year'])['count'].transform(max) == year_max_df['count']\n",
        "year_max_genre = year_max_df[year_max_idx].reset_index(drop=True)\n",
        "year_max_genre = year_max_genre.drop_duplicates(subset=['Year','count'], keep='last').reset_index(drop=True)\n",
        "year_max_genre[:5]\n",
        "year_max_genre.columns = ['년도', '장르', '출시량']\n",
        "year_max_genre"
      ],
      "execution_count": 36,
      "outputs": [
        {
          "output_type": "execute_result",
          "data": {
            "text/html": [
              "<div>\n",
              "<style scoped>\n",
              "    .dataframe tbody tr th:only-of-type {\n",
              "        vertical-align: middle;\n",
              "    }\n",
              "\n",
              "    .dataframe tbody tr th {\n",
              "        vertical-align: top;\n",
              "    }\n",
              "\n",
              "    .dataframe thead th {\n",
              "        text-align: right;\n",
              "    }\n",
              "</style>\n",
              "<table border=\"1\" class=\"dataframe\">\n",
              "  <thead>\n",
              "    <tr style=\"text-align: right;\">\n",
              "      <th></th>\n",
              "      <th>년도</th>\n",
              "      <th>장르</th>\n",
              "      <th>출시량</th>\n",
              "    </tr>\n",
              "  </thead>\n",
              "  <tbody>\n",
              "    <tr>\n",
              "      <th>0</th>\n",
              "      <td>1980</td>\n",
              "      <td>Misc</td>\n",
              "      <td>4</td>\n",
              "    </tr>\n",
              "    <tr>\n",
              "      <th>1</th>\n",
              "      <td>1981</td>\n",
              "      <td>Action</td>\n",
              "      <td>25</td>\n",
              "    </tr>\n",
              "    <tr>\n",
              "      <th>2</th>\n",
              "      <td>1982</td>\n",
              "      <td>Action</td>\n",
              "      <td>18</td>\n",
              "    </tr>\n",
              "    <tr>\n",
              "      <th>3</th>\n",
              "      <td>1983</td>\n",
              "      <td>Action</td>\n",
              "      <td>7</td>\n",
              "    </tr>\n",
              "    <tr>\n",
              "      <th>4</th>\n",
              "      <td>1984</td>\n",
              "      <td>Shooter</td>\n",
              "      <td>3</td>\n",
              "    </tr>\n",
              "    <tr>\n",
              "      <th>5</th>\n",
              "      <td>1985</td>\n",
              "      <td>Puzzle</td>\n",
              "      <td>4</td>\n",
              "    </tr>\n",
              "    <tr>\n",
              "      <th>6</th>\n",
              "      <td>1986</td>\n",
              "      <td>Platform</td>\n",
              "      <td>6</td>\n",
              "    </tr>\n",
              "    <tr>\n",
              "      <th>7</th>\n",
              "      <td>1987</td>\n",
              "      <td>Sports</td>\n",
              "      <td>4</td>\n",
              "    </tr>\n",
              "    <tr>\n",
              "      <th>8</th>\n",
              "      <td>1988</td>\n",
              "      <td>Platform</td>\n",
              "      <td>4</td>\n",
              "    </tr>\n",
              "    <tr>\n",
              "      <th>9</th>\n",
              "      <td>1989</td>\n",
              "      <td>Puzzle</td>\n",
              "      <td>5</td>\n",
              "    </tr>\n",
              "    <tr>\n",
              "      <th>10</th>\n",
              "      <td>1990</td>\n",
              "      <td>Sports</td>\n",
              "      <td>3</td>\n",
              "    </tr>\n",
              "    <tr>\n",
              "      <th>11</th>\n",
              "      <td>1991</td>\n",
              "      <td>Sports</td>\n",
              "      <td>7</td>\n",
              "    </tr>\n",
              "    <tr>\n",
              "      <th>12</th>\n",
              "      <td>1992</td>\n",
              "      <td>Fighting</td>\n",
              "      <td>7</td>\n",
              "    </tr>\n",
              "    <tr>\n",
              "      <th>13</th>\n",
              "      <td>1993</td>\n",
              "      <td>Platform</td>\n",
              "      <td>11</td>\n",
              "    </tr>\n",
              "    <tr>\n",
              "      <th>14</th>\n",
              "      <td>1994</td>\n",
              "      <td>Sports</td>\n",
              "      <td>22</td>\n",
              "    </tr>\n",
              "    <tr>\n",
              "      <th>15</th>\n",
              "      <td>1995</td>\n",
              "      <td>Sports</td>\n",
              "      <td>29</td>\n",
              "    </tr>\n",
              "    <tr>\n",
              "      <th>16</th>\n",
              "      <td>1996</td>\n",
              "      <td>Sports</td>\n",
              "      <td>52</td>\n",
              "    </tr>\n",
              "    <tr>\n",
              "      <th>17</th>\n",
              "      <td>1997</td>\n",
              "      <td>Sports</td>\n",
              "      <td>46</td>\n",
              "    </tr>\n",
              "    <tr>\n",
              "      <th>18</th>\n",
              "      <td>1998</td>\n",
              "      <td>Sports</td>\n",
              "      <td>70</td>\n",
              "    </tr>\n",
              "    <tr>\n",
              "      <th>19</th>\n",
              "      <td>1999</td>\n",
              "      <td>Sports</td>\n",
              "      <td>62</td>\n",
              "    </tr>\n",
              "    <tr>\n",
              "      <th>20</th>\n",
              "      <td>2000</td>\n",
              "      <td>Sports</td>\n",
              "      <td>81</td>\n",
              "    </tr>\n",
              "    <tr>\n",
              "      <th>21</th>\n",
              "      <td>2001</td>\n",
              "      <td>Sports</td>\n",
              "      <td>96</td>\n",
              "    </tr>\n",
              "    <tr>\n",
              "      <th>22</th>\n",
              "      <td>2002</td>\n",
              "      <td>Sports</td>\n",
              "      <td>188</td>\n",
              "    </tr>\n",
              "    <tr>\n",
              "      <th>23</th>\n",
              "      <td>2003</td>\n",
              "      <td>Action</td>\n",
              "      <td>144</td>\n",
              "    </tr>\n",
              "    <tr>\n",
              "      <th>24</th>\n",
              "      <td>2004</td>\n",
              "      <td>Action</td>\n",
              "      <td>125</td>\n",
              "    </tr>\n",
              "    <tr>\n",
              "      <th>25</th>\n",
              "      <td>2005</td>\n",
              "      <td>Action</td>\n",
              "      <td>192</td>\n",
              "    </tr>\n",
              "    <tr>\n",
              "      <th>26</th>\n",
              "      <td>2006</td>\n",
              "      <td>Action</td>\n",
              "      <td>184</td>\n",
              "    </tr>\n",
              "    <tr>\n",
              "      <th>27</th>\n",
              "      <td>2007</td>\n",
              "      <td>Action</td>\n",
              "      <td>210</td>\n",
              "    </tr>\n",
              "    <tr>\n",
              "      <th>28</th>\n",
              "      <td>2008</td>\n",
              "      <td>Action</td>\n",
              "      <td>219</td>\n",
              "    </tr>\n",
              "    <tr>\n",
              "      <th>29</th>\n",
              "      <td>2009</td>\n",
              "      <td>Action</td>\n",
              "      <td>271</td>\n",
              "    </tr>\n",
              "    <tr>\n",
              "      <th>30</th>\n",
              "      <td>2010</td>\n",
              "      <td>Action</td>\n",
              "      <td>226</td>\n",
              "    </tr>\n",
              "    <tr>\n",
              "      <th>31</th>\n",
              "      <td>2011</td>\n",
              "      <td>Action</td>\n",
              "      <td>239</td>\n",
              "    </tr>\n",
              "    <tr>\n",
              "      <th>32</th>\n",
              "      <td>2012</td>\n",
              "      <td>Action</td>\n",
              "      <td>263</td>\n",
              "    </tr>\n",
              "    <tr>\n",
              "      <th>33</th>\n",
              "      <td>2013</td>\n",
              "      <td>Action</td>\n",
              "      <td>148</td>\n",
              "    </tr>\n",
              "    <tr>\n",
              "      <th>34</th>\n",
              "      <td>2014</td>\n",
              "      <td>Action</td>\n",
              "      <td>186</td>\n",
              "    </tr>\n",
              "    <tr>\n",
              "      <th>35</th>\n",
              "      <td>2015</td>\n",
              "      <td>Action</td>\n",
              "      <td>253</td>\n",
              "    </tr>\n",
              "    <tr>\n",
              "      <th>36</th>\n",
              "      <td>2016</td>\n",
              "      <td>Action</td>\n",
              "      <td>118</td>\n",
              "    </tr>\n",
              "    <tr>\n",
              "      <th>37</th>\n",
              "      <td>2017</td>\n",
              "      <td>Role-Playing</td>\n",
              "      <td>2</td>\n",
              "    </tr>\n",
              "    <tr>\n",
              "      <th>38</th>\n",
              "      <td>2020</td>\n",
              "      <td>Simulation</td>\n",
              "      <td>1</td>\n",
              "    </tr>\n",
              "  </tbody>\n",
              "</table>\n",
              "</div>"
            ],
            "text/plain": [
              "      년도            장르  출시량\n",
              "0   1980          Misc    4\n",
              "1   1981        Action   25\n",
              "2   1982        Action   18\n",
              "3   1983        Action    7\n",
              "4   1984       Shooter    3\n",
              "5   1985        Puzzle    4\n",
              "6   1986      Platform    6\n",
              "7   1987        Sports    4\n",
              "8   1988      Platform    4\n",
              "9   1989        Puzzle    5\n",
              "10  1990        Sports    3\n",
              "11  1991        Sports    7\n",
              "12  1992      Fighting    7\n",
              "13  1993      Platform   11\n",
              "14  1994        Sports   22\n",
              "15  1995        Sports   29\n",
              "16  1996        Sports   52\n",
              "17  1997        Sports   46\n",
              "18  1998        Sports   70\n",
              "19  1999        Sports   62\n",
              "20  2000        Sports   81\n",
              "21  2001        Sports   96\n",
              "22  2002        Sports  188\n",
              "23  2003        Action  144\n",
              "24  2004        Action  125\n",
              "25  2005        Action  192\n",
              "26  2006        Action  184\n",
              "27  2007        Action  210\n",
              "28  2008        Action  219\n",
              "29  2009        Action  271\n",
              "30  2010        Action  226\n",
              "31  2011        Action  239\n",
              "32  2012        Action  263\n",
              "33  2013        Action  148\n",
              "34  2014        Action  186\n",
              "35  2015        Action  253\n",
              "36  2016        Action  118\n",
              "37  2017  Role-Playing    2\n",
              "38  2020    Simulation    1"
            ]
          },
          "metadata": {},
          "execution_count": 36
        }
      ]
    },
    {
      "cell_type": "code",
      "metadata": {
        "colab": {
          "base_uri": "https://localhost:8080/"
        },
        "id": "BVXM_Is1XAgG",
        "outputId": "c1da799e-8d69-40f5-ebbf-03c276c0baec"
      },
      "source": [
        "genre = year_max_genre['장르'].values\n",
        "genre"
      ],
      "execution_count": 37,
      "outputs": [
        {
          "output_type": "execute_result",
          "data": {
            "text/plain": [
              "array(['Misc', 'Action', 'Action', 'Action', 'Shooter', 'Puzzle',\n",
              "       'Platform', 'Sports', 'Platform', 'Puzzle', 'Sports', 'Sports',\n",
              "       'Fighting', 'Platform', 'Sports', 'Sports', 'Sports', 'Sports',\n",
              "       'Sports', 'Sports', 'Sports', 'Sports', 'Sports', 'Action',\n",
              "       'Action', 'Action', 'Action', 'Action', 'Action', 'Action',\n",
              "       'Action', 'Action', 'Action', 'Action', 'Action', 'Action',\n",
              "       'Action', 'Role-Playing', 'Simulation'], dtype=object)"
            ]
          },
          "metadata": {},
          "execution_count": 37
        }
      ]
    },
    {
      "cell_type": "code",
      "metadata": {
        "colab": {
          "base_uri": "https://localhost:8080/"
        },
        "id": "ejy6nck4Xq4t",
        "outputId": "0a8fdc3e-577a-4d0c-84f5-09203ede2345"
      },
      "source": [
        "year_max_sales = df2.groupby(['Year', 'Genre'])['Total_Sales'].sum().reset_index()\n",
        "condition = year_max_sales['Total_Sales'] == year_max_sales.groupby(['Year'])['Total_Sales'].transform(max)\n",
        "year_max_sales = year_max_sales[condition]\n",
        "year_max_sales['Genre']"
      ],
      "execution_count": 38,
      "outputs": [
        {
          "output_type": "execute_result",
          "data": {
            "text/plain": [
              "3           Shooter\n",
              "4            Action\n",
              "14           Puzzle\n",
              "21         Platform\n",
              "30          Shooter\n",
              "34         Platform\n",
              "39           Action\n",
              "47         Fighting\n",
              "53         Platform\n",
              "63           Puzzle\n",
              "68         Platform\n",
              "78         Platform\n",
              "88         Fighting\n",
              "102        Platform\n",
              "114        Platform\n",
              "126        Platform\n",
              "141    Role-Playing\n",
              "152          Racing\n",
              "168          Sports\n",
              "177    Role-Playing\n",
              "192          Sports\n",
              "194          Action\n",
              "206          Action\n",
              "218          Action\n",
              "230          Action\n",
              "242          Action\n",
              "264          Sports\n",
              "266          Action\n",
              "278          Action\n",
              "300          Sports\n",
              "302          Action\n",
              "314          Action\n",
              "326          Action\n",
              "338          Action\n",
              "350          Action\n",
              "362          Action\n",
              "374          Action\n",
              "386    Role-Playing\n",
              "387      Simulation\n",
              "Name: Genre, dtype: object"
            ]
          },
          "metadata": {},
          "execution_count": 38
        }
      ]
    },
    {
      "cell_type": "code",
      "metadata": {
        "colab": {
          "base_uri": "https://localhost:8080/",
          "height": 697
        },
        "id": "HjdNpHaTX2Pd",
        "outputId": "6711cbba-e8d2-4470-a89d-d92da18f4635"
      },
      "source": [
        "sns.set_context('notebook')\n",
        "sns.set_style('whitegrid')\n",
        "plt.rcParams['font.family'] = 'NanumGothic'\n",
        "\n",
        "plt.figure(figsize=(28,10))\n",
        "ax = sns.barplot(x='년도', y='출시량', data=year_max_genre)\n",
        "idx = 0\n",
        "for value in year_max_genre['출시량']:\n",
        "    ax.text(x=idx, y=value + 5, s=str(genre[idx] + '---' + ' ' + str(value)),\n",
        "            color='black', size=14, rotation=90, ha='center')\n",
        "    idx += 1\n",
        "plt.xticks(rotation=90, fontsize=12)\n",
        "plt.yticks(fontsize=12)\n",
        "plt.xlabel('년도', fontsize=14)\n",
        "plt.ylabel('출시량', fontsize=14)\n",
        "ax.set_title('연도별 최고 출시량을 기록한 장르', fontsize=28, y=1.05)\n",
        "plt.show()"
      ],
      "execution_count": 39,
      "outputs": [
        {
          "output_type": "display_data",
          "data": {
            "image/png": "[encoded data removed]",
            "text/plain": [
              "<Figure size 2016x720 with 1 Axes>"
            ]
          },
          "metadata": {}
        }
      ]
    },
    {
      "cell_type": "code",
      "metadata": {
        "colab": {
          "base_uri": "https://localhost:8080/",
          "height": 717
        },
        "id": "pcCkeOqkYeS3",
        "outputId": "4fea7b9d-eac3-4f44-c98b-2de6ba51c36e"
      },
      "source": [
        "year_max_sales = df2.groupby(['Year', 'Genre'])['Total_Sales'].sum().reset_index()\n",
        "condition = year_max_sales['Total_Sales'] == year_max_sales.groupby(['Year'])['Total_Sales'].transform(max)\n",
        "year_max_sales = year_max_sales[condition]\n",
        "year_max_sales.columns = ['년도', '장르', '전세계 판매량']\n",
        "\n",
        "genre = year_max_sales['장르'].values\n",
        "\n",
        "plt.figure(figsize=(28,10))\n",
        "ax = sns.barplot(x='년도', y='전세계 판매량', data=year_max_sales)\n",
        "idx = 0\n",
        "for value in year_max_sales['전세계 판매량']:\n",
        "    ax.text(x=idx, y=value + 2, s=str(genre[idx] + '---' + ' ' + str(round(value, 2))),\n",
        "            color='black', size=14, rotation=90, ha='center')\n",
        "    idx += 1\n",
        "ax.set_title('년도별 최고 판매량을 기록한 장르', y=1.06, fontsize=28)\n",
        "plt.xticks(rotation=90, fontsize=12)\n",
        "plt.yticks(fontsize=12)\n",
        "plt.xlabel('년도', fontsize=16)\n",
        "plt.ylabel('전세계 판매량', fontsize=16)\n",
        "plt.show()"
      ],
      "execution_count": 40,
      "outputs": [
        {
          "output_type": "display_data",
          "data": {
            "image/png": "[encoded data removed]",
            "text/plain": [
              "<Figure size 2016x720 with 1 Axes>"
            ]
          },
          "metadata": {}
        }
      ]
    },
    {
      "cell_type": "markdown",
      "metadata": {
        "id": "7bUf_Mgpwhj1"
      },
      "source": [
        "# **3. 출고량이 높은 게임에 대한 분석 및 시각화 프로세스**"
      ]
    },
    {
      "cell_type": "markdown",
      "metadata": {
        "id": "YI30TZC_w82i"
      },
      "source": [
        "**역대 판매량 TOP10 게임**"
      ]
    },
    {
      "cell_type": "code",
      "metadata": {
        "colab": {
          "base_uri": "https://localhost:8080/",
          "height": 355
        },
        "id": "vyHx45MQw9j1",
        "outputId": "066f371f-7da2-43ab-9403-eadda3d219d4"
      },
      "source": [
        "Sales_top10 = df2.loc[df2.Total_Sales.sort_values(ascending = False).index].reset_index(drop = True).head(10)\n",
        "rank = [str(x) + '위' for x in range(1, 11)]\n",
        "Sales_top10['rank'] = rank\n",
        "Sales_top10"
      ],
      "execution_count": 41,
      "outputs": [
        {
          "output_type": "execute_result",
          "data": {
            "text/html": [
              "<div>\n",
              "<style scoped>\n",
              "    .dataframe tbody tr th:only-of-type {\n",
              "        vertical-align: middle;\n",
              "    }\n",
              "\n",
              "    .dataframe tbody tr th {\n",
              "        vertical-align: top;\n",
              "    }\n",
              "\n",
              "    .dataframe thead th {\n",
              "        text-align: right;\n",
              "    }\n",
              "</style>\n",
              "<table border=\"1\" class=\"dataframe\">\n",
              "  <thead>\n",
              "    <tr style=\"text-align: right;\">\n",
              "      <th></th>\n",
              "      <th>Name</th>\n",
              "      <th>Platform</th>\n",
              "      <th>Year</th>\n",
              "      <th>Genre</th>\n",
              "      <th>Publisher</th>\n",
              "      <th>NA_Sales</th>\n",
              "      <th>EU_Sales</th>\n",
              "      <th>JP_Sales</th>\n",
              "      <th>Other_Sales</th>\n",
              "      <th>Total_Sales</th>\n",
              "      <th>rank</th>\n",
              "    </tr>\n",
              "  </thead>\n",
              "  <tbody>\n",
              "    <tr>\n",
              "      <th>0</th>\n",
              "      <td>Wii Sports</td>\n",
              "      <td>Wii</td>\n",
              "      <td>2006</td>\n",
              "      <td>Sports</td>\n",
              "      <td>Nintendo</td>\n",
              "      <td>41.49</td>\n",
              "      <td>29.02</td>\n",
              "      <td>3.77</td>\n",
              "      <td>8.46</td>\n",
              "      <td>82.74</td>\n",
              "      <td>1위</td>\n",
              "    </tr>\n",
              "    <tr>\n",
              "      <th>1</th>\n",
              "      <td>Super Mario Bros.</td>\n",
              "      <td>NES</td>\n",
              "      <td>1985</td>\n",
              "      <td>Platform</td>\n",
              "      <td>Nintendo</td>\n",
              "      <td>29.08</td>\n",
              "      <td>3.58</td>\n",
              "      <td>6.81</td>\n",
              "      <td>0.77</td>\n",
              "      <td>40.24</td>\n",
              "      <td>2위</td>\n",
              "    </tr>\n",
              "    <tr>\n",
              "      <th>2</th>\n",
              "      <td>Mario Kart Wii</td>\n",
              "      <td>Wii</td>\n",
              "      <td>2008</td>\n",
              "      <td>Racing</td>\n",
              "      <td>Nintendo</td>\n",
              "      <td>15.85</td>\n",
              "      <td>12.88</td>\n",
              "      <td>3.79</td>\n",
              "      <td>3.31</td>\n",
              "      <td>35.83</td>\n",
              "      <td>3위</td>\n",
              "    </tr>\n",
              "    <tr>\n",
              "      <th>3</th>\n",
              "      <td>Wii Sports Resort</td>\n",
              "      <td>Wii</td>\n",
              "      <td>2009</td>\n",
              "      <td>Sports</td>\n",
              "      <td>Nintendo</td>\n",
              "      <td>15.75</td>\n",
              "      <td>11.01</td>\n",
              "      <td>3.28</td>\n",
              "      <td>2.96</td>\n",
              "      <td>33.00</td>\n",
              "      <td>4위</td>\n",
              "    </tr>\n",
              "    <tr>\n",
              "      <th>4</th>\n",
              "      <td>Pokemon Red/Pokemon Blue</td>\n",
              "      <td>GB</td>\n",
              "      <td>1996</td>\n",
              "      <td>Role-Playing</td>\n",
              "      <td>Nintendo</td>\n",
              "      <td>11.27</td>\n",
              "      <td>8.89</td>\n",
              "      <td>10.22</td>\n",
              "      <td>1.00</td>\n",
              "      <td>31.38</td>\n",
              "      <td>5위</td>\n",
              "    </tr>\n",
              "    <tr>\n",
              "      <th>5</th>\n",
              "      <td>Tetris</td>\n",
              "      <td>GB</td>\n",
              "      <td>1989</td>\n",
              "      <td>Puzzle</td>\n",
              "      <td>Nintendo</td>\n",
              "      <td>23.20</td>\n",
              "      <td>2.26</td>\n",
              "      <td>4.22</td>\n",
              "      <td>0.58</td>\n",
              "      <td>30.26</td>\n",
              "      <td>6위</td>\n",
              "    </tr>\n",
              "    <tr>\n",
              "      <th>6</th>\n",
              "      <td>New Super Mario Bros.</td>\n",
              "      <td>DS</td>\n",
              "      <td>2006</td>\n",
              "      <td>Platform</td>\n",
              "      <td>Nintendo</td>\n",
              "      <td>11.38</td>\n",
              "      <td>9.23</td>\n",
              "      <td>6.50</td>\n",
              "      <td>2.90</td>\n",
              "      <td>30.01</td>\n",
              "      <td>7위</td>\n",
              "    </tr>\n",
              "    <tr>\n",
              "      <th>7</th>\n",
              "      <td>Wii Play</td>\n",
              "      <td>Wii</td>\n",
              "      <td>2006</td>\n",
              "      <td>Misc</td>\n",
              "      <td>Nintendo</td>\n",
              "      <td>14.03</td>\n",
              "      <td>9.20</td>\n",
              "      <td>2.93</td>\n",
              "      <td>2.85</td>\n",
              "      <td>29.01</td>\n",
              "      <td>8위</td>\n",
              "    </tr>\n",
              "    <tr>\n",
              "      <th>8</th>\n",
              "      <td>New Super Mario Bros. Wii</td>\n",
              "      <td>Wii</td>\n",
              "      <td>2009</td>\n",
              "      <td>Platform</td>\n",
              "      <td>Nintendo</td>\n",
              "      <td>14.59</td>\n",
              "      <td>7.06</td>\n",
              "      <td>4.70</td>\n",
              "      <td>2.26</td>\n",
              "      <td>28.61</td>\n",
              "      <td>9위</td>\n",
              "    </tr>\n",
              "    <tr>\n",
              "      <th>9</th>\n",
              "      <td>Duck Hunt</td>\n",
              "      <td>NES</td>\n",
              "      <td>1984</td>\n",
              "      <td>Shooter</td>\n",
              "      <td>Nintendo</td>\n",
              "      <td>26.93</td>\n",
              "      <td>0.63</td>\n",
              "      <td>0.28</td>\n",
              "      <td>0.47</td>\n",
              "      <td>28.31</td>\n",
              "      <td>10위</td>\n",
              "    </tr>\n",
              "  </tbody>\n",
              "</table>\n",
              "</div>"
            ],
            "text/plain": [
              "                        Name Platform  Year  ... Other_Sales Total_Sales  rank\n",
              "0                 Wii Sports      Wii  2006  ...        8.46       82.74    1위\n",
              "1          Super Mario Bros.      NES  1985  ...        0.77       40.24    2위\n",
              "2             Mario Kart Wii      Wii  2008  ...        3.31       35.83    3위\n",
              "3          Wii Sports Resort      Wii  2009  ...        2.96       33.00    4위\n",
              "4   Pokemon Red/Pokemon Blue       GB  1996  ...        1.00       31.38    5위\n",
              "5                     Tetris       GB  1989  ...        0.58       30.26    6위\n",
              "6      New Super Mario Bros.       DS  2006  ...        2.90       30.01    7위\n",
              "7                   Wii Play      Wii  2006  ...        2.85       29.01    8위\n",
              "8  New Super Mario Bros. Wii      Wii  2009  ...        2.26       28.61    9위\n",
              "9                  Duck Hunt      NES  1984  ...        0.47       28.31   10위\n",
              "\n",
              "[10 rows x 11 columns]"
            ]
          },
          "metadata": {},
          "execution_count": 41
        }
      ]
    },
    {
      "cell_type": "code",
      "metadata": {
        "colab": {
          "base_uri": "https://localhost:8080/",
          "height": 643
        },
        "id": "kd72IykOxjaD",
        "outputId": "6c1bfb64-0a1d-4631-c066-18fd7ce331c1"
      },
      "source": [
        "plt.figure(figsize=(32,10))\n",
        "a = sns.barplot(x='rank', y='Total_Sales', data=Sales_top10)\n",
        "i = 0\n",
        "for name, year, val, platform, publisher in zip(Sales_top10.Name, Sales_top10.Year, Sales_top10.Total_Sales, Sales_top10.Platform, Sales_top10.Publisher):\n",
        "  a.text(x=i, y=val+2, s=(name), color='black', ha='center', fontsize=15)\n",
        "  a.text(x=i, y=val-8, s=(str(year) + '년' + '\\n' + publisher + '\\n' + platform), color='black', ha='center', fontsize=15)\n",
        "  i+=1\n",
        "a.set_title('판매량 역대 TOP10 게임', fontsize=28)\n",
        "plt.xticks(fontsize=14)\n",
        "plt.yticks(fontsize=14)\n",
        "plt.xlabel('게임명', fontsize=16)\n",
        "plt.ylabel('판매량', fontsize=16)\n",
        "plt.show()"
      ],
      "execution_count": 42,
      "outputs": [
        {
          "output_type": "display_data",
          "data": {
            "image/png": "[encoded data removed]",
            "text/plain": [
              "<Figure size 2304x720 with 1 Axes>"
            ]
          },
          "metadata": {}
        }
      ]
    },
    {
      "cell_type": "code",
      "metadata": {
        "id": "83X4i-2kzgx-",
        "colab": {
          "base_uri": "https://localhost:8080/",
          "height": 455
        },
        "outputId": "a9e536a8-c0d2-4937-ac8a-aadff47897ba"
      },
      "source": [
        "Top_Sale=df2[['Platform','Year','Genre','Publisher','NA_Sales','EU_Sales','JP_Sales','Other_Sales']]\n",
        "Top_Sale['Total_Sales']=df2['NA_Sales']+df2['EU_Sales']+df2['JP_Sales']+df2['Other_Sales']\n",
        "Top_Sale=Top_Sale.sort_values(by=['Total_Sales'], axis=0, ascending=False)\n",
        "Top_Sale[0:10]"
      ],
      "execution_count": 43,
      "outputs": [
        {
          "output_type": "stream",
          "name": "stderr",
          "text": [
            "/usr/local/lib/python3.7/dist-packages/ipykernel_launcher.py:2: SettingWithCopyWarning: \n",
            "A value is trying to be set on a copy of a slice from a DataFrame.\n",
            "Try using .loc[row_indexer,col_indexer] = value instead\n",
            "\n",
            "See the caveats in the documentation: https://pandas.pydata.org/pandas-docs/stable/user_guide/indexing.html#returning-a-view-versus-a-copy\n",
            "  \n"
          ]
        },
        {
          "output_type": "execute_result",
          "data": {
            "text/html": [
              "<div>\n",
              "<style scoped>\n",
              "    .dataframe tbody tr th:only-of-type {\n",
              "        vertical-align: middle;\n",
              "    }\n",
              "\n",
              "    .dataframe tbody tr th {\n",
              "        vertical-align: top;\n",
              "    }\n",
              "\n",
              "    .dataframe thead th {\n",
              "        text-align: right;\n",
              "    }\n",
              "</style>\n",
              "<table border=\"1\" class=\"dataframe\">\n",
              "  <thead>\n",
              "    <tr style=\"text-align: right;\">\n",
              "      <th></th>\n",
              "      <th>Platform</th>\n",
              "      <th>Year</th>\n",
              "      <th>Genre</th>\n",
              "      <th>Publisher</th>\n",
              "      <th>NA_Sales</th>\n",
              "      <th>EU_Sales</th>\n",
              "      <th>JP_Sales</th>\n",
              "      <th>Other_Sales</th>\n",
              "      <th>Total_Sales</th>\n",
              "    </tr>\n",
              "  </thead>\n",
              "  <tbody>\n",
              "    <tr>\n",
              "      <th>2909</th>\n",
              "      <td>Wii</td>\n",
              "      <td>2006</td>\n",
              "      <td>Sports</td>\n",
              "      <td>Nintendo</td>\n",
              "      <td>41.49</td>\n",
              "      <td>29.02</td>\n",
              "      <td>3.77</td>\n",
              "      <td>8.46</td>\n",
              "      <td>82.74</td>\n",
              "    </tr>\n",
              "    <tr>\n",
              "      <th>4200</th>\n",
              "      <td>NES</td>\n",
              "      <td>1985</td>\n",
              "      <td>Platform</td>\n",
              "      <td>Nintendo</td>\n",
              "      <td>29.08</td>\n",
              "      <td>3.58</td>\n",
              "      <td>6.81</td>\n",
              "      <td>0.77</td>\n",
              "      <td>40.24</td>\n",
              "    </tr>\n",
              "    <tr>\n",
              "      <th>12580</th>\n",
              "      <td>Wii</td>\n",
              "      <td>2008</td>\n",
              "      <td>Racing</td>\n",
              "      <td>Nintendo</td>\n",
              "      <td>15.85</td>\n",
              "      <td>12.88</td>\n",
              "      <td>3.79</td>\n",
              "      <td>3.31</td>\n",
              "      <td>35.83</td>\n",
              "    </tr>\n",
              "    <tr>\n",
              "      <th>3353</th>\n",
              "      <td>Wii</td>\n",
              "      <td>2009</td>\n",
              "      <td>Sports</td>\n",
              "      <td>Nintendo</td>\n",
              "      <td>15.75</td>\n",
              "      <td>11.01</td>\n",
              "      <td>3.28</td>\n",
              "      <td>2.96</td>\n",
              "      <td>33.00</td>\n",
              "    </tr>\n",
              "    <tr>\n",
              "      <th>7830</th>\n",
              "      <td>GB</td>\n",
              "      <td>1996</td>\n",
              "      <td>Role-Playing</td>\n",
              "      <td>Nintendo</td>\n",
              "      <td>11.27</td>\n",
              "      <td>8.89</td>\n",
              "      <td>10.22</td>\n",
              "      <td>1.00</td>\n",
              "      <td>31.38</td>\n",
              "    </tr>\n",
              "    <tr>\n",
              "      <th>1204</th>\n",
              "      <td>GB</td>\n",
              "      <td>1989</td>\n",
              "      <td>Puzzle</td>\n",
              "      <td>Nintendo</td>\n",
              "      <td>23.20</td>\n",
              "      <td>2.26</td>\n",
              "      <td>4.22</td>\n",
              "      <td>0.58</td>\n",
              "      <td>30.26</td>\n",
              "    </tr>\n",
              "    <tr>\n",
              "      <th>6938</th>\n",
              "      <td>DS</td>\n",
              "      <td>2006</td>\n",
              "      <td>Platform</td>\n",
              "      <td>Nintendo</td>\n",
              "      <td>11.38</td>\n",
              "      <td>9.23</td>\n",
              "      <td>6.50</td>\n",
              "      <td>2.90</td>\n",
              "      <td>30.01</td>\n",
              "    </tr>\n",
              "    <tr>\n",
              "      <th>3015</th>\n",
              "      <td>Wii</td>\n",
              "      <td>2006</td>\n",
              "      <td>Misc</td>\n",
              "      <td>Nintendo</td>\n",
              "      <td>14.03</td>\n",
              "      <td>9.20</td>\n",
              "      <td>2.93</td>\n",
              "      <td>2.85</td>\n",
              "      <td>29.01</td>\n",
              "    </tr>\n",
              "    <tr>\n",
              "      <th>16532</th>\n",
              "      <td>Wii</td>\n",
              "      <td>2009</td>\n",
              "      <td>Platform</td>\n",
              "      <td>Nintendo</td>\n",
              "      <td>14.59</td>\n",
              "      <td>7.06</td>\n",
              "      <td>4.70</td>\n",
              "      <td>2.26</td>\n",
              "      <td>28.61</td>\n",
              "    </tr>\n",
              "    <tr>\n",
              "      <th>10489</th>\n",
              "      <td>NES</td>\n",
              "      <td>1984</td>\n",
              "      <td>Shooter</td>\n",
              "      <td>Nintendo</td>\n",
              "      <td>26.93</td>\n",
              "      <td>0.63</td>\n",
              "      <td>0.28</td>\n",
              "      <td>0.47</td>\n",
              "      <td>28.31</td>\n",
              "    </tr>\n",
              "  </tbody>\n",
              "</table>\n",
              "</div>"
            ],
            "text/plain": [
              "      Platform  Year         Genre  ... JP_Sales  Other_Sales  Total_Sales\n",
              "2909       Wii  2006        Sports  ...     3.77         8.46        82.74\n",
              "4200       NES  1985      Platform  ...     6.81         0.77        40.24\n",
              "12580      Wii  2008        Racing  ...     3.79         3.31        35.83\n",
              "3353       Wii  2009        Sports  ...     3.28         2.96        33.00\n",
              "7830        GB  1996  Role-Playing  ...    10.22         1.00        31.38\n",
              "1204        GB  1989        Puzzle  ...     4.22         0.58        30.26\n",
              "6938        DS  2006      Platform  ...     6.50         2.90        30.01\n",
              "3015       Wii  2006          Misc  ...     2.93         2.85        29.01\n",
              "16532      Wii  2009      Platform  ...     4.70         2.26        28.61\n",
              "10489      NES  1984       Shooter  ...     0.28         0.47        28.31\n",
              "\n",
              "[10 rows x 9 columns]"
            ]
          },
          "metadata": {},
          "execution_count": 43
        }
      ]
    },
    {
      "cell_type": "markdown",
      "metadata": {
        "id": "iOlJVZiKgP6h"
      },
      "source": [
        "**장르별 출고량**"
      ]
    },
    {
      "cell_type": "code",
      "metadata": {
        "colab": {
          "base_uri": "https://localhost:8080/",
          "height": 481
        },
        "id": "gb-PhJI9gESK",
        "outputId": "6fdddf90-214c-49a2-eb23-2a4a4783890c"
      },
      "source": [
        "Top_Sale_Genre=Top_Sale.groupby(['Genre']).sum()\n",
        "Top_Sale_Genre=Top_Sale_Genre.sort_values(by=['Total_Sales'], axis=0, ascending=False)\n",
        "Genre=Top_Sale_Genre.index\n",
        "\n",
        "plt.figure(figsize=(8, 8))\n",
        "plt.title('Genre & Total_Sales')\n",
        "plt.pie(Top_Sale_Genre['Total_Sales'], labels=Genre, autopct='%.1f%%',colors = ['#ff9999', '#ffc000', '#8fd9b6', '#d395d0','lightgray','#ED553B','lightblue','#3CAEA3','#0072B2','#7868E6','#92967D','#6B011F'])\n",
        "\n",
        "plt.show()"
      ],
      "execution_count": 44,
      "outputs": [
        {
          "output_type": "display_data",
          "data": {
            "image/png": "[encoded data removed]",
            "text/plain": [
              "<Figure size 576x576 with 1 Axes>"
            ]
          },
          "metadata": {}
        }
      ]
    },
    {
      "cell_type": "markdown",
      "metadata": {
        "id": "PtkMNKKwgbzR"
      },
      "source": [
        "플랫폼별 출고량"
      ]
    },
    {
      "cell_type": "code",
      "metadata": {
        "colab": {
          "base_uri": "https://localhost:8080/",
          "height": 481
        },
        "id": "guMNgRsqgGiq",
        "outputId": "4680eab6-0456-4d26-eca6-feddd5345569"
      },
      "source": [
        "Top_Sale_Platform=Top_Sale.groupby(['Platform']).sum()\n",
        "Top_Sale_Platform=Top_Sale_Platform.sort_values(by=['Total_Sales'], axis=0, ascending=False)\n",
        "Platform=Top_Sale_Platform.index\n",
        "\n",
        "plt.figure(figsize=(8, 8))\n",
        "plt.title('Platform & Total_Sales')\n",
        "plt.pie(Top_Sale_Platform['Total_Sales'], labels=Platform, autopct='%.1f%%',colors = ['#ff9999', '#ffc000', '#8fd9b6', '#d395d0','lightgray','#ED553B','lightblue','#3CAEA3','#0072B2','#7868E6','#92967D','#6B011F'])\n",
        "\n",
        "plt.show()"
      ],
      "execution_count": 45,
      "outputs": [
        {
          "output_type": "display_data",
          "data": {
            "image/png": "[encoded data removed]",
            "text/plain": [
              "<Figure size 576x576 with 1 Axes>"
            ]
          },
          "metadata": {}
        }
      ]
    },
    {
      "cell_type": "markdown",
      "metadata": {
        "id": "9gccPM89hwOR"
      },
      "source": [
        ""
      ]
    }
  ]
}